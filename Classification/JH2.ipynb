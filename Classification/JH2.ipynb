{
 "cells": [
  {
   "cell_type": "code",
   "execution_count": 2,
   "id": "e7129aa7",
   "metadata": {},
   "outputs": [
    {
     "name": "stderr",
     "output_type": "stream",
     "text": [
      "/home/ubuntu/anaconda3/envs/pytorch1.4_p36/lib/python3.6/site-packages/ipykernel/__main__.py:1: UserWarning: Config option `use_jedi` not recognized by `IPCompleter`.\n",
      "  if __name__ == '__main__':\n"
     ]
    }
   ],
   "source": [
    "%config Completer.use_jedi = False"
   ]
  },
  {
   "cell_type": "code",
   "execution_count": 3,
   "id": "7a8c2069",
   "metadata": {},
   "outputs": [
    {
     "name": "stderr",
     "output_type": "stream",
     "text": [
      "/home/ubuntu/anaconda3/envs/pytorch1.4_p36/lib/python3.6/site-packages/tensorflow_addons/utils/ensure_tf_install.py:67: UserWarning: Tensorflow Addons supports using Python ops for all Tensorflow versions above or equal to 2.4.0 and strictly below 2.7.0 (nightly versions are not supported). \n",
      " The versions of TensorFlow you are currently using is 2.3.0 and is not supported. \n",
      "Some things might work, some things might not.\n",
      "If you were to encounter a bug, do not file an issue.\n",
      "If you want to make sure you're using a tested and supported configuration, either change the TensorFlow version or the TensorFlow Addons's version. \n",
      "You can find the compatibility matrix in TensorFlow Addon's readme:\n",
      "https://github.com/tensorflow/addons\n",
      "  UserWarning,\n"
     ]
    }
   ],
   "source": [
    "import os\n",
    "import sys\n",
    "sys.path.append(os.path.dirname(os.path.dirname(os.path.abspath('models.py') ) ))\n",
    "import pandas as pd\n",
    "from transformers import BertTokenizer\n",
    "import six\n",
    "import re\n",
    "import json\n",
    "import numpy as np\n",
    "import time\n",
    "from tqdm import tqdm\n",
    "from sklearn.model_selection import train_test_split\n",
    "from sklearn.metrics import classification_report\n",
    "from seqeval.metrics import classification_report as classification_report_seqeval\n",
    "\n",
    "import tensorflow as tf\n",
    "from tensorflow import keras\n",
    "from transformers import TFElectraModel, TFBertModel, AutoTokenizer\n",
    "from tensorflow.keras.layers import LSTM, Embedding, Dense, TimeDistributed, Dropout, Bidirectional, Activation, Lambda, Input\n",
    "from tf2crf import CRF, ModelWithCRFLoss\n",
    "\n",
    "import argparse\n",
    "import time\n",
    "from model.models import TFElectraClassifier\n",
    "import nltk\n",
    "import openpyxl\n",
    "import gc\n",
    "\n",
    "import random\n",
    "from tensorflow.keras.utils import to_categorical"
   ]
  },
  {
   "cell_type": "code",
   "execution_count": 4,
   "id": "83ae7b9c",
   "metadata": {},
   "outputs": [
    {
     "name": "stderr",
     "output_type": "stream",
     "text": [
      "/home/ubuntu/anaconda3/envs/pytorch1.4_p36/lib/python3.6/site-packages/transformers/tokenization_utils_base.py:1646: FutureWarning: Calling BertTokenizer.from_pretrained() with the path to a single file or url is deprecated and won't be possible anymore in v5. Use a model identifier or the path to a directory instead.\n",
      "  FutureWarning,\n"
     ]
    }
   ],
   "source": [
    "tokenizer = BertTokenizer.from_pretrained('../vocab-NER.txt', do_lower_case=False)\n",
    "kos_tokenizer = AutoTokenizer.from_pretrained(\"allenai/scibert_scivocab_uncased\")"
   ]
  },
  {
   "cell_type": "code",
   "execution_count": 5,
   "id": "00600dc6",
   "metadata": {},
   "outputs": [
    {
     "data": {
      "text/html": [
       "<div>\n",
       "<style scoped>\n",
       "    .dataframe tbody tr th:only-of-type {\n",
       "        vertical-align: middle;\n",
       "    }\n",
       "\n",
       "    .dataframe tbody tr th {\n",
       "        vertical-align: top;\n",
       "    }\n",
       "\n",
       "    .dataframe thead th {\n",
       "        text-align: right;\n",
       "    }\n",
       "</style>\n",
       "<table border=\"1\" class=\"dataframe\">\n",
       "  <thead>\n",
       "    <tr style=\"text-align: right;\">\n",
       "      <th></th>\n",
       "      <th>code</th>\n",
       "    </tr>\n",
       "  </thead>\n",
       "  <tbody>\n",
       "    <tr>\n",
       "      <th>0</th>\n",
       "      <td>EA01</td>\n",
       "    </tr>\n",
       "    <tr>\n",
       "      <th>1</th>\n",
       "      <td>EA02</td>\n",
       "    </tr>\n",
       "    <tr>\n",
       "      <th>2</th>\n",
       "      <td>EA03</td>\n",
       "    </tr>\n",
       "    <tr>\n",
       "      <th>3</th>\n",
       "      <td>EA04</td>\n",
       "    </tr>\n",
       "    <tr>\n",
       "      <th>4</th>\n",
       "      <td>EA05</td>\n",
       "    </tr>\n",
       "    <tr>\n",
       "      <th>...</th>\n",
       "      <td>...</td>\n",
       "    </tr>\n",
       "    <tr>\n",
       "      <th>140</th>\n",
       "      <td>ND05</td>\n",
       "    </tr>\n",
       "    <tr>\n",
       "      <th>141</th>\n",
       "      <td>ND06</td>\n",
       "    </tr>\n",
       "    <tr>\n",
       "      <th>142</th>\n",
       "      <td>ND07</td>\n",
       "    </tr>\n",
       "    <tr>\n",
       "      <th>143</th>\n",
       "      <td>ND08</td>\n",
       "    </tr>\n",
       "    <tr>\n",
       "      <th>144</th>\n",
       "      <td>ND12</td>\n",
       "    </tr>\n",
       "  </tbody>\n",
       "</table>\n",
       "<p>145 rows × 1 columns</p>\n",
       "</div>"
      ],
      "text/plain": [
       "     code\n",
       "0    EA01\n",
       "1    EA02\n",
       "2    EA03\n",
       "3    EA04\n",
       "4    EA05\n",
       "..    ...\n",
       "140  ND05\n",
       "141  ND06\n",
       "142  ND07\n",
       "143  ND08\n",
       "144  ND12\n",
       "\n",
       "[145 rows x 1 columns]"
      ]
     },
     "execution_count": 5,
     "metadata": {},
     "output_type": "execute_result"
    }
   ],
   "source": [
    "label_file = pd.read_csv('../model/labels.txt', header=None, names=['code'], index_col=False)\n",
    "label_file"
   ]
  },
  {
   "cell_type": "code",
   "execution_count": 6,
   "id": "85b17a63",
   "metadata": {
    "collapsed": true
   },
   "outputs": [
    {
     "data": {
      "text/plain": [
       "{0: 'EA01',\n",
       " 1: 'EA02',\n",
       " 2: 'EA03',\n",
       " 3: 'EA04',\n",
       " 4: 'EA05',\n",
       " 5: 'EA06',\n",
       " 6: 'EA07',\n",
       " 7: 'EA08',\n",
       " 8: 'EA09',\n",
       " 9: 'EA10',\n",
       " 10: 'EA11',\n",
       " 11: 'EA13',\n",
       " 12: 'EA14',\n",
       " 13: 'EA15',\n",
       " 14: 'EB01',\n",
       " 15: 'EB02',\n",
       " 16: 'EB03',\n",
       " 17: 'EB04',\n",
       " 18: 'EB05',\n",
       " 19: 'EB06',\n",
       " 20: 'EB07',\n",
       " 21: 'EC01',\n",
       " 22: 'EC02',\n",
       " 23: 'EC03',\n",
       " 24: 'EC04',\n",
       " 25: 'EC05',\n",
       " 26: 'EC06',\n",
       " 27: 'EC07',\n",
       " 28: 'EC09',\n",
       " 29: 'ED01',\n",
       " 30: 'ED02',\n",
       " 31: 'ED03',\n",
       " 32: 'ED04',\n",
       " 33: 'ED05',\n",
       " 34: 'ED06',\n",
       " 35: 'ED07',\n",
       " 36: 'ED08',\n",
       " 37: 'ED09',\n",
       " 38: 'ED10',\n",
       " 39: 'ED11',\n",
       " 40: 'EE01',\n",
       " 41: 'EE02',\n",
       " 42: 'EE03',\n",
       " 43: 'EE04',\n",
       " 44: 'EE05',\n",
       " 45: 'EE06',\n",
       " 46: 'EE07',\n",
       " 47: 'EE08',\n",
       " 48: 'EE09',\n",
       " 49: 'EE10',\n",
       " 50: 'EE11',\n",
       " 51: 'EE12',\n",
       " 52: 'EE13',\n",
       " 53: 'EE14',\n",
       " 54: 'EF01',\n",
       " 55: 'EF02',\n",
       " 56: 'EF04',\n",
       " 57: 'EF05',\n",
       " 58: 'EF06',\n",
       " 59: 'EG04',\n",
       " 60: 'EG06',\n",
       " 61: 'EG07',\n",
       " 62: 'EH01',\n",
       " 63: 'EH02',\n",
       " 64: 'EH03',\n",
       " 65: 'EH06',\n",
       " 66: 'EH07',\n",
       " 67: 'EH09',\n",
       " 68: 'EH10',\n",
       " 69: 'EH11',\n",
       " 70: 'EI01',\n",
       " 71: 'EI02',\n",
       " 72: 'EI03',\n",
       " 73: 'EI04',\n",
       " 74: 'EI05',\n",
       " 75: 'EI06',\n",
       " 76: 'EI08',\n",
       " 77: 'EI09',\n",
       " 78: 'EI11',\n",
       " 79: 'EI12',\n",
       " 80: 'LA01',\n",
       " 81: 'LA02',\n",
       " 82: 'LA03',\n",
       " 83: 'LA04',\n",
       " 84: 'LA05',\n",
       " 85: 'LA06',\n",
       " 86: 'LA07',\n",
       " 87: 'LA08',\n",
       " 88: 'LA09',\n",
       " 89: 'LB01',\n",
       " 90: 'LB02',\n",
       " 91: 'LB03',\n",
       " 92: 'LB04',\n",
       " 93: 'LB05',\n",
       " 94: 'LB06',\n",
       " 95: 'LB07',\n",
       " 96: 'LB08',\n",
       " 97: 'LB09',\n",
       " 98: 'LB10',\n",
       " 99: 'LB12',\n",
       " 100: 'LB13',\n",
       " 101: 'LB15',\n",
       " 102: 'LB16',\n",
       " 103: 'LB17',\n",
       " 104: 'LB18',\n",
       " 105: 'LB19',\n",
       " 106: 'LB20',\n",
       " 107: 'LC01',\n",
       " 108: 'LC02',\n",
       " 109: 'LC03',\n",
       " 110: 'LC04',\n",
       " 111: 'LC05',\n",
       " 112: 'LC06',\n",
       " 113: 'LC07',\n",
       " 114: 'LC08',\n",
       " 115: 'LC09',\n",
       " 116: 'LC10',\n",
       " 117: 'LC11',\n",
       " 118: 'LC13',\n",
       " 119: 'LC14',\n",
       " 120: 'LC15',\n",
       " 121: 'NA01',\n",
       " 122: 'NA02',\n",
       " 123: 'NA05',\n",
       " 124: 'NA09',\n",
       " 125: 'NB01',\n",
       " 126: 'NB02',\n",
       " 127: 'NB04',\n",
       " 128: 'NB05',\n",
       " 129: 'NB06',\n",
       " 130: 'NC01',\n",
       " 131: 'NC02',\n",
       " 132: 'NC03',\n",
       " 133: 'NC04',\n",
       " 134: 'NC05',\n",
       " 135: 'NC08',\n",
       " 136: 'NC09',\n",
       " 137: 'NC10',\n",
       " 138: 'ND01',\n",
       " 139: 'ND04',\n",
       " 140: 'ND05',\n",
       " 141: 'ND06',\n",
       " 142: 'ND07',\n",
       " 143: 'ND08',\n",
       " 144: 'ND12'}"
      ]
     },
     "execution_count": 6,
     "metadata": {},
     "output_type": "execute_result"
    }
   ],
   "source": [
    "idx2lab = {key: label_file['code'][key] for key in range(len(label_file))}\n",
    "idx2lab\n",
    "#label 144 개"
   ]
  },
  {
   "cell_type": "code",
   "execution_count": 8,
   "id": "0f0a0e30",
   "metadata": {
    "collapsed": true
   },
   "outputs": [
    {
     "data": {
      "text/plain": [
       "{'EA01': 0,\n",
       " 'EA02': 1,\n",
       " 'EA03': 2,\n",
       " 'EA04': 3,\n",
       " 'EA05': 4,\n",
       " 'EA06': 5,\n",
       " 'EA07': 6,\n",
       " 'EA08': 7,\n",
       " 'EA09': 8,\n",
       " 'EA10': 9,\n",
       " 'EA11': 10,\n",
       " 'EA13': 11,\n",
       " 'EA14': 12,\n",
       " 'EA15': 13,\n",
       " 'EB01': 14,\n",
       " 'EB02': 15,\n",
       " 'EB03': 16,\n",
       " 'EB04': 17,\n",
       " 'EB05': 18,\n",
       " 'EB06': 19,\n",
       " 'EB07': 20,\n",
       " 'EC01': 21,\n",
       " 'EC02': 22,\n",
       " 'EC03': 23,\n",
       " 'EC04': 24,\n",
       " 'EC05': 25,\n",
       " 'EC06': 26,\n",
       " 'EC07': 27,\n",
       " 'EC09': 28,\n",
       " 'ED01': 29,\n",
       " 'ED02': 30,\n",
       " 'ED03': 31,\n",
       " 'ED04': 32,\n",
       " 'ED05': 33,\n",
       " 'ED06': 34,\n",
       " 'ED07': 35,\n",
       " 'ED08': 36,\n",
       " 'ED09': 37,\n",
       " 'ED10': 38,\n",
       " 'ED11': 39,\n",
       " 'EE01': 40,\n",
       " 'EE02': 41,\n",
       " 'EE03': 42,\n",
       " 'EE04': 43,\n",
       " 'EE05': 44,\n",
       " 'EE06': 45,\n",
       " 'EE07': 46,\n",
       " 'EE08': 47,\n",
       " 'EE09': 48,\n",
       " 'EE10': 49,\n",
       " 'EE11': 50,\n",
       " 'EE12': 51,\n",
       " 'EE13': 52,\n",
       " 'EE14': 53,\n",
       " 'EF01': 54,\n",
       " 'EF02': 55,\n",
       " 'EF04': 56,\n",
       " 'EF05': 57,\n",
       " 'EF06': 58,\n",
       " 'EG04': 59,\n",
       " 'EG06': 60,\n",
       " 'EG07': 61,\n",
       " 'EH01': 62,\n",
       " 'EH02': 63,\n",
       " 'EH03': 64,\n",
       " 'EH06': 65,\n",
       " 'EH07': 66,\n",
       " 'EH09': 67,\n",
       " 'EH10': 68,\n",
       " 'EH11': 69,\n",
       " 'EI01': 70,\n",
       " 'EI02': 71,\n",
       " 'EI03': 72,\n",
       " 'EI04': 73,\n",
       " 'EI05': 74,\n",
       " 'EI06': 75,\n",
       " 'EI08': 76,\n",
       " 'EI09': 77,\n",
       " 'EI11': 78,\n",
       " 'EI12': 79,\n",
       " 'LA01': 80,\n",
       " 'LA02': 81,\n",
       " 'LA03': 82,\n",
       " 'LA04': 83,\n",
       " 'LA05': 84,\n",
       " 'LA06': 85,\n",
       " 'LA07': 86,\n",
       " 'LA08': 87,\n",
       " 'LA09': 88,\n",
       " 'LB01': 89,\n",
       " 'LB02': 90,\n",
       " 'LB03': 91,\n",
       " 'LB04': 92,\n",
       " 'LB05': 93,\n",
       " 'LB06': 94,\n",
       " 'LB07': 95,\n",
       " 'LB08': 96,\n",
       " 'LB09': 97,\n",
       " 'LB10': 98,\n",
       " 'LB12': 99,\n",
       " 'LB13': 100,\n",
       " 'LB15': 101,\n",
       " 'LB16': 102,\n",
       " 'LB17': 103,\n",
       " 'LB18': 104,\n",
       " 'LB19': 105,\n",
       " 'LB20': 106,\n",
       " 'LC01': 107,\n",
       " 'LC02': 108,\n",
       " 'LC03': 109,\n",
       " 'LC04': 110,\n",
       " 'LC05': 111,\n",
       " 'LC06': 112,\n",
       " 'LC07': 113,\n",
       " 'LC08': 114,\n",
       " 'LC09': 115,\n",
       " 'LC10': 116,\n",
       " 'LC11': 117,\n",
       " 'LC13': 118,\n",
       " 'LC14': 119,\n",
       " 'LC15': 120,\n",
       " 'NA01': 121,\n",
       " 'NA02': 122,\n",
       " 'NA05': 123,\n",
       " 'NA09': 124,\n",
       " 'NB01': 125,\n",
       " 'NB02': 126,\n",
       " 'NB04': 127,\n",
       " 'NB05': 128,\n",
       " 'NB06': 129,\n",
       " 'NC01': 130,\n",
       " 'NC02': 131,\n",
       " 'NC03': 132,\n",
       " 'NC04': 133,\n",
       " 'NC05': 134,\n",
       " 'NC08': 135,\n",
       " 'NC09': 136,\n",
       " 'NC10': 137,\n",
       " 'ND01': 138,\n",
       " 'ND04': 139,\n",
       " 'ND05': 140,\n",
       " 'ND06': 141,\n",
       " 'ND07': 142,\n",
       " 'ND08': 143,\n",
       " 'ND12': 144}"
      ]
     },
     "execution_count": 8,
     "metadata": {},
     "output_type": "execute_result"
    }
   ],
   "source": [
    "lab2idx = {value:key for key,value in idx2lab.items()}\n",
    "lab2idx"
   ]
  },
  {
   "cell_type": "code",
   "execution_count": 9,
   "id": "c7302f39",
   "metadata": {},
   "outputs": [
    {
     "data": {
      "text/plain": [
       "1298573"
      ]
     },
     "execution_count": 9,
     "metadata": {},
     "output_type": "execute_result"
    }
   ],
   "source": [
    "df = pd.read_csv(\"/home/ubuntu/JIHO/NTIS/data/keywords_code_data.csv\",index_col=False)\n",
    "len(df)"
   ]
  },
  {
   "cell_type": "code",
   "execution_count": 12,
   "id": "e710549a",
   "metadata": {},
   "outputs": [
    {
     "data": {
      "text/html": [
       "<div>\n",
       "<style scoped>\n",
       "    .dataframe tbody tr th:only-of-type {\n",
       "        vertical-align: middle;\n",
       "    }\n",
       "\n",
       "    .dataframe tbody tr th {\n",
       "        vertical-align: top;\n",
       "    }\n",
       "\n",
       "    .dataframe thead th {\n",
       "        text-align: right;\n",
       "    }\n",
       "</style>\n",
       "<table border=\"1\" class=\"dataframe\">\n",
       "  <thead>\n",
       "    <tr style=\"text-align: right;\">\n",
       "      <th></th>\n",
       "      <th>Unnamed: 0</th>\n",
       "      <th>keyword</th>\n",
       "      <th>code</th>\n",
       "    </tr>\n",
       "  </thead>\n",
       "  <tbody>\n",
       "    <tr>\n",
       "      <th>0</th>\n",
       "      <td>0</td>\n",
       "      <td>Hydrogen</td>\n",
       "      <td>EC01</td>\n",
       "    </tr>\n",
       "    <tr>\n",
       "      <th>1</th>\n",
       "      <td>1</td>\n",
       "      <td>Purification</td>\n",
       "      <td>EC01</td>\n",
       "    </tr>\n",
       "    <tr>\n",
       "      <th>2</th>\n",
       "      <td>2</td>\n",
       "      <td>Fuel cell</td>\n",
       "      <td>EC01</td>\n",
       "    </tr>\n",
       "    <tr>\n",
       "      <th>3</th>\n",
       "      <td>3</td>\n",
       "      <td>Silica</td>\n",
       "      <td>EC01</td>\n",
       "    </tr>\n",
       "    <tr>\n",
       "      <th>4</th>\n",
       "      <td>4</td>\n",
       "      <td>Separation</td>\n",
       "      <td>EC01</td>\n",
       "    </tr>\n",
       "  </tbody>\n",
       "</table>\n",
       "</div>"
      ],
      "text/plain": [
       "   Unnamed: 0       keyword  code\n",
       "0           0      Hydrogen  EC01\n",
       "1           1  Purification  EC01\n",
       "2           2     Fuel cell  EC01\n",
       "3           3        Silica  EC01\n",
       "4           4    Separation  EC01"
      ]
     },
     "execution_count": 12,
     "metadata": {},
     "output_type": "execute_result"
    }
   ],
   "source": [
    "df.head()"
   ]
  },
  {
   "cell_type": "code",
   "execution_count": 41,
   "id": "cbb5d0e1",
   "metadata": {},
   "outputs": [],
   "source": [
    "df_drop = df.dropna(axis=0)"
   ]
  },
  {
   "cell_type": "code",
   "execution_count": 40,
   "id": "569ac32a",
   "metadata": {},
   "outputs": [
    {
     "data": {
      "text/plain": [
       "1298573"
      ]
     },
     "execution_count": 40,
     "metadata": {},
     "output_type": "execute_result"
    }
   ],
   "source": [
    "len(df)"
   ]
  },
  {
   "cell_type": "code",
   "execution_count": 37,
   "id": "8831cc97",
   "metadata": {},
   "outputs": [
    {
     "name": "stderr",
     "output_type": "stream",
     "text": [
      "1522it [00:00, 7620.48it/s]"
     ]
    },
    {
     "name": "stdout",
     "output_type": "stream",
     "text": [
      "nan\n",
      "nan\n",
      "nan\n",
      "nan\n",
      "nan\n",
      "nan\n",
      "nan\n",
      "nan\n",
      "nan\n",
      "nan\n",
      "nan\n",
      "nan\n",
      "nan\n",
      "nan\n",
      "nan\n",
      "nan\n",
      "nan\n",
      "nan\n",
      "nan\n",
      "nan\n"
     ]
    },
    {
     "name": "stderr",
     "output_type": "stream",
     "text": [
      "3059it [00:00, 7656.81it/s]"
     ]
    },
    {
     "name": "stdout",
     "output_type": "stream",
     "text": [
      "nan\n",
      "nan\n",
      "nan\n",
      "nan\n",
      "nan\n",
      "nan\n",
      "nan\n",
      "nan\n",
      "nan\n",
      "nan\n",
      "nan\n",
      "nan\n",
      "nan\n",
      "nan\n",
      "nan\n",
      "nan\n",
      "nan\n",
      "nan\n",
      "nan\n",
      "nan\n",
      "nan\n",
      "nan\n",
      "nan\n",
      "nan\n"
     ]
    },
    {
     "name": "stderr",
     "output_type": "stream",
     "text": [
      "4595it [00:00, 7653.88it/s]"
     ]
    },
    {
     "name": "stdout",
     "output_type": "stream",
     "text": [
      "nan\n",
      "nan\n",
      "nan\n",
      "nan\n",
      "nan\n",
      "nan\n",
      "nan\n",
      "nan\n",
      "nan\n",
      "nan\n",
      "nan\n",
      "nan\n",
      "nan\n",
      "nan\n",
      "nan\n",
      "nan\n",
      "nan\n",
      "nan\n",
      "nan\n",
      "nan\n",
      "nan\n",
      "nan\n",
      "nan\n",
      "nan\n",
      "nan\n",
      "nan\n",
      "nan\n",
      "nan\n",
      "nan\n",
      "nan\n",
      "nan\n",
      "nan\n",
      "nan\n",
      "nan\n",
      "nan\n",
      "nan\n",
      "nan\n",
      "nan\n"
     ]
    },
    {
     "name": "stderr",
     "output_type": "stream",
     "text": [
      "6891it [00:00, 7639.68it/s]"
     ]
    },
    {
     "name": "stdout",
     "output_type": "stream",
     "text": [
      "nan\n",
      "nan\n",
      "nan\n",
      "nan\n",
      "nan\n",
      "nan\n",
      "nan\n",
      "nan\n",
      "nan\n",
      "nan\n",
      "nan\n",
      "nan\n",
      "nan\n",
      "nan\n",
      "nan\n",
      "nan\n",
      "nan\n",
      "nan\n",
      "nan\n",
      "nan\n",
      "nan\n",
      "nan\n",
      "nan\n"
     ]
    },
    {
     "name": "stderr",
     "output_type": "stream",
     "text": [
      "8431it [00:01, 7666.99it/s]"
     ]
    },
    {
     "name": "stdout",
     "output_type": "stream",
     "text": [
      "nan\n",
      "nan\n",
      "nan\n",
      "nan\n",
      "nan\n",
      "nan\n",
      "nan\n",
      "nan\n",
      "nan\n",
      "nan\n",
      "nan\n",
      "nan\n",
      "nan\n",
      "nan\n",
      "nan\n",
      "nan\n",
      "nan\n",
      "nan\n",
      "nan\n",
      "nan\n",
      "nan\n",
      "nan\n"
     ]
    },
    {
     "name": "stderr",
     "output_type": "stream",
     "text": [
      "9973it [00:01, 7690.84it/s]"
     ]
    },
    {
     "name": "stdout",
     "output_type": "stream",
     "text": [
      "nan\n",
      "nan\n",
      "nan\n",
      "nan\n",
      "nan\n",
      "nan\n",
      "nan\n",
      "nan\n",
      "nan\n",
      "nan\n",
      "nan\n",
      "nan\n",
      "nan\n",
      "nan\n",
      "nan\n",
      "nan\n"
     ]
    },
    {
     "name": "stderr",
     "output_type": "stream",
     "text": [
      "17824it [00:02, 7842.75it/s]"
     ]
    },
    {
     "name": "stdout",
     "output_type": "stream",
     "text": [
      "nan\n"
     ]
    },
    {
     "name": "stderr",
     "output_type": "stream",
     "text": [
      "20177it [00:02, 7814.98it/s]"
     ]
    },
    {
     "name": "stdout",
     "output_type": "stream",
     "text": [
      "nan\n"
     ]
    },
    {
     "name": "stderr",
     "output_type": "stream",
     "text": [
      "22526it [00:02, 7807.53it/s]"
     ]
    },
    {
     "name": "stdout",
     "output_type": "stream",
     "text": [
      "nan\n"
     ]
    },
    {
     "name": "stderr",
     "output_type": "stream",
     "text": [
      "24877it [00:03, 7829.89it/s]"
     ]
    },
    {
     "name": "stdout",
     "output_type": "stream",
     "text": [
      "nan\n",
      "nan\n",
      "nan\n"
     ]
    },
    {
     "name": "stderr",
     "output_type": "stream",
     "text": [
      "27222it [00:03, 7792.48it/s]"
     ]
    },
    {
     "name": "stdout",
     "output_type": "stream",
     "text": [
      "nan\n",
      "nan\n"
     ]
    },
    {
     "name": "stderr",
     "output_type": "stream",
     "text": [
      "29546it [00:03, 7716.25it/s]"
     ]
    },
    {
     "name": "stdout",
     "output_type": "stream",
     "text": [
      "nan\n",
      "nan\n",
      "nan\n",
      "nan\n",
      "nan\n",
      "nan\n",
      "nan\n",
      "nan\n",
      "nan\n",
      "nan\n",
      "nan\n"
     ]
    },
    {
     "name": "stderr",
     "output_type": "stream",
     "text": [
      "31089it [00:04, 7700.67it/s]"
     ]
    },
    {
     "name": "stdout",
     "output_type": "stream",
     "text": [
      "nan\n",
      "nan\n",
      "nan\n",
      "nan\n",
      "nan\n",
      "nan\n",
      "nan\n",
      "nan\n",
      "nan\n",
      "nan\n",
      "nan\n",
      "nan\n",
      "nan\n",
      "nan\n",
      "nan\n",
      "nan\n",
      "nan\n",
      "nan\n",
      "nan\n",
      "nan\n",
      "nan\n",
      "nan\n",
      "nan\n",
      "nan\n",
      "nan\n",
      "nan\n",
      "nan\n",
      "nan\n",
      "nan\n",
      "nan\n",
      "nan\n",
      "nan\n"
     ]
    },
    {
     "name": "stderr",
     "output_type": "stream",
     "text": [
      "32628it [00:04, 7672.09it/s]"
     ]
    },
    {
     "name": "stdout",
     "output_type": "stream",
     "text": [
      "nan\n",
      "nan\n",
      "nan\n",
      "nan\n",
      "nan\n",
      "nan\n",
      "nan\n",
      "nan\n",
      "nan\n",
      "nan\n",
      "nan\n",
      "nan\n",
      "nan\n",
      "nan\n",
      "nan\n",
      "nan\n",
      "nan\n",
      "nan\n",
      "nan\n",
      "nan\n",
      "nan\n",
      "nan\n"
     ]
    },
    {
     "name": "stderr",
     "output_type": "stream",
     "text": [
      "35741it [00:04, 7751.41it/s]"
     ]
    },
    {
     "name": "stdout",
     "output_type": "stream",
     "text": [
      "nan\n"
     ]
    },
    {
     "name": "stderr",
     "output_type": "stream",
     "text": [
      "43570it [00:05, 7672.72it/s]"
     ]
    },
    {
     "name": "stdout",
     "output_type": "stream",
     "text": [
      "nan\n",
      "nan\n",
      "nan\n",
      "nan\n",
      "nan\n",
      "nan\n",
      "nan\n",
      "nan\n",
      "nan\n",
      "nan\n",
      "nan\n",
      "nan\n",
      "nan\n",
      "nan\n",
      "nan\n",
      "nan\n",
      "nan\n",
      "nan\n",
      "nan\n",
      "nan\n",
      "nan\n",
      "nan\n",
      "nan\n",
      "nan\n",
      "nan\n",
      "nan\n",
      "nan\n"
     ]
    },
    {
     "name": "stderr",
     "output_type": "stream",
     "text": [
      "45099it [00:05, 7603.23it/s]"
     ]
    },
    {
     "name": "stdout",
     "output_type": "stream",
     "text": [
      "nan\n",
      "nan\n",
      "nan\n",
      "nan\n",
      "nan\n",
      "nan\n",
      "nan\n",
      "nan\n",
      "nan\n",
      "nan\n",
      "nan\n",
      "nan\n",
      "nan\n",
      "nan\n",
      "nan\n",
      "nan\n",
      "nan\n",
      "nan\n",
      "nan\n",
      "nan\n",
      "nan\n",
      "nan\n",
      "nan\n",
      "nan\n",
      "nan\n",
      "nan\n",
      "nan\n",
      "nan\n",
      "nan\n",
      "nan\n",
      "nan\n",
      "nan\n",
      "nan\n",
      "nan\n",
      "nan\n",
      "nan\n",
      "nan\n"
     ]
    },
    {
     "name": "stderr",
     "output_type": "stream",
     "text": [
      "46621it [00:06, 7596.18it/s]"
     ]
    },
    {
     "name": "stdout",
     "output_type": "stream",
     "text": [
      "nan\n",
      "nan\n",
      "nan\n",
      "nan\n",
      "nan\n",
      "nan\n",
      "nan\n",
      "nan\n",
      "nan\n",
      "nan\n",
      "nan\n",
      "nan\n",
      "nan\n",
      "nan\n",
      "nan\n",
      "nan\n",
      "nan\n",
      "nan\n",
      "nan\n",
      "nan\n",
      "nan\n",
      "nan\n",
      "nan\n",
      "nan\n",
      "nan\n",
      "nan\n",
      "nan\n",
      "nan\n",
      "nan\n",
      "nan\n",
      "nan\n",
      "nan\n",
      "nan\n",
      "nan\n",
      "nan\n",
      "nan\n",
      "nan\n",
      "nan\n",
      "nan\n",
      "nan\n"
     ]
    },
    {
     "name": "stderr",
     "output_type": "stream",
     "text": [
      "48142it [00:06, 7577.48it/s]"
     ]
    },
    {
     "name": "stdout",
     "output_type": "stream",
     "text": [
      "nan\n",
      "nan\n",
      "nan\n",
      "nan\n",
      "nan\n",
      "nan\n",
      "nan\n",
      "nan\n",
      "nan\n",
      "nan\n",
      "nan\n",
      "nan\n",
      "nan\n",
      "nan\n",
      "nan\n",
      "nan\n",
      "nan\n",
      "nan\n",
      "nan\n",
      "nan\n",
      "nan\n",
      "nan\n",
      "nan\n",
      "nan\n",
      "nan\n",
      "nan\n",
      "nan\n",
      "nan\n",
      "nan\n",
      "nan\n",
      "nan\n",
      "nan\n",
      "nan\n",
      "nan\n",
      "nan\n",
      "nan\n",
      "nan\n",
      "nan\n",
      "nan\n",
      "nan\n",
      "nan\n",
      "nan\n",
      "nan\n",
      "nan\n",
      "nan\n"
     ]
    },
    {
     "name": "stderr",
     "output_type": "stream",
     "text": [
      "50415it [00:06, 7514.08it/s]"
     ]
    },
    {
     "name": "stdout",
     "output_type": "stream",
     "text": [
      "nan\n",
      "nan\n",
      "nan\n",
      "nan\n",
      "nan\n",
      "nan\n",
      "nan\n",
      "nan\n",
      "nan\n",
      "nan\n",
      "nan\n",
      "nan\n",
      "nan\n",
      "nan\n",
      "nan\n",
      "nan\n",
      "nan\n",
      "nan\n",
      "nan\n",
      "nan\n",
      "nan\n",
      "nan\n",
      "nan\n",
      "nan\n",
      "nan\n",
      "nan\n",
      "nan\n",
      "nan\n",
      "nan\n",
      "nan\n",
      "nan\n",
      "nan\n",
      "nan\n",
      "nan\n",
      "nan\n",
      "nan\n",
      "nan\n",
      "nan\n",
      "nan\n",
      "nan\n",
      "nan\n",
      "nan\n",
      "nan\n",
      "nan\n",
      "nan\n",
      "nan\n",
      "nan\n",
      "nan\n",
      "nan\n",
      "nan\n",
      "nan\n",
      "nan\n",
      "nan\n",
      "nan\n",
      "nan\n",
      "nan\n",
      "nan\n",
      "nan\n",
      "nan\n",
      "nan\n",
      "nan\n",
      "nan\n",
      "nan\n",
      "nan\n",
      "nan\n",
      "nan\n",
      "nan\n",
      "nan\n",
      "nan\n"
     ]
    },
    {
     "name": "stderr",
     "output_type": "stream",
     "text": [
      "51912it [00:06, 7429.80it/s]"
     ]
    },
    {
     "name": "stdout",
     "output_type": "stream",
     "text": [
      "nan\n",
      "nan\n",
      "nan\n",
      "nan\n",
      "nan\n",
      "nan\n",
      "nan\n",
      "nan\n",
      "nan\n",
      "nan\n",
      "nan\n",
      "nan\n",
      "nan\n",
      "nan\n",
      "nan\n",
      "nan\n",
      "nan\n",
      "nan\n",
      "nan\n",
      "nan\n",
      "nan\n",
      "nan\n",
      "nan\n",
      "nan\n",
      "nan\n",
      "nan\n",
      "nan\n",
      "nan\n",
      "nan\n",
      "nan\n",
      "nan\n",
      "nan\n",
      "nan\n",
      "nan\n",
      "nan\n",
      "nan\n",
      "nan\n",
      "nan\n",
      "nan\n",
      "nan\n",
      "nan\n",
      "nan\n",
      "nan\n",
      "nan\n",
      "nan\n",
      "nan\n",
      "nan\n",
      "nan\n",
      "nan\n",
      "nan\n",
      "nan\n",
      "nan\n",
      "nan\n",
      "nan\n",
      "nan\n",
      "nan\n",
      "nan\n",
      "nan\n",
      "nan\n",
      "nan\n",
      "nan\n",
      "nan\n",
      "nan\n",
      "nan\n",
      "nan\n",
      "nan\n",
      "nan\n",
      "nan\n",
      "nan\n",
      "nan\n",
      "nan\n",
      "nan\n",
      "nan\n",
      "nan\n",
      "nan\n",
      "nan\n",
      "nan\n",
      "nan\n",
      "nan\n",
      "nan\n",
      "nan\n",
      "nan\n",
      "nan\n",
      "nan\n",
      "nan\n",
      "nan\n",
      "nan\n",
      "nan\n",
      "nan\n",
      "nan\n",
      "nan\n",
      "nan\n",
      "nan\n",
      "nan\n",
      "nan\n",
      "nan\n",
      "nan\n",
      "nan\n"
     ]
    },
    {
     "name": "stderr",
     "output_type": "stream",
     "text": [
      "53403it [00:06, 7442.56it/s]"
     ]
    },
    {
     "name": "stdout",
     "output_type": "stream",
     "text": [
      "nan\n",
      "nan\n",
      "nan\n",
      "nan\n",
      "nan\n",
      "nan\n",
      "nan\n",
      "nan\n",
      "nan\n",
      "nan\n",
      "nan\n",
      "nan\n",
      "nan\n",
      "nan\n",
      "nan\n",
      "nan\n",
      "nan\n",
      "nan\n",
      "nan\n",
      "nan\n",
      "nan\n",
      "nan\n",
      "nan\n",
      "nan\n",
      "nan\n",
      "nan\n",
      "nan\n",
      "nan\n",
      "nan\n",
      "nan\n",
      "nan\n",
      "nan\n",
      "nan\n",
      "nan\n",
      "nan\n",
      "nan\n",
      "nan\n",
      "nan\n",
      "nan\n",
      "nan\n",
      "nan\n",
      "nan\n",
      "nan\n",
      "nan\n",
      "nan\n",
      "nan\n",
      "nan\n",
      "nan\n",
      "nan\n",
      "nan\n",
      "nan\n",
      "nan\n",
      "nan\n",
      "nan\n",
      "nan\n",
      "nan\n",
      "nan\n",
      "nan\n",
      "nan\n",
      "nan\n",
      "nan\n",
      "nan\n",
      "nan\n",
      "nan\n",
      "nan\n",
      "nan\n",
      "nan\n",
      "nan\n",
      "nan\n",
      "nan\n",
      "nan\n",
      "nan\n",
      "nan\n",
      "nan\n",
      "nan\n",
      "nan\n"
     ]
    },
    {
     "name": "stderr",
     "output_type": "stream",
     "text": [
      "55682it [00:07, 7563.97it/s]"
     ]
    },
    {
     "name": "stdout",
     "output_type": "stream",
     "text": [
      "nan\n",
      "nan\n",
      "nan\n",
      "nan\n",
      "nan\n",
      "nan\n",
      "nan\n",
      "nan\n",
      "nan\n",
      "nan\n",
      "nan\n",
      "nan\n",
      "nan\n",
      "nan\n",
      "nan\n",
      "nan\n",
      "nan\n",
      "nan\n",
      "nan\n",
      "nan\n",
      "nan\n",
      "nan\n",
      "nan\n",
      "nan\n",
      "nan\n",
      "nan\n",
      "nan\n",
      "nan\n",
      "nan\n",
      "nan\n",
      "nan\n",
      "nan\n",
      "nan\n",
      "nan\n"
     ]
    },
    {
     "name": "stderr",
     "output_type": "stream",
     "text": [
      "62709it [00:08, 7769.49it/s]"
     ]
    },
    {
     "name": "stdout",
     "output_type": "stream",
     "text": [
      "nan\n",
      "nan\n",
      "nan\n",
      "nan\n",
      "nan\n",
      "nan\n",
      "nan\n",
      "nan\n",
      "nan\n",
      "nan\n"
     ]
    },
    {
     "name": "stderr",
     "output_type": "stream",
     "text": [
      "64258it [00:08, 7704.35it/s]"
     ]
    },
    {
     "name": "stdout",
     "output_type": "stream",
     "text": [
      "nan\n",
      "nan\n",
      "nan\n",
      "nan\n",
      "nan\n",
      "nan\n",
      "nan\n",
      "nan\n",
      "nan\n",
      "nan\n",
      "nan\n",
      "nan\n",
      "nan\n",
      "nan\n",
      "nan\n",
      "nan\n",
      "nan\n",
      "nan\n"
     ]
    },
    {
     "name": "stderr",
     "output_type": "stream",
     "text": [
      "65795it [00:08, 7636.80it/s]"
     ]
    },
    {
     "name": "stdout",
     "output_type": "stream",
     "text": [
      "nan\n",
      "nan\n",
      "nan\n",
      "nan\n",
      "nan\n",
      "nan\n",
      "nan\n",
      "nan\n",
      "nan\n",
      "nan\n",
      "nan\n",
      "nan\n",
      "nan\n",
      "nan\n",
      "nan\n",
      "nan\n",
      "nan\n",
      "nan\n",
      "nan\n",
      "nan\n",
      "nan\n",
      "nan\n",
      "nan\n",
      "nan\n",
      "nan\n",
      "nan\n",
      "nan\n",
      "nan\n",
      "nan\n",
      "nan\n",
      "nan\n",
      "nan\n",
      "nan\n",
      "nan\n",
      "nan\n",
      "nan\n",
      "nan\n",
      "nan\n",
      "nan\n"
     ]
    },
    {
     "name": "stderr",
     "output_type": "stream",
     "text": [
      "67321it [00:08, 7598.79it/s]"
     ]
    },
    {
     "name": "stdout",
     "output_type": "stream",
     "text": [
      "nan\n",
      "nan\n",
      "nan\n",
      "nan\n",
      "nan\n",
      "nan\n",
      "nan\n",
      "nan\n",
      "nan\n",
      "nan\n",
      "nan\n",
      "nan\n",
      "nan\n",
      "nan\n",
      "nan\n",
      "nan\n",
      "nan\n",
      "nan\n",
      "nan\n",
      "nan\n",
      "nan\n",
      "nan\n",
      "nan\n",
      "nan\n",
      "nan\n",
      "nan\n",
      "nan\n",
      "nan\n",
      "nan\n",
      "nan\n",
      "nan\n",
      "nan\n",
      "nan\n",
      "nan\n",
      "nan\n",
      "nan\n",
      "nan\n",
      "nan\n",
      "nan\n",
      "nan\n",
      "nan\n",
      "nan\n",
      "nan\n",
      "nan\n",
      "nan\n",
      "nan\n",
      "nan\n",
      "nan\n",
      "nan\n",
      "nan\n",
      "nan\n",
      "nan\n",
      "nan\n",
      "nan\n",
      "nan\n",
      "nan\n",
      "nan\n"
     ]
    },
    {
     "name": "stderr",
     "output_type": "stream",
     "text": [
      "69608it [00:09, 7601.60it/s]"
     ]
    },
    {
     "name": "stdout",
     "output_type": "stream",
     "text": [
      "nan\n",
      "nan\n",
      "nan\n",
      "nan\n",
      "nan\n",
      "nan\n",
      "nan\n",
      "nan\n",
      "nan\n",
      "nan\n",
      "nan\n",
      "nan\n",
      "nan\n",
      "nan\n",
      "nan\n",
      "nan\n",
      "nan\n",
      "nan\n",
      "nan\n",
      "nan\n",
      "nan\n",
      "nan\n",
      "nan\n",
      "nan\n",
      "nan\n",
      "nan\n",
      "nan\n",
      "nan\n",
      "nan\n",
      "nan\n",
      "nan\n",
      "nan\n",
      "nan\n",
      "nan\n",
      "nan\n",
      "nan\n",
      "nan\n",
      "nan\n",
      "nan\n",
      "nan\n",
      "nan\n"
     ]
    },
    {
     "name": "stderr",
     "output_type": "stream",
     "text": [
      "71128it [00:09, 7563.44it/s]"
     ]
    },
    {
     "name": "stdout",
     "output_type": "stream",
     "text": [
      "nan\n",
      "nan\n",
      "nan\n",
      "nan\n",
      "nan\n",
      "nan\n",
      "nan\n",
      "nan\n",
      "nan\n",
      "nan\n",
      "nan\n",
      "nan\n",
      "nan\n",
      "nan\n",
      "nan\n",
      "nan\n",
      "nan\n",
      "nan\n",
      "nan\n",
      "nan\n",
      "nan\n",
      "nan\n",
      "nan\n",
      "nan\n",
      "nan\n",
      "nan\n",
      "nan\n",
      "nan\n",
      "nan\n",
      "nan\n",
      "nan\n",
      "nan\n",
      "nan\n",
      "nan\n",
      "nan\n",
      "nan\n",
      "nan\n",
      "nan\n",
      "nan\n",
      "nan\n",
      "nan\n",
      "nan\n",
      "nan\n",
      "nan\n",
      "nan\n",
      "nan\n",
      "nan\n",
      "nan\n",
      "nan\n",
      "nan\n",
      "nan\n",
      "nan\n",
      "nan\n",
      "nan\n",
      "nan\n",
      "nan\n",
      "nan\n",
      "nan\n",
      "nan\n",
      "nan\n",
      "nan\n"
     ]
    },
    {
     "name": "stderr",
     "output_type": "stream",
     "text": [
      "72643it [00:09, 7545.04it/s]"
     ]
    },
    {
     "name": "stdout",
     "output_type": "stream",
     "text": [
      "nan\n",
      "nan\n",
      "nan\n",
      "nan\n",
      "nan\n",
      "nan\n",
      "nan\n",
      "nan\n",
      "nan\n",
      "nan\n",
      "nan\n",
      "nan\n",
      "nan\n",
      "nan\n",
      "nan\n",
      "nan\n",
      "nan\n",
      "nan\n",
      "nan\n",
      "nan\n",
      "nan\n",
      "nan\n",
      "nan\n",
      "nan\n",
      "nan\n",
      "nan\n",
      "nan\n",
      "nan\n",
      "nan\n",
      "nan\n",
      "nan\n",
      "nan\n",
      "nan\n",
      "nan\n",
      "nan\n",
      "nan\n",
      "nan\n",
      "nan\n",
      "nan\n",
      "nan\n",
      "nan\n",
      "nan\n",
      "nan\n",
      "nan\n",
      "nan\n"
     ]
    },
    {
     "name": "stderr",
     "output_type": "stream",
     "text": [
      "74153it [00:09, 7531.91it/s]"
     ]
    },
    {
     "name": "stdout",
     "output_type": "stream",
     "text": [
      "nan\n",
      "nan\n",
      "nan\n",
      "nan\n",
      "nan\n",
      "nan\n",
      "nan\n",
      "nan\n",
      "nan\n",
      "nan\n",
      "nan\n",
      "nan\n",
      "nan\n",
      "nan\n",
      "nan\n",
      "nan\n",
      "nan\n",
      "nan\n",
      "nan\n",
      "nan\n",
      "nan\n",
      "nan\n",
      "nan\n",
      "nan\n",
      "nan\n",
      "nan\n",
      "nan\n",
      "nan\n",
      "nan\n",
      "nan\n",
      "nan\n",
      "nan\n",
      "nan\n",
      "nan\n",
      "nan\n",
      "nan\n",
      "nan\n",
      "nan\n",
      "nan\n",
      "nan\n",
      "nan\n",
      "nan\n",
      "nan\n",
      "nan\n",
      "nan\n",
      "nan\n",
      "nan\n",
      "nan\n",
      "nan\n",
      "nan\n",
      "nan\n",
      "nan\n",
      "nan\n",
      "nan\n",
      "nan\n",
      "nan\n",
      "nan\n",
      "nan\n",
      "nan\n",
      "nan\n"
     ]
    },
    {
     "name": "stderr",
     "output_type": "stream",
     "text": [
      "75659it [00:09, 7493.10it/s]"
     ]
    },
    {
     "name": "stdout",
     "output_type": "stream",
     "text": [
      "nan\n",
      "nan\n",
      "nan\n",
      "nan\n",
      "nan\n",
      "nan\n",
      "nan\n",
      "nan\n",
      "nan\n",
      "nan\n",
      "nan\n",
      "nan\n",
      "nan\n",
      "nan\n",
      "nan\n",
      "nan\n",
      "nan\n",
      "nan\n",
      "nan\n",
      "nan\n",
      "nan\n",
      "nan\n",
      "nan\n",
      "nan\n"
     ]
    },
    {
     "name": "stderr",
     "output_type": "stream",
     "text": [
      "78755it [00:10, 7612.35it/s]"
     ]
    },
    {
     "name": "stdout",
     "output_type": "stream",
     "text": [
      "nan\n",
      "nan\n",
      "nan\n",
      "nan\n",
      "nan\n",
      "nan\n",
      "nan\n",
      "nan\n",
      "nan\n",
      "nan\n",
      "nan\n",
      "nan\n",
      "nan\n",
      "nan\n",
      "nan\n",
      "nan\n",
      "nan\n",
      "nan\n",
      "nan\n",
      "nan\n",
      "nan\n",
      "nan\n",
      "nan\n",
      "nan\n",
      "nan\n",
      "nan\n",
      "nan\n",
      "nan\n",
      "nan\n",
      "nan\n",
      "nan\n",
      "nan\n",
      "nan\n",
      "nan\n",
      "nan\n",
      "nan\n",
      "nan\n",
      "nan\n",
      "nan\n",
      "nan\n",
      "nan\n",
      "nan\n",
      "nan\n",
      "nan\n",
      "nan\n"
     ]
    },
    {
     "name": "stderr",
     "output_type": "stream",
     "text": [
      "80273it [00:10, 7551.60it/s]"
     ]
    },
    {
     "name": "stdout",
     "output_type": "stream",
     "text": [
      "nan\n",
      "nan\n",
      "nan\n",
      "nan\n",
      "nan\n",
      "nan\n",
      "nan\n",
      "nan\n",
      "nan\n",
      "nan\n",
      "nan\n",
      "nan\n",
      "nan\n",
      "nan\n",
      "nan\n",
      "nan\n",
      "nan\n",
      "nan\n",
      "nan\n",
      "nan\n",
      "nan\n",
      "nan\n",
      "nan\n",
      "nan\n",
      "nan\n",
      "nan\n",
      "nan\n",
      "nan\n",
      "nan\n",
      "nan\n",
      "nan\n",
      "nan\n",
      "nan\n",
      "nan\n",
      "nan\n",
      "nan\n",
      "nan\n",
      "nan\n",
      "nan\n",
      "nan\n",
      "nan\n",
      "nan\n",
      "nan\n",
      "nan\n",
      "nan\n",
      "nan\n",
      "nan\n",
      "nan\n",
      "nan\n",
      "nan\n",
      "nan\n",
      "nan\n",
      "nan\n",
      "nan\n",
      "nan\n"
     ]
    },
    {
     "name": "stderr",
     "output_type": "stream",
     "text": [
      "82571it [00:10, 7622.75it/s]"
     ]
    },
    {
     "name": "stdout",
     "output_type": "stream",
     "text": [
      "nan\n",
      "nan\n",
      "nan\n",
      "nan\n",
      "nan\n",
      "nan\n",
      "nan\n"
     ]
    },
    {
     "name": "stderr",
     "output_type": "stream",
     "text": [
      "84915it [00:11, 7751.13it/s]"
     ]
    },
    {
     "name": "stdout",
     "output_type": "stream",
     "text": [
      "nan\n",
      "nan\n",
      "nan\n",
      "nan\n",
      "nan\n"
     ]
    },
    {
     "name": "stderr",
     "output_type": "stream",
     "text": [
      "87245it [00:11, 7758.00it/s]"
     ]
    },
    {
     "name": "stdout",
     "output_type": "stream",
     "text": [
      "nan\n"
     ]
    },
    {
     "name": "stderr",
     "output_type": "stream",
     "text": [
      "89586it [00:11, 7782.77it/s]"
     ]
    },
    {
     "name": "stdout",
     "output_type": "stream",
     "text": [
      "nan\n",
      "nan\n"
     ]
    },
    {
     "name": "stderr",
     "output_type": "stream",
     "text": [
      "92713it [00:12, 7806.31it/s]"
     ]
    },
    {
     "name": "stdout",
     "output_type": "stream",
     "text": [
      "nan\n",
      "nan\n"
     ]
    },
    {
     "name": "stderr",
     "output_type": "stream",
     "text": [
      "103656it [00:13, 7582.90it/s]"
     ]
    },
    {
     "name": "stdout",
     "output_type": "stream",
     "text": [
      "nan\n",
      "nan\n",
      "nan\n",
      "nan\n",
      "nan\n",
      "nan\n",
      "nan\n",
      "nan\n",
      "nan\n",
      "nan\n",
      "nan\n",
      "nan\n",
      "nan\n",
      "nan\n",
      "nan\n",
      "nan\n",
      "nan\n",
      "nan\n",
      "nan\n",
      "nan\n",
      "nan\n",
      "nan\n",
      "nan\n",
      "nan\n",
      "nan\n",
      "nan\n",
      "nan\n",
      "nan\n",
      "nan\n",
      "nan\n",
      "nan\n",
      "nan\n",
      "nan\n",
      "nan\n",
      "nan\n",
      "nan\n",
      "nan\n",
      "nan\n",
      "nan\n",
      "nan\n",
      "nan\n",
      "nan\n",
      "nan\n",
      "nan\n",
      "nan\n",
      "nan\n",
      "nan\n",
      "nan\n",
      "nan\n",
      "nan\n",
      "nan\n",
      "nan\n",
      "nan\n",
      "nan\n",
      "nan\n",
      "nan\n",
      "nan\n",
      "nan\n"
     ]
    },
    {
     "name": "stderr",
     "output_type": "stream",
     "text": [
      "105191it [00:13, 7615.48it/s]"
     ]
    },
    {
     "name": "stdout",
     "output_type": "stream",
     "text": [
      "nan\n",
      "nan\n",
      "nan\n",
      "nan\n",
      "nan\n",
      "nan\n",
      "nan\n",
      "nan\n",
      "nan\n",
      "nan\n",
      "nan\n",
      "nan\n",
      "nan\n",
      "nan\n",
      "nan\n",
      "nan\n",
      "nan\n",
      "nan\n"
     ]
    },
    {
     "name": "stderr",
     "output_type": "stream",
     "text": [
      "120821it [00:15, 7782.81it/s]"
     ]
    },
    {
     "name": "stdout",
     "output_type": "stream",
     "text": [
      "nan\n",
      "nan\n",
      "nan\n",
      "nan\n",
      "nan\n",
      "nan\n"
     ]
    },
    {
     "name": "stderr",
     "output_type": "stream",
     "text": [
      "123163it [00:15, 7783.47it/s]"
     ]
    },
    {
     "name": "stdout",
     "output_type": "stream",
     "text": [
      "nan\n",
      "nan\n",
      "nan\n",
      "nan\n",
      "nan\n",
      "nan\n",
      "nan\n"
     ]
    },
    {
     "name": "stderr",
     "output_type": "stream",
     "text": [
      "127859it [00:16, 7804.62it/s]"
     ]
    },
    {
     "name": "stdout",
     "output_type": "stream",
     "text": [
      "nan\n",
      "nan\n",
      "nan\n"
     ]
    },
    {
     "name": "stderr",
     "output_type": "stream",
     "text": [
      "130199it [00:16, 7775.84it/s]"
     ]
    },
    {
     "name": "stdout",
     "output_type": "stream",
     "text": [
      "nan\n",
      "nan\n",
      "nan\n"
     ]
    },
    {
     "name": "stderr",
     "output_type": "stream",
     "text": [
      "132527it [00:17, 7654.03it/s]"
     ]
    },
    {
     "name": "stdout",
     "output_type": "stream",
     "text": [
      "nan\n",
      "nan\n",
      "nan\n",
      "nan\n",
      "nan\n",
      "nan\n",
      "nan\n",
      "nan\n",
      "nan\n",
      "nan\n",
      "nan\n",
      "nan\n",
      "nan\n",
      "nan\n",
      "nan\n",
      "nan\n",
      "nan\n",
      "nan\n",
      "nan\n",
      "nan\n",
      "nan\n",
      "nan\n",
      "nan\n",
      "nan\n",
      "nan\n",
      "nan\n",
      "nan\n",
      "nan\n",
      "nan\n",
      "nan\n",
      "nan\n",
      "nan\n",
      "nan\n",
      "nan\n",
      "nan\n",
      "nan\n",
      "nan\n",
      "nan\n",
      "nan\n",
      "nan\n",
      "nan\n",
      "nan\n",
      "nan\n",
      "nan\n",
      "nan\n"
     ]
    },
    {
     "name": "stderr",
     "output_type": "stream",
     "text": [
      "134491it [00:17, 7710.93it/s]"
     ]
    },
    {
     "name": "stdout",
     "output_type": "stream",
     "text": [
      "nan\n",
      "nan\n"
     ]
    },
    {
     "name": "stderr",
     "output_type": "stream",
     "text": [
      "\n"
     ]
    },
    {
     "ename": "KeyboardInterrupt",
     "evalue": "",
     "output_type": "error",
     "traceback": [
      "\u001b[0;31m---------------------------------------------------------------------------\u001b[0m",
      "\u001b[0;31mKeyboardInterrupt\u001b[0m                         Traceback (most recent call last)",
      "\u001b[0;32m<ipython-input-37-900b47911e3c>\u001b[0m in \u001b[0;36m<module>\u001b[0;34m()\u001b[0m\n\u001b[0;32m----> 1\u001b[0;31m \u001b[0;32mfor\u001b[0m \u001b[0mk\u001b[0m \u001b[0;32min\u001b[0m \u001b[0mtqdm\u001b[0m\u001b[0;34m(\u001b[0m\u001b[0mdf\u001b[0m\u001b[0;34m.\u001b[0m\u001b[0miloc\u001b[0m\u001b[0;34m)\u001b[0m\u001b[0;34m:\u001b[0m\u001b[0;34m\u001b[0m\u001b[0;34m\u001b[0m\u001b[0m\n\u001b[0m\u001b[1;32m      2\u001b[0m     \u001b[0;32mif\u001b[0m \u001b[0mtype\u001b[0m\u001b[0;34m(\u001b[0m\u001b[0mk\u001b[0m\u001b[0;34m[\u001b[0m\u001b[0;34m'keyword'\u001b[0m\u001b[0;34m]\u001b[0m\u001b[0;34m)\u001b[0m \u001b[0;34m!=\u001b[0m \u001b[0mstr\u001b[0m\u001b[0;34m:\u001b[0m\u001b[0;34m\u001b[0m\u001b[0;34m\u001b[0m\u001b[0m\n\u001b[1;32m      3\u001b[0m         \u001b[0mprint\u001b[0m\u001b[0;34m(\u001b[0m\u001b[0mk\u001b[0m\u001b[0;34m[\u001b[0m\u001b[0;34m'keyword'\u001b[0m\u001b[0;34m]\u001b[0m\u001b[0;34m)\u001b[0m\u001b[0;34m\u001b[0m\u001b[0;34m\u001b[0m\u001b[0m\n",
      "\u001b[0;32m/home/ubuntu/anaconda3/envs/pytorch1.4_p36/lib/python3.6/site-packages/tqdm/std.py\u001b[0m in \u001b[0;36m__iter__\u001b[0;34m(self)\u001b[0m\n\u001b[1;32m   1168\u001b[0m \u001b[0;34m\u001b[0m\u001b[0m\n\u001b[1;32m   1169\u001b[0m         \u001b[0;32mtry\u001b[0m\u001b[0;34m:\u001b[0m\u001b[0;34m\u001b[0m\u001b[0;34m\u001b[0m\u001b[0m\n\u001b[0;32m-> 1170\u001b[0;31m             \u001b[0;32mfor\u001b[0m \u001b[0mobj\u001b[0m \u001b[0;32min\u001b[0m \u001b[0miterable\u001b[0m\u001b[0;34m:\u001b[0m\u001b[0;34m\u001b[0m\u001b[0;34m\u001b[0m\u001b[0m\n\u001b[0m\u001b[1;32m   1171\u001b[0m                 \u001b[0;32myield\u001b[0m \u001b[0mobj\u001b[0m\u001b[0;34m\u001b[0m\u001b[0;34m\u001b[0m\u001b[0m\n\u001b[1;32m   1172\u001b[0m                 \u001b[0;31m# Update and possibly print the progressbar.\u001b[0m\u001b[0;34m\u001b[0m\u001b[0;34m\u001b[0m\u001b[0;34m\u001b[0m\u001b[0m\n",
      "\u001b[0;32m/home/ubuntu/anaconda3/envs/pytorch1.4_p36/lib/python3.6/site-packages/pandas/core/indexing.py\u001b[0m in \u001b[0;36m__getitem__\u001b[0;34m(self, key)\u001b[0m\n\u001b[1;32m    877\u001b[0m \u001b[0;34m\u001b[0m\u001b[0m\n\u001b[1;32m    878\u001b[0m             \u001b[0mmaybe_callable\u001b[0m \u001b[0;34m=\u001b[0m \u001b[0mcom\u001b[0m\u001b[0;34m.\u001b[0m\u001b[0mapply_if_callable\u001b[0m\u001b[0;34m(\u001b[0m\u001b[0mkey\u001b[0m\u001b[0;34m,\u001b[0m \u001b[0mself\u001b[0m\u001b[0;34m.\u001b[0m\u001b[0mobj\u001b[0m\u001b[0;34m)\u001b[0m\u001b[0;34m\u001b[0m\u001b[0;34m\u001b[0m\u001b[0m\n\u001b[0;32m--> 879\u001b[0;31m             \u001b[0;32mreturn\u001b[0m \u001b[0mself\u001b[0m\u001b[0;34m.\u001b[0m\u001b[0m_getitem_axis\u001b[0m\u001b[0;34m(\u001b[0m\u001b[0mmaybe_callable\u001b[0m\u001b[0;34m,\u001b[0m \u001b[0maxis\u001b[0m\u001b[0;34m=\u001b[0m\u001b[0maxis\u001b[0m\u001b[0;34m)\u001b[0m\u001b[0;34m\u001b[0m\u001b[0;34m\u001b[0m\u001b[0m\n\u001b[0m\u001b[1;32m    880\u001b[0m \u001b[0;34m\u001b[0m\u001b[0m\n\u001b[1;32m    881\u001b[0m     \u001b[0;32mdef\u001b[0m \u001b[0m_is_scalar_access\u001b[0m\u001b[0;34m(\u001b[0m\u001b[0mself\u001b[0m\u001b[0;34m,\u001b[0m \u001b[0mkey\u001b[0m\u001b[0;34m:\u001b[0m \u001b[0mTuple\u001b[0m\u001b[0;34m)\u001b[0m\u001b[0;34m:\u001b[0m\u001b[0;34m\u001b[0m\u001b[0;34m\u001b[0m\u001b[0m\n",
      "\u001b[0;32m/home/ubuntu/anaconda3/envs/pytorch1.4_p36/lib/python3.6/site-packages/pandas/core/indexing.py\u001b[0m in \u001b[0;36m_getitem_axis\u001b[0;34m(self, key, axis)\u001b[0m\n\u001b[1;32m   1479\u001b[0m             \u001b[0mkey\u001b[0m \u001b[0;34m=\u001b[0m \u001b[0mnp\u001b[0m\u001b[0;34m.\u001b[0m\u001b[0masarray\u001b[0m\u001b[0;34m(\u001b[0m\u001b[0mkey\u001b[0m\u001b[0;34m)\u001b[0m\u001b[0;34m\u001b[0m\u001b[0;34m\u001b[0m\u001b[0m\n\u001b[1;32m   1480\u001b[0m \u001b[0;34m\u001b[0m\u001b[0m\n\u001b[0;32m-> 1481\u001b[0;31m         \u001b[0;32mif\u001b[0m \u001b[0mcom\u001b[0m\u001b[0;34m.\u001b[0m\u001b[0mis_bool_indexer\u001b[0m\u001b[0;34m(\u001b[0m\u001b[0mkey\u001b[0m\u001b[0;34m)\u001b[0m\u001b[0;34m:\u001b[0m\u001b[0;34m\u001b[0m\u001b[0;34m\u001b[0m\u001b[0m\n\u001b[0m\u001b[1;32m   1482\u001b[0m             \u001b[0mself\u001b[0m\u001b[0;34m.\u001b[0m\u001b[0m_validate_key\u001b[0m\u001b[0;34m(\u001b[0m\u001b[0mkey\u001b[0m\u001b[0;34m,\u001b[0m \u001b[0maxis\u001b[0m\u001b[0;34m)\u001b[0m\u001b[0;34m\u001b[0m\u001b[0;34m\u001b[0m\u001b[0m\n\u001b[1;32m   1483\u001b[0m             \u001b[0;32mreturn\u001b[0m \u001b[0mself\u001b[0m\u001b[0;34m.\u001b[0m\u001b[0m_getbool_axis\u001b[0m\u001b[0;34m(\u001b[0m\u001b[0mkey\u001b[0m\u001b[0;34m,\u001b[0m \u001b[0maxis\u001b[0m\u001b[0;34m=\u001b[0m\u001b[0maxis\u001b[0m\u001b[0;34m)\u001b[0m\u001b[0;34m\u001b[0m\u001b[0;34m\u001b[0m\u001b[0m\n",
      "\u001b[0;32m/home/ubuntu/anaconda3/envs/pytorch1.4_p36/lib/python3.6/site-packages/pandas/core/common.py\u001b[0m in \u001b[0;36mis_bool_indexer\u001b[0;34m(key)\u001b[0m\n\u001b[1;32m    124\u001b[0m     \"\"\"\n\u001b[1;32m    125\u001b[0m     if isinstance(key, (ABCSeries, np.ndarray, ABCIndex)) or (\n\u001b[0;32m--> 126\u001b[0;31m         \u001b[0mis_array_like\u001b[0m\u001b[0;34m(\u001b[0m\u001b[0mkey\u001b[0m\u001b[0;34m)\u001b[0m \u001b[0;32mand\u001b[0m \u001b[0mis_extension_array_dtype\u001b[0m\u001b[0;34m(\u001b[0m\u001b[0mkey\u001b[0m\u001b[0;34m.\u001b[0m\u001b[0mdtype\u001b[0m\u001b[0;34m)\u001b[0m\u001b[0;34m\u001b[0m\u001b[0;34m\u001b[0m\u001b[0m\n\u001b[0m\u001b[1;32m    127\u001b[0m     ):\n\u001b[1;32m    128\u001b[0m         \u001b[0;32mif\u001b[0m \u001b[0mkey\u001b[0m\u001b[0;34m.\u001b[0m\u001b[0mdtype\u001b[0m \u001b[0;34m==\u001b[0m \u001b[0mnp\u001b[0m\u001b[0;34m.\u001b[0m\u001b[0mobject_\u001b[0m\u001b[0;34m:\u001b[0m\u001b[0;34m\u001b[0m\u001b[0;34m\u001b[0m\u001b[0m\n",
      "\u001b[0;32m/home/ubuntu/anaconda3/envs/pytorch1.4_p36/lib/python3.6/site-packages/pandas/core/dtypes/inference.py\u001b[0m in \u001b[0;36mis_array_like\u001b[0;34m(obj)\u001b[0m\n\u001b[1;32m    212\u001b[0m     \u001b[0;32mFalse\u001b[0m\u001b[0;34m\u001b[0m\u001b[0;34m\u001b[0m\u001b[0m\n\u001b[1;32m    213\u001b[0m     \"\"\"\n\u001b[0;32m--> 214\u001b[0;31m     \u001b[0;32mreturn\u001b[0m \u001b[0mis_list_like\u001b[0m\u001b[0;34m(\u001b[0m\u001b[0mobj\u001b[0m\u001b[0;34m)\u001b[0m \u001b[0;32mand\u001b[0m \u001b[0mhasattr\u001b[0m\u001b[0;34m(\u001b[0m\u001b[0mobj\u001b[0m\u001b[0;34m,\u001b[0m \u001b[0;34m\"dtype\"\u001b[0m\u001b[0;34m)\u001b[0m\u001b[0;34m\u001b[0m\u001b[0;34m\u001b[0m\u001b[0m\n\u001b[0m\u001b[1;32m    215\u001b[0m \u001b[0;34m\u001b[0m\u001b[0m\n\u001b[1;32m    216\u001b[0m \u001b[0;34m\u001b[0m\u001b[0m\n",
      "\u001b[0;32mpandas/_libs/lib.pyx\u001b[0m in \u001b[0;36mpandas._libs.lib.is_list_like\u001b[0;34m()\u001b[0m\n",
      "\u001b[0;32mpandas/_libs/lib.pyx\u001b[0m in \u001b[0;36mpandas._libs.lib.c_is_list_like\u001b[0;34m()\u001b[0m\n",
      "\u001b[0;32m/home/ubuntu/anaconda3/envs/pytorch1.4_p36/lib/python3.6/abc.py\u001b[0m in \u001b[0;36m__instancecheck__\u001b[0;34m(cls, instance)\u001b[0m\n\u001b[1;32m    182\u001b[0m         \u001b[0;31m# Inline the cache checking\u001b[0m\u001b[0;34m\u001b[0m\u001b[0;34m\u001b[0m\u001b[0;34m\u001b[0m\u001b[0m\n\u001b[1;32m    183\u001b[0m         \u001b[0msubclass\u001b[0m \u001b[0;34m=\u001b[0m \u001b[0minstance\u001b[0m\u001b[0;34m.\u001b[0m\u001b[0m__class__\u001b[0m\u001b[0;34m\u001b[0m\u001b[0;34m\u001b[0m\u001b[0m\n\u001b[0;32m--> 184\u001b[0;31m         \u001b[0;32mif\u001b[0m \u001b[0msubclass\u001b[0m \u001b[0;32min\u001b[0m \u001b[0mcls\u001b[0m\u001b[0;34m.\u001b[0m\u001b[0m_abc_cache\u001b[0m\u001b[0;34m:\u001b[0m\u001b[0;34m\u001b[0m\u001b[0;34m\u001b[0m\u001b[0m\n\u001b[0m\u001b[1;32m    185\u001b[0m             \u001b[0;32mreturn\u001b[0m \u001b[0;32mTrue\u001b[0m\u001b[0;34m\u001b[0m\u001b[0;34m\u001b[0m\u001b[0m\n\u001b[1;32m    186\u001b[0m         \u001b[0msubtype\u001b[0m \u001b[0;34m=\u001b[0m \u001b[0mtype\u001b[0m\u001b[0;34m(\u001b[0m\u001b[0minstance\u001b[0m\u001b[0;34m)\u001b[0m\u001b[0;34m\u001b[0m\u001b[0;34m\u001b[0m\u001b[0m\n",
      "\u001b[0;32m/home/ubuntu/anaconda3/envs/pytorch1.4_p36/lib/python3.6/_weakrefset.py\u001b[0m in \u001b[0;36m__contains__\u001b[0;34m(self, item)\u001b[0m\n\u001b[1;32m     73\u001b[0m         \u001b[0;32mexcept\u001b[0m \u001b[0mTypeError\u001b[0m\u001b[0;34m:\u001b[0m\u001b[0;34m\u001b[0m\u001b[0;34m\u001b[0m\u001b[0m\n\u001b[1;32m     74\u001b[0m             \u001b[0;32mreturn\u001b[0m \u001b[0;32mFalse\u001b[0m\u001b[0;34m\u001b[0m\u001b[0;34m\u001b[0m\u001b[0m\n\u001b[0;32m---> 75\u001b[0;31m         \u001b[0;32mreturn\u001b[0m \u001b[0mwr\u001b[0m \u001b[0;32min\u001b[0m \u001b[0mself\u001b[0m\u001b[0;34m.\u001b[0m\u001b[0mdata\u001b[0m\u001b[0;34m\u001b[0m\u001b[0;34m\u001b[0m\u001b[0m\n\u001b[0m\u001b[1;32m     76\u001b[0m \u001b[0;34m\u001b[0m\u001b[0m\n\u001b[1;32m     77\u001b[0m     \u001b[0;32mdef\u001b[0m \u001b[0m__reduce__\u001b[0m\u001b[0;34m(\u001b[0m\u001b[0mself\u001b[0m\u001b[0;34m)\u001b[0m\u001b[0;34m:\u001b[0m\u001b[0;34m\u001b[0m\u001b[0;34m\u001b[0m\u001b[0m\n",
      "\u001b[0;31mKeyboardInterrupt\u001b[0m: "
     ]
    }
   ],
   "source": [
    "for k in tqdm(df_drop.iloc):\n",
    "    if type(k['keyword']) != str:\n",
    "        print(k['keyword'])"
   ]
  },
  {
   "cell_type": "code",
   "execution_count": 42,
   "id": "44b89264",
   "metadata": {
    "scrolled": false
   },
   "outputs": [
    {
     "name": "stderr",
     "output_type": "stream",
     "text": [
      "1294248it [02:54, 7428.91it/s]\n"
     ]
    }
   ],
   "source": [
    "multi_keywords = []\n",
    "multi_codes = []\n",
    "for k in tqdm(df_drop.iloc):\n",
    "    if len(k['keyword'].split()) >= 2:\n",
    "        multi_keywords.append(k['keyword'])\n",
    "        multi_codes.append(k['code'])"
   ]
  },
  {
   "cell_type": "code",
   "execution_count": 43,
   "id": "d67c4b12",
   "metadata": {},
   "outputs": [
    {
     "name": "stdout",
     "output_type": "stream",
     "text": [
      "568302 568302\n"
     ]
    }
   ],
   "source": [
    "print(len(multi_keywords),len(multi_codes))\n",
    "#멀티 키워드 , 라벨 수"
   ]
  },
  {
   "cell_type": "code",
   "execution_count": 11,
   "id": "e9e2a221",
   "metadata": {},
   "outputs": [
    {
     "name": "stderr",
     "output_type": "stream",
     "text": [
      "1298573it [02:51, 7553.32it/s]\n"
     ]
    },
    {
     "data": {
      "text/plain": [
       "1298573"
      ]
     },
     "execution_count": 11,
     "metadata": {},
     "output_type": "execute_result"
    }
   ],
   "source": [
    "keywords = []\n",
    "codes = []\n",
    "for k in tqdm(df.iloc):\n",
    "    keywords.append(k['keyword'])\n",
    "    codes.append(k['code'])\n",
    "len(codes)"
   ]
  },
  {
   "cell_type": "markdown",
   "id": "d70e6e57",
   "metadata": {},
   "source": [
    "토크나이저 확인"
   ]
  },
  {
   "cell_type": "code",
   "execution_count": 52,
   "id": "27f96ea7",
   "metadata": {},
   "outputs": [
    {
     "name": "stdout",
     "output_type": "stream",
     "text": [
      "['histone', 'acetylation']\n",
      "['Histone', 'acetylation']\n"
     ]
    }
   ],
   "source": [
    "print(kos_tokenizer.tokenize(multi_keywords[4]))\n",
    "print(tokenizer.tokenize(multi_keywords[4]))"
   ]
  },
  {
   "cell_type": "code",
   "execution_count": 53,
   "id": "7c889d5e",
   "metadata": {
    "collapsed": true
   },
   "outputs": [
    {
     "name": "stdout",
     "output_type": "stream",
     "text": [
      "[['fuel', 'cell'], ['taste', 'sensation'], ['in', 'vivo', 'imaging'], ['multi', '##photon', 'microscopy'], ['histone', 'acetylation'], ['chromatin', 'loop', '##ing'], ['human', 'beta', 'glob', '##in', 'locus'], ['loop', 'mediating', 'protein'], ['hair', 'cell'], ['neural', 'circuit'], ['fusion', 'technology'], ['implant', '##able', 'ic'], ['bio', '-', 'information', 'processing'], ['stem', 'cells'], ['artificial', 'transcription', 'factor'], ['auditory', 'organ'], ['inner', 'ear'], ['middle', 'ear'], ['neural', 'crest'], ['mouse', 'model'], ['integrin', 'alpha', 'm'], ['innate', 'immune'], ['plant', 'disease'], ['fungal', 'pathogen'], ['rice', 'blast', 'disease'], ['plant', 'disease'], ['fungal', 'pathogen'], ['rice', 'blast', 'disease'], ['hepatitis', 'b', 'virus'], ['chronic', 'hepatitis', 'b'], ['drug', 'resistance'], ['antiviral', 'effect'], ['3', '-', 'dimensional', 'numerical', 'analysis'], ['local', 'sc', '##our'], ['river', 'management'], ['had', '##ley', 'circulation'], ['atmospheric', 'general', 'circulation'], ['natural', 'variability'], ['electro', '##kine', '##tic', 'energy', 'harvesting'], ['ionic', 'field', '-', 'effect', 'transistor'], ['graph', '##itic', 'carbon', 'materials'], ['surface', 'engineering'], ['surface', 'charge'], ['surface', 'slip'], ['cellular', 'damage', 'response'], ['regulatory', 'network'], ['development', 'of', 'targets'], ['genome', 'analysis'], ['physi', '##ome', 'analysis'], ['damage', 'repair', 'system'], ['chromosome', 'aberr', '##ation', '##analysis'], ['dna', 'methylation', 'assay'], ['reactive', 'oxygen', 'species'], ['3', '##d', 'nanop', '##rin', '##ting'], ['big', 'data'], ['decision', 'support', 'system'], ['collaborative', 'networks'], ['information', 'technology'], ['big', 'data'], ['decision', 'support', 'system'], ['collaborative', 'networks'], ['information', 'technology'], ['soft', 'matter'], ['complex', 'fluids'], ['none', '##quilibrium', 'statistical', 'mechanics'], ['meso', '##sc', '##opic', 'simulations'], ['lattice', 'boltzmann', 'method'], ['cell', 'membrane'], ['colloidal', 'dispersion', '##s'], ['electro', '##rhe', '##ological', 'fluids'], ['magnet', '##orh', '##e', '##ological', 'fluids'], ['stochastic', 'rotation', 'dynamics'], ['reinforced', 'concrete', 'beam'], ['externally', 'un', '##bond', '##ed'], ['ultim', '##ae', 'steel', 'stress'], ['section', 'analysis'], ['two', 'photon', 'microscopy'], ['two', 'photon', 'probes'], ['early', 'diagnosis', 'of', 'cancer'], ['single', 'nucleotide', 'polymorphism'], ['restriction', 'site', 'associated', 'dna', 'sequencing'], ['phylogenetic', 'relationships'], ['population', 'genetic', 'patterns'], ['carbon', 'storage'], ['carbon', 'budget', 'model'], ['climate', 'change'], ['natural', 'disturbance'], ['retin', '##itis', 'pigment', '##osa'], ['age', 'related', 'macular', 'degeneration'], ['induced', 'pluripotent', 'stem', 'cell'], ['tissue', 'eng', '##inner', '##ing'], ['cell', 'delivery', 'and', 'transplant', '##ion', 'system'], ['stem', 'cell', 'and', 'polymer', 'composite'], ['travel', 'demand', 'analysis'], ['social', 'network', 'theory'], ['social', 'spill', '-', 'over', 'effect'], ['activity', '-', 'based', 'travel', 'behavior', 'model'], ['agent', '-', 'based', 'model'], ['discrete', 'choice', 'model'], ['decision', '-', 'making', 'system']]\n",
      "[['Fuel', 'cell'], ['Ta', '##ste', 'sens', '##ation'], ['In', 'vivo', 'imaging'], ['Multi', '##ph', '##oton', 'microscopy'], ['Histone', 'acetylation'], ['Chromatin', 'loop', '##ing'], ['Human', 'beta', 'gl', '##obi', '##n', 'locus'], ['Loop', 'media', '##ting', 'protein'], ['hair', 'cell'], ['neural', 'circuit'], ['fusion', 'technology'], ['implant', '##able', 'IC'], ['bio', '[UNK]', 'information', 'processing'], ['stem', 'cells'], ['artificial', 'transcription', 'factor'], ['aud', '##itory', 'organ'], ['inner', 'ear'], ['midd', '##le', 'ear'], ['neural', 'cre', '##st'], ['mouse', 'model'], ['Integr', '##in', 'alpha', 'M'], ['In', '##nate', 'Immun', '##e'], ['Plant', 'Disease'], ['F', '##ung', '##al', 'Path', '##ogen'], ['Ric', '##e', 'bl', '##ast', 'disease'], ['Plant', 'Disease'], ['F', '##ung', '##al', 'Path', '##ogen'], ['Ric', '##e', 'bl', '##ast', 'disease'], ['Hep', '##atitis', 'B', 'virus'], ['Ch', '##ronic', 'Hep', '##atitis', 'B'], ['Drug', 'resistance'], ['Anti', '##viral', 'effect'], ['3', '[UNK]', 'Dimension', '##al', 'numerical', 'analysis'], ['local', 'sc', '##our'], ['r', '##iver', 'management'], ['Had', '##ley', 'Circ', '##ulation'], ['At', '##m', '##osph', '##eric', 'General', 'Circ', '##ulation'], ['Natural', 'Vari', '##ability'], ['Electro', '##kin', '##etic', 'energy', 'harvesting'], ['Ion', '##ic', 'field', '[UNK]', 'effect', 'transistor'], ['Graph', '##itic', 'carbon', 'materials'], ['Surface', 'engineering'], ['Surface', 'charge'], ['Surface', 'slip'], ['Cellular', 'damage', 'response'], ['Regulator', '##y', 'network'], ['Development', 'of', 'targets'], ['Genome', 'analysis'], ['Phys', '##io', '##me', 'analysis'], ['Damage', 'repair', 'system'], ['Chrom', '##osome', 'ab', '##er', '##ration', '##ana', '##ly', '##si', '##s'], ['DNA', 'methylation', 'assay'], ['Reactive', 'oxygen', 'species'], ['3', '##D', 'Nanop', '##rinting'], ['Big', 'data'], ['Decision', 'support', 'system'], ['Collabor', '##ative', 'networks'], ['Information', 'technology'], ['Big', 'data'], ['Decision', 'support', 'system'], ['Collabor', '##ative', 'networks'], ['Information', 'technology'], ['Soft', 'matter'], ['complex', 'fluid', '##s'], ['none', '##quilibrium', 'statistical', 'mechan', '##ics'], ['mes', '##oscopic', 'simulations'], ['lattice', 'Bolt', '##z', '##mann', 'method'], ['cell', 'membrane'], ['coll', '##oidal', 'dispersion', '##s'], ['electro', '##rh', '##e', '##ological', 'fluid', '##s'], ['magnet', '##or', '##he', '##ological', 'fluid', '##s'], ['Stochastic', 'Rot', '##ation', 'Dynamics'], ['Reinfor', '##ced', 'Concrete', 'Beam'], ['External', '##ly', 'Un', '##bon', '##ded'], ['Ul', '##tim', '##ae', 'Steel', 'Stress'], ['Section', 'Analysis'], ['two', 'photon', 'microscopy'], ['two', 'photon', 'probe', '##s'], ['early', 'diagnosis', 'of', 'cancer'], ['Single', 'nucleotide', 'polymorphism'], ['Rest', '##riction', 'site', 'associated', 'DNA', 'sequencing'], ['Ph', '##yl', '##ogenetic', 'relationship', '##s'], ['Pop', '##ulation', 'genetic', 'pattern', '##s'], ['Carbon', 'Storage'], ['Carbon', 'Bu', '##dge', '##t', 'Model'], ['Cl', '##imate', 'Change'], ['Natural', 'Dis', '##turb', '##ance'], ['retin', '##itis', 'pi', '##g', '##ment', '##osa'], ['ag', '##e', 'related', 'mac', '##ular', 'deg', '##eneration'], ['Ind', '##uced', 'pluripot', '##ent', 'stem', 'cell'], ['tissue', 'en', '##gin', '##ner', '##ing'], ['cell', 'delivery', 'and', 'trans', '##plant', '##ion', 'system'], ['stem', 'cell', 'and', 'polymer', 'composite'], ['Tra', '##vel', 'Dem', '##and', 'Analysis'], ['Social', 'Network', 'Theory'], ['Social', 'Sp', '##ill', '[UNK]', 'over', 'Effect'], ['Activity', '[UNK]', 'based', 'Tra', '##vel', 'Behavior', 'Model'], ['Agent', '[UNK]', 'based', 'Model'], ['Disc', '##rete', 'Ch', '##oice', 'Model'], ['Decision', '[UNK]', 'Ma', '##king', 'System']]\n"
     ]
    }
   ],
   "source": [
    "sci_tokenized_multi = []\n",
    "tokenized_multi = []\n",
    "for k in multi_keywords[:100]:\n",
    "    sci_tokenized_multi.append(kos_tokenizer.tokenize(k))\n",
    "    tokenized_multi.append(tokenizer.tokenize(k))\n",
    "print(sci_tokenized_multi)\n",
    "print(tokenized_multi)"
   ]
  },
  {
   "cell_type": "markdown",
   "id": "2551d55e",
   "metadata": {},
   "source": [
    "label idx 로 변환"
   ]
  },
  {
   "cell_type": "code",
   "execution_count": 56,
   "id": "ab802329",
   "metadata": {},
   "outputs": [
    {
     "data": {
      "text/plain": [
       "568302"
      ]
     },
     "execution_count": 56,
     "metadata": {},
     "output_type": "execute_result"
    }
   ],
   "source": [
    "code2idx = []\n",
    "for k in multi_codes:\n",
    "    code2idx.append(lab2idx[k])"
   ]
  },
  {
   "cell_type": "code",
   "execution_count": 57,
   "id": "fa26f72d",
   "metadata": {},
   "outputs": [
    {
     "name": "stdout",
     "output_type": "stream",
     "text": [
      "568302 568302\n"
     ]
    }
   ],
   "source": [
    "print(len(multi_keywords),len(code2idx))"
   ]
  },
  {
   "cell_type": "markdown",
   "id": "2ab0a408",
   "metadata": {},
   "source": [
    "Tokenizer"
   ]
  },
  {
   "cell_type": "code",
   "execution_count": 58,
   "id": "acebfa6d",
   "metadata": {},
   "outputs": [],
   "source": [
    "MAX_LENGTH = 256"
   ]
  },
  {
   "cell_type": "code",
   "execution_count": 61,
   "id": "825baa7f",
   "metadata": {},
   "outputs": [
    {
     "name": "stderr",
     "output_type": "stream",
     "text": [
      "  0%|          | 0/568302 [00:00<?, ?it/s]/home/ubuntu/anaconda3/envs/pytorch1.4_p36/lib/python3.6/site-packages/transformers/tokenization_utils_base.py:2257: FutureWarning: The `pad_to_max_length` argument is deprecated and will be removed in a future version, use `padding=True` or `padding='longest'` to pad to the longest sequence in the batch, or use `padding='max_length'` to pad to a max length. In this case, you can give a specific length with `max_length` (e.g. `max_length=45`) or leave max_length to None to pad to the maximal input size of the model (e.g. 512 for Bert).\n",
      "  FutureWarning,\n",
      "100%|██████████| 568302/568302 [02:04<00:00, 4561.66it/s]\n"
     ]
    }
   ],
   "source": [
    "encode_train_data = []\n",
    "input_ids = []\n",
    "attention_masks = []\n",
    "token_type_ids =[]\n",
    "for line in tqdm(multi_keywords):\n",
    "    encoded_dict = tokenizer.encode_plus(line,\\\n",
    "                                        add_special_tokens=True,\\\n",
    "                                        pad_to_max_length=True,\\\n",
    "                                        max_length = MAX_LENGTH,\\\n",
    "                                        return_attention_mask=True,\\\n",
    "                                        truncation =True)\n",
    "    \n",
    "    input_id = encoded_dict['input_ids']\n",
    "    attention_mask=encoded_dict['attention_mask']\n",
    "    token_type_id = encoded_dict['token_type_ids']\n",
    "    \n",
    "    input_ids.append(input_id)\n",
    "    attention_masks.append(attention_mask)\n",
    "    token_type_ids.append(token_type_id)\n",
    "\n",
    "train_input_ids=np.array(input_ids, dtype=int)\n",
    "train_attention_masks=np.array(attention_masks, dtype=int)\n",
    "train_token_type_ids=np.array(token_type_ids, dtype=int)\n",
    "train_x=(train_input_ids, train_attention_masks, train_token_type_ids)"
   ]
  },
  {
   "cell_type": "code",
   "execution_count": null,
   "id": "6088610d",
   "metadata": {},
   "outputs": [],
   "source": [
    "\n"
   ]
  },
  {
   "cell_type": "code",
   "execution_count": null,
   "id": "39eb8022",
   "metadata": {},
   "outputs": [],
   "source": [
    "keywords "
   ]
  }
 ],
 "metadata": {
  "kernelspec": {
   "display_name": "Environment (conda_pytorch1.4_p36)",
   "language": "python",
   "name": "conda_pytorch1.4_p36"
  },
  "language_info": {
   "codemirror_mode": {
    "name": "ipython",
    "version": 3
   },
   "file_extension": ".py",
   "mimetype": "text/x-python",
   "name": "python",
   "nbconvert_exporter": "python",
   "pygments_lexer": "ipython3",
   "version": "3.6.13"
  }
 },
 "nbformat": 4,
 "nbformat_minor": 5
}
