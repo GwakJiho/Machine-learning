{
 "cells": [
  {
   "cell_type": "code",
   "execution_count": 1,
   "id": "7f58d6eb",
   "metadata": {},
   "outputs": [],
   "source": [
    "import random\n",
    "\n",
    "import numpy as np\n",
    "from sklearn.metrics import accuracy_score, top_k_accuracy_score\n",
    "\n",
    "import torch\n",
    "import pandas as pd\n",
    "import tqdm\n",
    "\n",
    "from transformers import DebertaTokenizerFast, DebertaForSequenceClassification, Trainer, TrainingArguments\n",
    "\n",
    "from transformers import AutoTokenizer, AutoModelForSequenceClassification\n",
    "\n",
    "from deberta_datasettmp import TextClassificationDataset\n",
    "from torch.utils.data import DataLoader"
   ]
  },
  {
   "cell_type": "code",
   "execution_count": 2,
   "id": "3193eb74",
   "metadata": {
    "scrolled": true
   },
   "outputs": [
    {
     "name": "stderr",
     "output_type": "stream",
     "text": [
      "Some weights of the model checkpoint at microsoft/deberta-v3-base were not used when initializing DebertaV2ForSequenceClassification: ['lm_predictions.lm_head.bias', 'mask_predictions.LayerNorm.weight', 'lm_predictions.lm_head.dense.bias', 'mask_predictions.dense.weight', 'lm_predictions.lm_head.dense.weight', 'mask_predictions.classifier.bias', 'lm_predictions.lm_head.LayerNorm.bias', 'mask_predictions.dense.bias', 'mask_predictions.LayerNorm.bias', 'lm_predictions.lm_head.LayerNorm.weight', 'mask_predictions.classifier.weight']\n",
      "- This IS expected if you are initializing DebertaV2ForSequenceClassification from the checkpoint of a model trained on another task or with another architecture (e.g. initializing a BertForSequenceClassification model from a BertForPreTraining model).\n",
      "- This IS NOT expected if you are initializing DebertaV2ForSequenceClassification from the checkpoint of a model that you expect to be exactly identical (initializing a BertForSequenceClassification model from a BertForSequenceClassification model).\n",
      "Some weights of DebertaV2ForSequenceClassification were not initialized from the model checkpoint at microsoft/deberta-v3-base and are newly initialized: ['pooler.dense.weight', 'classifier.bias', 'pooler.dense.bias', 'classifier.weight']\n",
      "You should probably TRAIN this model on a down-stream task to be able to use it for predictions and inference.\n"
     ]
    }
   ],
   "source": [
    "pretrained_model_name = 'microsoft/deberta-v3-base'\n",
    "\n",
    "model = AutoModelForSequenceClassification.from_pretrained(\n",
    "    pretrained_model_name,\n",
    "    num_labels=199\n",
    ")"
   ]
  },
  {
   "cell_type": "code",
   "execution_count": 3,
   "id": "9bd6f1be",
   "metadata": {
    "scrolled": true
   },
   "outputs": [
    {
     "name": "stderr",
     "output_type": "stream",
     "text": [
      "Special tokens have been added in the vocabulary, make sure the associated word embeddings are fine-tuned or trained.\n"
     ]
    },
    {
     "name": "stdout",
     "output_type": "stream",
     "text": [
      "|train| 185266 |valid| 46317\n",
      "#total_inters =  57895 #warmup_iters =  11579\n"
     ]
    }
   ],
   "source": [
    "\n",
    "tokenizer = AutoTokenizer.from_pretrained('microsoft/deberta-v3-base', use_fast=False)\n",
    "valid_ratio = 0.2\n",
    "batch_size_per_device = 32\n",
    "n_epochs = 10\n",
    "warmup_ratio=0.2\n",
    "max_length=256\n",
    "num_classes=199\n",
    "\n",
    "def get_datasets(data, valid_ratio=0.2):\n",
    "    texts, labels = data['Text'].tolist(), data['MidIdx'].tolist()\n",
    "    \n",
    "    shuffeld = list(zip(texts, labels))\n",
    "    random.shuffle(shuffeld)\n",
    "  \n",
    "    texts = [e[0] for e in shuffeld]\n",
    "    labels = [e[1] for e in shuffeld]\n",
    "    idx = int(len(texts) * (1 - valid_ratio))\n",
    "    train_input, train_label = texts[:idx], labels[:idx]\n",
    "    valid_input, valid_label = texts[idx:], labels[idx:]\n",
    "    \n",
    "    return  train_input, train_label, valid_input, valid_label\n",
    "\n",
    "\n",
    "data = pd.read_csv('./traindata.csv')\n",
    "train_input, train_label, valid_input, valid_label = get_datasets(data)\n",
    "\n",
    "train_encodings = tokenizer(train_input, truncation=True, padding=True, max_length=max_length)\n",
    "valid_encodings = tokenizer(valid_input, truncation=True, padding=True, max_length=max_length)\n",
    "train_labels = torch.tensor(train_label)\n",
    "valid_labels = torch.tensor(valid_label)\n",
    "\n",
    "train_set = TextClassificationDataset(train_encodings,train_labels)\n",
    "test_set = TextClassificationDataset(valid_encodings, valid_labels)\n",
    "\n",
    "print(\n",
    "    '|train|', len(train_input),\n",
    "    '|valid|', len(valid_input),\n",
    ")\n",
    "\n",
    "total_batch_size = batch_size_per_device \n",
    "n_total_iterations = int(len(train_input) / total_batch_size * n_epochs) \n",
    "n_warmup_steps = int(n_total_iterations * warmup_ratio)\n",
    "\n",
    "print(\n",
    "    '#total_inters = ', n_total_iterations,\n",
    "    '#warmup_iters = ', n_warmup_steps,\n",
    ")\n",
    "\n",
    "\n",
    "\n",
    "training_args = TrainingArguments(\n",
    "    output_dir='./Deberta_V3_CheckPoint',\n",
    "    num_train_epochs=n_epochs,\n",
    "    per_device_train_batch_size=batch_size_per_device,\n",
    "    per_device_eval_batch_size=batch_size_per_device,\n",
    "    warmup_steps=n_warmup_steps,\n",
    "    weight_decay=0.01,\n",
    "    evaluation_strategy='epoch',\n",
    "    logging_steps=n_total_iterations // 100,\n",
    "    save_steps=n_total_iterations // n_epochs\n",
    ")\n",
    "\n",
    "def compute_metrics(pred):\n",
    "    labels = pred.label_ids\n",
    "    preds = pred.predictions\n",
    "\n",
    "    return {\n",
    "        'accuracy' : top_k_accuracy_score(labels, preds, k=2)\n",
    "    }\n",
    "\n",
    "\n",
    "# 이제 CustomTrainer를 사용하여 학습을 수행합니다.\n"
   ]
  },
  {
   "cell_type": "code",
   "execution_count": 5,
   "id": "281d3368-7a37-4cf1-b1f8-b5382b4f4be5",
   "metadata": {},
   "outputs": [
    {
     "name": "stderr",
     "output_type": "stream",
     "text": [
      "/usr/local/lib/python3.8/site-packages/transformers/optimization.py:391: FutureWarning: This implementation of AdamW is deprecated and will be removed in a future version. Use the PyTorch implementation torch.optim.AdamW instead, or set `no_deprecation_warning=True` to disable this warning\n",
      "  warnings.warn(\n",
      "/root/storage/RNDClassification/deberta_datasettmp.py:15: UserWarning: To copy construct from a tensor, it is recommended to use sourceTensor.clone().detach() or sourceTensor.clone().detach().requires_grad_(True), rather than torch.tensor(sourceTensor).\n",
      "  item[\"labels\"] = torch.tensor(self.labels[idx]).long()\n"
     ]
    },
    {
     "data": {
      "text/html": [
       "\n",
       "    <div>\n",
       "      \n",
       "      <progress value='57900' max='57900' style='width:300px; height:20px; vertical-align: middle;'></progress>\n",
       "      [57900/57900 10:32:12, Epoch 10/10]\n",
       "    </div>\n",
       "    <table border=\"1\" class=\"dataframe\">\n",
       "  <thead>\n",
       " <tr style=\"text-align: left;\">\n",
       "      <th>Epoch</th>\n",
       "      <th>Training Loss</th>\n",
       "      <th>Validation Loss</th>\n",
       "      <th>Accuracy</th>\n",
       "    </tr>\n",
       "  </thead>\n",
       "  <tbody>\n",
       "    <tr>\n",
       "      <td>1</td>\n",
       "      <td>1.546600</td>\n",
       "      <td>1.410915</td>\n",
       "      <td>0.781182</td>\n",
       "    </tr>\n",
       "    <tr>\n",
       "      <td>2</td>\n",
       "      <td>1.212400</td>\n",
       "      <td>1.207976</td>\n",
       "      <td>0.822441</td>\n",
       "    </tr>\n",
       "    <tr>\n",
       "      <td>3</td>\n",
       "      <td>0.933200</td>\n",
       "      <td>0.993952</td>\n",
       "      <td>0.859058</td>\n",
       "    </tr>\n",
       "    <tr>\n",
       "      <td>4</td>\n",
       "      <td>0.772400</td>\n",
       "      <td>0.903953</td>\n",
       "      <td>0.877345</td>\n",
       "    </tr>\n",
       "    <tr>\n",
       "      <td>5</td>\n",
       "      <td>0.607100</td>\n",
       "      <td>0.917061</td>\n",
       "      <td>0.882419</td>\n",
       "    </tr>\n",
       "    <tr>\n",
       "      <td>6</td>\n",
       "      <td>0.491100</td>\n",
       "      <td>0.937121</td>\n",
       "      <td>0.885075</td>\n",
       "    </tr>\n",
       "    <tr>\n",
       "      <td>7</td>\n",
       "      <td>0.401600</td>\n",
       "      <td>0.953071</td>\n",
       "      <td>0.887817</td>\n",
       "    </tr>\n",
       "    <tr>\n",
       "      <td>8</td>\n",
       "      <td>0.303400</td>\n",
       "      <td>0.984900</td>\n",
       "      <td>0.888378</td>\n",
       "    </tr>\n",
       "    <tr>\n",
       "      <td>9</td>\n",
       "      <td>0.240500</td>\n",
       "      <td>1.048460</td>\n",
       "      <td>0.889026</td>\n",
       "    </tr>\n",
       "    <tr>\n",
       "      <td>10</td>\n",
       "      <td>0.173500</td>\n",
       "      <td>1.129718</td>\n",
       "      <td>0.888680</td>\n",
       "    </tr>\n",
       "  </tbody>\n",
       "</table><p>"
      ],
      "text/plain": [
       "<IPython.core.display.HTML object>"
      ]
     },
     "metadata": {},
     "output_type": "display_data"
    },
    {
     "name": "stderr",
     "output_type": "stream",
     "text": [
      "/root/storage/RNDClassification/deberta_datasettmp.py:15: UserWarning: To copy construct from a tensor, it is recommended to use sourceTensor.clone().detach() or sourceTensor.clone().detach().requires_grad_(True), rather than torch.tensor(sourceTensor).\n",
      "  item[\"labels\"] = torch.tensor(self.labels[idx]).long()\n",
      "/root/storage/RNDClassification/deberta_datasettmp.py:15: UserWarning: To copy construct from a tensor, it is recommended to use sourceTensor.clone().detach() or sourceTensor.clone().detach().requires_grad_(True), rather than torch.tensor(sourceTensor).\n",
      "  item[\"labels\"] = torch.tensor(self.labels[idx]).long()\n",
      "/root/storage/RNDClassification/deberta_datasettmp.py:15: UserWarning: To copy construct from a tensor, it is recommended to use sourceTensor.clone().detach() or sourceTensor.clone().detach().requires_grad_(True), rather than torch.tensor(sourceTensor).\n",
      "  item[\"labels\"] = torch.tensor(self.labels[idx]).long()\n",
      "IOPub message rate exceeded.\n",
      "The Jupyter server will temporarily stop sending output\n",
      "to the client in order to avoid crashing it.\n",
      "To change this limit, set the config variable\n",
      "`--ServerApp.iopub_msg_rate_limit`.\n",
      "\n",
      "Current values:\n",
      "ServerApp.iopub_msg_rate_limit=1000.0 (msgs/sec)\n",
      "ServerApp.rate_limit_window=3.0 (secs)\n",
      "\n",
      "/root/storage/RNDClassification/deberta_datasettmp.py:15: UserWarning: To copy construct from a tensor, it is recommended to use sourceTensor.clone().detach() or sourceTensor.clone().detach().requires_grad_(True), rather than torch.tensor(sourceTensor).\n",
      "  item[\"labels\"] = torch.tensor(self.labels[idx]).long()\n",
      "/root/storage/RNDClassification/deberta_datasettmp.py:15: UserWarning: To copy construct from a tensor, it is recommended to use sourceTensor.clone().detach() or sourceTensor.clone().detach().requires_grad_(True), rather than torch.tensor(sourceTensor).\n",
      "  item[\"labels\"] = torch.tensor(self.labels[idx]).long()\n",
      "/root/storage/RNDClassification/deberta_datasettmp.py:15: UserWarning: To copy construct from a tensor, it is recommended to use sourceTensor.clone().detach() or sourceTensor.clone().detach().requires_grad_(True), rather than torch.tensor(sourceTensor).\n",
      "  item[\"labels\"] = torch.tensor(self.labels[idx]).long()\n",
      "/root/storage/RNDClassification/deberta_datasettmp.py:15: UserWarning: To copy construct from a tensor, it is recommended to use sourceTensor.clone().detach() or sourceTensor.clone().detach().requires_grad_(True), rather than torch.tensor(sourceTensor).\n",
      "  item[\"labels\"] = torch.tensor(self.labels[idx]).long()\n",
      "/root/storage/RNDClassification/deberta_datasettmp.py:15: UserWarning: To copy construct from a tensor, it is recommended to use sourceTensor.clone().detach() or sourceTensor.clone().detach().requires_grad_(True), rather than torch.tensor(sourceTensor).\n",
      "  item[\"labels\"] = torch.tensor(self.labels[idx]).long()\n",
      "/root/storage/RNDClassification/deberta_datasettmp.py:15: UserWarning: To copy construct from a tensor, it is recommended to use sourceTensor.clone().detach() or sourceTensor.clone().detach().requires_grad_(True), rather than torch.tensor(sourceTensor).\n",
      "  item[\"labels\"] = torch.tensor(self.labels[idx]).long()\n",
      "/root/storage/RNDClassification/deberta_datasettmp.py:15: UserWarning: To copy construct from a tensor, it is recommended to use sourceTensor.clone().detach() or sourceTensor.clone().detach().requires_grad_(True), rather than torch.tensor(sourceTensor).\n",
      "  item[\"labels\"] = torch.tensor(self.labels[idx]).long()\n",
      "/root/storage/RNDClassification/deberta_datasettmp.py:15: UserWarning: To copy construct from a tensor, it is recommended to use sourceTensor.clone().detach() or sourceTensor.clone().detach().requires_grad_(True), rather than torch.tensor(sourceTensor).\n",
      "  item[\"labels\"] = torch.tensor(self.labels[idx]).long()\n",
      "/root/storage/RNDClassification/deberta_datasettmp.py:15: UserWarning: To copy construct from a tensor, it is recommended to use sourceTensor.clone().detach() or sourceTensor.clone().detach().requires_grad_(True), rather than torch.tensor(sourceTensor).\n",
      "  item[\"labels\"] = torch.tensor(self.labels[idx]).long()\n",
      "/root/storage/RNDClassification/deberta_datasettmp.py:15: UserWarning: To copy construct from a tensor, it is recommended to use sourceTensor.clone().detach() or sourceTensor.clone().detach().requires_grad_(True), rather than torch.tensor(sourceTensor).\n",
      "  item[\"labels\"] = torch.tensor(self.labels[idx]).long()\n",
      "/root/storage/RNDClassification/deberta_datasettmp.py:15: UserWarning: To copy construct from a tensor, it is recommended to use sourceTensor.clone().detach() or sourceTensor.clone().detach().requires_grad_(True), rather than torch.tensor(sourceTensor).\n",
      "  item[\"labels\"] = torch.tensor(self.labels[idx]).long()\n",
      "/root/storage/RNDClassification/deberta_datasettmp.py:15: UserWarning: To copy construct from a tensor, it is recommended to use sourceTensor.clone().detach() or sourceTensor.clone().detach().requires_grad_(True), rather than torch.tensor(sourceTensor).\n",
      "  item[\"labels\"] = torch.tensor(self.labels[idx]).long()\n",
      "/root/storage/RNDClassification/deberta_datasettmp.py:15: UserWarning: To copy construct from a tensor, it is recommended to use sourceTensor.clone().detach() or sourceTensor.clone().detach().requires_grad_(True), rather than torch.tensor(sourceTensor).\n",
      "  item[\"labels\"] = torch.tensor(self.labels[idx]).long()\n",
      "/root/storage/RNDClassification/deberta_datasettmp.py:15: UserWarning: To copy construct from a tensor, it is recommended to use sourceTensor.clone().detach() or sourceTensor.clone().detach().requires_grad_(True), rather than torch.tensor(sourceTensor).\n",
      "  item[\"labels\"] = torch.tensor(self.labels[idx]).long()\n",
      "/root/storage/RNDClassification/deberta_datasettmp.py:15: UserWarning: To copy construct from a tensor, it is recommended to use sourceTensor.clone().detach() or sourceTensor.clone().detach().requires_grad_(True), rather than torch.tensor(sourceTensor).\n",
      "  item[\"labels\"] = torch.tensor(self.labels[idx]).long()\n"
     ]
    },
    {
     "data": {
      "text/plain": [
       "TrainOutput(global_step=57900, training_loss=0.8438131112344113, metrics={'train_runtime': 37933.568, 'train_samples_per_second': 48.84, 'train_steps_per_second': 1.526, 'total_flos': 2.4416313635779584e+17, 'train_loss': 0.8438131112344113, 'epoch': 10.0})"
      ]
     },
     "execution_count": 5,
     "metadata": {},
     "output_type": "execute_result"
    }
   ],
   "source": [
    "trainer = Trainer(\n",
    "    model=model,\n",
    "    args=training_args,\n",
    "    train_dataset=train_set,\n",
    "    eval_dataset=test_set,\n",
    "    compute_metrics=compute_metrics,\n",
    ")\n",
    "\n",
    "trainer.train()"
   ]
  }
 ],
 "metadata": {
  "kernelspec": {
   "display_name": "Python 3 (ipykernel)",
   "language": "python",
   "name": "python3"
  },
  "language_info": {
   "codemirror_mode": {
    "name": "ipython",
    "version": 3
   },
   "file_extension": ".py",
   "mimetype": "text/x-python",
   "name": "python",
   "nbconvert_exporter": "python",
   "pygments_lexer": "ipython3",
   "version": "3.8.0"
  }
 },
 "nbformat": 4,
 "nbformat_minor": 5
}
