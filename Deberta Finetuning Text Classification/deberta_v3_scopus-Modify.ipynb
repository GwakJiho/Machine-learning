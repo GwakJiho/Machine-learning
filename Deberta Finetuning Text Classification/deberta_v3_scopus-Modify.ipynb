{
 "cells": [
  {
   "cell_type": "code",
   "execution_count": null,
   "id": "f0291f26",
   "metadata": {},
   "outputs": [],
   "source": [
    "%config Completer.use_jedi=False"
   ]
  },
  {
   "cell_type": "code",
   "execution_count": 1,
   "id": "7f58d6eb",
   "metadata": {},
   "outputs": [],
   "source": [
    "import random\n",
    "\n",
    "import numpy as np\n",
    "from sklearn.metrics import accuracy_score, top_k_accuracy_score\n",
    "\n",
    "import torch\n",
    "import pandas as pd\n",
    "import tqdm\n",
    "\n",
    "from transformers import DebertaTokenizerFast, DebertaForSequenceClassification, Trainer, TrainingArguments\n",
    "\n",
    "from transformers import AutoTokenizer, AutoModelForSequenceClassification\n",
    "\n",
    "from deberta_datasettmp import TextClassificationDataset\n",
    "from torch.utils.data import DataLoader"
   ]
  },
  {
   "cell_type": "code",
   "execution_count": 2,
   "id": "3193eb74",
   "metadata": {
    "scrolled": true
   },
   "outputs": [
    {
     "name": "stderr",
     "output_type": "stream",
     "text": [
      "Some weights of the model checkpoint at microsoft/deberta-v3-base were not used when initializing DebertaV2ForSequenceClassification: ['lm_predictions.lm_head.dense.bias', 'mask_predictions.dense.weight', 'mask_predictions.classifier.bias', 'mask_predictions.dense.bias', 'lm_predictions.lm_head.bias', 'lm_predictions.lm_head.LayerNorm.weight', 'mask_predictions.classifier.weight', 'lm_predictions.lm_head.dense.weight', 'mask_predictions.LayerNorm.weight', 'mask_predictions.LayerNorm.bias', 'lm_predictions.lm_head.LayerNorm.bias']\n",
      "- This IS expected if you are initializing DebertaV2ForSequenceClassification from the checkpoint of a model trained on another task or with another architecture (e.g. initializing a BertForSequenceClassification model from a BertForPreTraining model).\n",
      "- This IS NOT expected if you are initializing DebertaV2ForSequenceClassification from the checkpoint of a model that you expect to be exactly identical (initializing a BertForSequenceClassification model from a BertForSequenceClassification model).\n",
      "Some weights of DebertaV2ForSequenceClassification were not initialized from the model checkpoint at microsoft/deberta-v3-base and are newly initialized: ['pooler.dense.bias', 'pooler.dense.weight', 'classifier.weight', 'classifier.bias']\n",
      "You should probably TRAIN this model on a down-stream task to be able to use it for predictions and inference.\n"
     ]
    }
   ],
   "source": [
    "pretrained_model_name = 'microsoft/deberta-v3-base'\n",
    "\n",
    "model = AutoModelForSequenceClassification.from_pretrained(\n",
    "    pretrained_model_name,\n",
    "    num_labels=199\n",
    ")"
   ]
  },
  {
   "cell_type": "code",
   "execution_count": 3,
   "id": "b770a784-0a1b-40b8-8eb2-7ccfda98bdbb",
   "metadata": {},
   "outputs": [],
   "source": [
    "import json\n",
    "with open(\"CategoryCode.json\", \"r\")as f:\n",
    "  Code = json.load(f)"
   ]
  },
  {
   "cell_type": "code",
   "execution_count": 24,
   "id": "8f58dc9b-11b8-4094-b769-f80726f4770c",
   "metadata": {},
   "outputs": [
    {
     "data": {
      "text/plain": [
       "[126, 25, 141, 10, 171, 116, 161, 27, 69, 66]"
      ]
     },
     "execution_count": 24,
     "metadata": {},
     "output_type": "execute_result"
    }
   ],
   "source": [
    "train_label[:10]"
   ]
  },
  {
   "cell_type": "code",
   "execution_count": 4,
   "id": "9bd6f1be",
   "metadata": {
    "scrolled": true
   },
   "outputs": [
    {
     "name": "stderr",
     "output_type": "stream",
     "text": [
      "Special tokens have been added in the vocabulary, make sure the associated word embeddings are fine-tuned or trained.\n"
     ]
    },
    {
     "name": "stdout",
     "output_type": "stream",
     "text": [
      "|train| 185266 |valid| 46317\n",
      "#total_inters =  57895 #warmup_iters =  11579\n"
     ]
    }
   ],
   "source": [
    "\n",
    "tokenizer = AutoTokenizer.from_pretrained('microsoft/deberta-v3-base', use_fast=False)\n",
    "valid_ratio = 0.2\n",
    "batch_size_per_device = 32\n",
    "n_epochs = 10\n",
    "warmup_ratio=0.2\n",
    "max_length=256\n",
    "num_classes=199\n",
    "\n",
    "def get_datasets(data, valid_ratio=0.2):\n",
    "    texts, labels = data['Text'].tolist(), data['MidIdx'].tolist()\n",
    "    \n",
    "    shuffeld = list(zip(texts, labels))\n",
    "    random.shuffle(shuffeld)\n",
    "  \n",
    "    texts = [e[0] for e in shuffeld]\n",
    "    labels = [e[1] for e in shuffeld]\n",
    "    idx = int(len(texts) * (1 - valid_ratio))\n",
    "    train_input, train_label = texts[:idx], labels[:idx]\n",
    "    valid_input, valid_label = texts[idx:], labels[idx:]\n",
    "    \n",
    "    return  train_input, train_label, valid_input, valid_label\n",
    "\n",
    "\n",
    "data = pd.read_csv('./traindata.csv')\n",
    "train_input, train_label, valid_input, valid_label = get_datasets(data)\n",
    "\n",
    "train_encodings = tokenizer(train_input, truncation=True, padding=True, max_length=max_length)\n",
    "valid_encodings = tokenizer(valid_input, truncation=True, padding=True, max_length=max_length)\n",
    "train_labels = torch.tensor(train_label)\n",
    "valid_labels = torch.tensor(valid_label)\n",
    "\n",
    "train_set = TextClassificationDataset(train_encodings,train_labels)\n",
    "test_set = TextClassificationDataset(valid_encodings, valid_labels)\n",
    "\n",
    "print(\n",
    "    '|train|', len(train_input),\n",
    "    '|valid|', len(valid_input),\n",
    ")\n",
    "\n",
    "total_batch_size = batch_size_per_device \n",
    "n_total_iterations = int(len(train_input) / total_batch_size * n_epochs) \n",
    "n_warmup_steps = int(n_total_iterations * warmup_ratio)\n",
    "\n",
    "print(\n",
    "    '#total_inters = ', n_total_iterations,\n",
    "    '#warmup_iters = ', n_warmup_steps,\n",
    ")\n",
    "\n",
    "\n",
    "\n",
    "training_args = TrainingArguments(\n",
    "    output_dir='./Deberta_V3_CheckPoint',\n",
    "    num_train_epochs=n_epochs,\n",
    "    per_device_train_batch_size=batch_size_per_device,\n",
    "    per_device_eval_batch_size=batch_size_per_device,\n",
    "    warmup_steps=n_warmup_steps,\n",
    "    weight_decay=0.01,\n",
    "    evaluation_strategy='epoch',\n",
    "    logging_steps=n_total_iterations // 100,\n",
    "    save_steps=n_total_iterations // n_epochs\n",
    ")\n",
    "\n",
    "def compute_metrics(pred):\n",
    "    labels = pred.label_ids\n",
    "    preds = pred.predictions.argmax(-1)\n",
    "\n",
    "    return {\n",
    "        'accuracy' : top_k_accuracy_score(labels, preds, k=2)\n",
    "    }\n",
    "\n",
    "\n",
    "# 이제 CustomTrainer를 사용하여 학습을 수행합니다.\n"
   ]
  },
  {
   "cell_type": "code",
   "execution_count": null,
   "id": "281d3368-7a37-4cf1-b1f8-b5382b4f4be5",
   "metadata": {},
   "outputs": [
    {
     "name": "stderr",
     "output_type": "stream",
     "text": [
      "/usr/local/lib/python3.8/site-packages/transformers/optimization.py:391: FutureWarning: This implementation of AdamW is deprecated and will be removed in a future version. Use the PyTorch implementation torch.optim.AdamW instead, or set `no_deprecation_warning=True` to disable this warning\n",
      "  warnings.warn(\n",
      "/root/storage/RNDClassification/deberta_datasettmp.py:15: UserWarning: To copy construct from a tensor, it is recommended to use sourceTensor.clone().detach() or sourceTensor.clone().detach().requires_grad_(True), rather than torch.tensor(sourceTensor).\n",
      "  item[\"labels\"] = torch.tensor(self.labels[idx]).long()\n"
     ]
    },
    {
     "data": {
      "text/html": [
       "\n",
       "    <div>\n",
       "      \n",
       "      <progress value='100' max='57900' style='width:300px; height:20px; vertical-align: middle;'></progress>\n",
       "      [  100/57900 00:59 < 9:42:04, 1.66 it/s, Epoch 0.02/10]\n",
       "    </div>\n",
       "    <table border=\"1\" class=\"dataframe\">\n",
       "  <thead>\n",
       " <tr style=\"text-align: left;\">\n",
       "      <th>Epoch</th>\n",
       "      <th>Training Loss</th>\n",
       "      <th>Validation Loss</th>\n",
       "    </tr>\n",
       "  </thead>\n",
       "  <tbody>\n",
       "  </tbody>\n",
       "</table><p>"
      ],
      "text/plain": [
       "<IPython.core.display.HTML object>"
      ]
     },
     "metadata": {},
     "output_type": "display_data"
    }
   ],
   "source": [
    "trainer = Trainer(\n",
    "    model=model,\n",
    "    args=training_args,\n",
    "    train_dataset=train_set,\n",
    "    eval_dataset=test_set,\n",
    "    compute_metrics=compute_metrics,\n",
    ")\n",
    "\n",
    "trainer.train()"
   ]
  }
  
