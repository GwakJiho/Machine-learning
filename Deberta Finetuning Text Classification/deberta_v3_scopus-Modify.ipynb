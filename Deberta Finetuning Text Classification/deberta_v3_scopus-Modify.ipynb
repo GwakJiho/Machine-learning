{
 "cells": [
  {
   "cell_type": "code",
   "execution_count": null,
   "id": "f0291f26",
   "metadata": {},
   "outputs": [],
   "source": [
    "%config Completer.use_jedi=False"
   ]
  },
  {
   "cell_type": "code",
   "execution_count": 1,
   "id": "7f58d6eb",
   "metadata": {},
   "outputs": [],
   "source": [
    "import random\n",
    "\n",
    "import numpy as np\n",
    "from sklearn.metrics import accuracy_score, top_k_accuracy_score\n",
    "\n",
    "import torch\n",
    "import pandas as pd\n",
    "import tqdm\n",
    "\n",
    "from transformers import DebertaTokenizerFast, DebertaForSequenceClassification, Trainer, TrainingArguments\n",
    "\n",
    "from transformers import AutoTokenizer, AutoModelForSequenceClassification\n",
    "\n",
    "from deberta_datasettmp import TextClassificationDataset\n",
    "from torch.utils.data import DataLoader"
   ]
  },
  {
   "cell_type": "code",
   "execution_count": 2,
   "id": "3193eb74",
   "metadata": {
    "scrolled": true
   },
   "outputs": [
    {
     "name": "stderr",
     "output_type": "stream",
     "text": [
      "Some weights of the model checkpoint at microsoft/deberta-v3-base were not used when initializing DebertaV2ForSequenceClassification: ['lm_predictions.lm_head.dense.bias', 'mask_predictions.dense.weight', 'mask_predictions.classifier.bias', 'mask_predictions.dense.bias', 'lm_predictions.lm_head.bias', 'lm_predictions.lm_head.LayerNorm.weight', 'mask_predictions.classifier.weight', 'lm_predictions.lm_head.dense.weight', 'mask_predictions.LayerNorm.weight', 'mask_predictions.LayerNorm.bias', 'lm_predictions.lm_head.LayerNorm.bias']\n",
      "- This IS expected if you are initializing DebertaV2ForSequenceClassification from the checkpoint of a model trained on another task or with another architecture (e.g. initializing a BertForSequenceClassification model from a BertForPreTraining model).\n",
      "- This IS NOT expected if you are initializing DebertaV2ForSequenceClassification from the checkpoint of a model that you expect to be exactly identical (initializing a BertForSequenceClassification model from a BertForSequenceClassification model).\n",
      "Some weights of DebertaV2ForSequenceClassification were not initialized from the model checkpoint at microsoft/deberta-v3-base and are newly initialized: ['pooler.dense.bias', 'pooler.dense.weight', 'classifier.weight', 'classifier.bias']\n",
      "You should probably TRAIN this model on a down-stream task to be able to use it for predictions and inference.\n"
     ]
    }
   ],
   "source": [
    "pretrained_model_name = 'microsoft/deberta-v3-base'\n",
    "\n",
    "model = AutoModelForSequenceClassification.from_pretrained(\n",
    "    pretrained_model_name,\n",
    "    num_labels=199\n",
    ")"
   ]
  },
  {
   "cell_type": "code",
   "execution_count": 3,
   "id": "b770a784-0a1b-40b8-8eb2-7ccfda98bdbb",
   "metadata": {},
   "outputs": [],
   "source": [
    "import json\n",
    "with open(\"CategoryCode.json\", \"r\")as f:\n",
    "  Code = json.load(f)"
   ]
  },
  {
   "cell_type": "code",
   "execution_count": 24,
   "id": "8f58dc9b-11b8-4094-b769-f80726f4770c",
   "metadata": {},
   "outputs": [
    {
     "data": {
      "text/plain": [
       "[126, 25, 141, 10, 171, 116, 161, 27, 69, 66]"
      ]
     },
     "execution_count": 24,
     "metadata": {},
     "output_type": "execute_result"
    }
   ],
   "source": [
    "train_label[:10]"
   ]
  },
  {
   "cell_type": "code",
   "execution_count": 4,
   "id": "9bd6f1be",
   "metadata": {
    "scrolled": true
   },
   "outputs": [
    {
     "name": "stderr",
     "output_type": "stream",
     "text": [
      "Special tokens have been added in the vocabulary, make sure the associated word embeddings are fine-tuned or trained.\n"
     ]
    },
    {
     "name": "stdout",
     "output_type": "stream",
     "text": [
      "|train| 185266 |valid| 46317\n",
      "#total_inters =  57895 #warmup_iters =  11579\n"
     ]
    }
   ],
   "source": [
    "\n",
    "tokenizer = AutoTokenizer.from_pretrained('microsoft/deberta-v3-base', use_fast=False)\n",
    "valid_ratio = 0.2\n",
    "batch_size_per_device = 32\n",
    "n_epochs = 10\n",
    "warmup_ratio=0.2\n",
    "max_length=256\n",
    "num_classes=199\n",
    "\n",
    "def get_datasets(data, valid_ratio=0.2):\n",
    "    texts, labels = data['Text'].tolist(), data['MidIdx'].tolist()\n",
    "    \n",
    "    shuffeld = list(zip(texts, labels))\n",
    "    random.shuffle(shuffeld)\n",
    "  \n",
    "    texts = [e[0] for e in shuffeld]\n",
    "    labels = [e[1] for e in shuffeld]\n",
    "    idx = int(len(texts) * (1 - valid_ratio))\n",
    "    train_input, train_label = texts[:idx], labels[:idx]\n",
    "    valid_input, valid_label = texts[idx:], labels[idx:]\n",
    "    \n",
    "    return  train_input, train_label, valid_input, valid_label\n",
    "\n",
    "\n",
    "data = pd.read_csv('./traindata.csv')\n",
    "train_input, train_label, valid_input, valid_label = get_datasets(data)\n",
    "\n",
    "train_encodings = tokenizer(train_input, truncation=True, padding=True, max_length=max_length)\n",
    "valid_encodings = tokenizer(valid_input, truncation=True, padding=True, max_length=max_length)\n",
    "train_labels = torch.tensor(train_label)\n",
    "valid_labels = torch.tensor(valid_label)\n",
    "\n",
    "train_set = TextClassificationDataset(train_encodings,train_labels)\n",
    "test_set = TextClassificationDataset(valid_encodings, valid_labels)\n",
    "\n",
    "print(\n",
    "    '|train|', len(train_input),\n",
    "    '|valid|', len(valid_input),\n",
    ")\n",
    "\n",
    "total_batch_size = batch_size_per_device \n",
    "n_total_iterations = int(len(train_input) / total_batch_size * n_epochs) \n",
    "n_warmup_steps = int(n_total_iterations * warmup_ratio)\n",
    "\n",
    "print(\n",
    "    '#total_inters = ', n_total_iterations,\n",
    "    '#warmup_iters = ', n_warmup_steps,\n",
    ")\n",
    "\n",
    "\n",
    "\n",
    "training_args = TrainingArguments(\n",
    "    output_dir='./Deberta_V3_CheckPoint',\n",
    "    num_train_epochs=n_epochs,\n",
    "    per_device_train_batch_size=batch_size_per_device,\n",
    "    per_device_eval_batch_size=batch_size_per_device,\n",
    "    warmup_steps=n_warmup_steps,\n",
    "    weight_decay=0.01,\n",
    "    evaluation_strategy='epoch',\n",
    "    logging_steps=n_total_iterations // 100,\n",
    "    save_steps=n_total_iterations // n_epochs\n",
    ")\n",
    "\n",
    "def compute_metrics(pred):\n",
    "    labels = pred.label_ids\n",
    "    preds = pred.predictions.argmax(-1)\n",
    "\n",
    "    return {\n",
    "        'accuracy' : top_k_accuracy_score(labels, preds, k=2)\n",
    "    }\n",
    "\n",
    "\n",
    "# 이제 CustomTrainer를 사용하여 학습을 수행합니다.\n"
   ]
  },
  {
   "cell_type": "code",
   "execution_count": null,
   "id": "281d3368-7a37-4cf1-b1f8-b5382b4f4be5",
   "metadata": {},
   "outputs": [
    {
     "name": "stderr",
     "output_type": "stream",
     "text": [
      "/usr/local/lib/python3.8/site-packages/transformers/optimization.py:391: FutureWarning: This implementation of AdamW is deprecated and will be removed in a future version. Use the PyTorch implementation torch.optim.AdamW instead, or set `no_deprecation_warning=True` to disable this warning\n",
      "  warnings.warn(\n",
      "/root/storage/RNDClassification/deberta_datasettmp.py:15: UserWarning: To copy construct from a tensor, it is recommended to use sourceTensor.clone().detach() or sourceTensor.clone().detach().requires_grad_(True), rather than torch.tensor(sourceTensor).\n",
      "  item[\"labels\"] = torch.tensor(self.labels[idx]).long()\n"
     ]
    },
    {
     "data": {
      "text/html": [
       "\n",
       "    <div>\n",
       "      \n",
       "      <progress value='100' max='57900' style='width:300px; height:20px; vertical-align: middle;'></progress>\n",
       "      [  100/57900 00:59 < 9:42:04, 1.66 it/s, Epoch 0.02/10]\n",
       "    </div>\n",
       "    <table border=\"1\" class=\"dataframe\">\n",
       "  <thead>\n",
       " <tr style=\"text-align: left;\">\n",
       "      <th>Epoch</th>\n",
       "      <th>Training Loss</th>\n",
       "      <th>Validation Loss</th>\n",
       "    </tr>\n",
       "  </thead>\n",
       "  <tbody>\n",
       "  </tbody>\n",
       "</table><p>"
      ],
      "text/plain": [
       "<IPython.core.display.HTML object>"
      ]
     },
     "metadata": {},
     "output_type": "display_data"
    }
   ],
   "source": [
    "trainer = Trainer(\n",
    "    model=model,\n",
    "    args=training_args,\n",
    "    train_dataset=train_set,\n",
    "    eval_dataset=test_set,\n",
    "    compute_metrics=compute_metrics,\n",
    ")\n",
    "\n",
    "trainer.train()"
   ]
  },
  {
   "cell_type": "code",
   "execution_count": null,
   "id": "a94ff1cd-c624-454e-8ad5-7d413338af30",
   "metadata": {},
   "outputs": [],
   "source": []
  },
  {
   "cell_type": "code",
   "execution_count": null,
   "id": "64d59deb-e05a-405c-8407-c230123680f3",
   "metadata": {},
   "outputs": [],
   "source": []
  },
  {
   "cell_type": "code",
   "execution_count": null,
   "id": "9277f4c8-88eb-4ff4-b130-067806ac2c4e",
   "metadata": {},
   "outputs": [],
   "source": []
  },
  {
   "cell_type": "code",
   "execution_count": null,
   "id": "3377a015-85f3-4f5f-9989-d1466c5de814",
   "metadata": {},
   "outputs": [],
   "source": []
  },
  {
   "cell_type": "code",
   "execution_count": null,
   "id": "772cf0c8-fa76-4451-9828-94bfc26e2289",
   "metadata": {},
   "outputs": [],
   "source": []
  },
  {
   "cell_type": "code",
   "execution_count": null,
   "id": "fb04ec5a-2e82-427d-a25a-c51737bcc61d",
   "metadata": {},
   "outputs": [],
   "source": []
  },
  {
   "cell_type": "code",
   "execution_count": 23,
   "id": "5082b0e1",
   "metadata": {},
   "outputs": [
    {
     "name": "stdout",
     "output_type": "stream",
     "text": [
      "[{'text': 'Condensed matter \"Cluster\" reactions in LENRsIn this paper we first point out evidence for condensed matter cluster formation based on thin film electrolysis. Next, measurements of superconductivity in condensed matter deuterium \"clusters\" in dislocation sites loaded deloaded palladium thin films are briefly reviewed, followed by a discussion of techniques under study to increase the number of such sites per unit volume of the electrodes. Estimates for resulting \"cluster reaction\" rates flow enhanced Pycnonuclear fusion are given. If successful, this approach offers a \"Roadmap\" for future power unit based on thin films and clusters.', 'label': 40}, {'text': 'Assessement of kanban use on construction sitesDue to the lack of skilled labour and the difficulties in managing material flows during the execution of site works, construction companies (mainly in the northeast of Brazil) are looking for ways to facilitate communication between management teams and workers and gain control over material consumption and flow. In this context, the Kanban System is a technique that may contribute to minimise this problem, increasing the productivity, reducing wastes as well as maintaining within the set budgets. This paper presents the assessment of the implementation of kanban systems in construction sites aiming to identify improvement opportunities for a better use of the system and also to establish a set of necessary conditions for its implementation and use. A literature review aimed at studying the Toyota Production System principles and its relationship with kanban system was performed. From the literature review a checklist was created as a method of evaluation. Three construction sites in the city of Salvador Bahia Brazil that use the kanban system for the supply of materials were analysed. The checklist for evaluation includes issues related to tools and concepts inherent with the kanban system, these being: A) mechanisms for loss reduction, b) mechanisms of achieving continuous improvement, c) tools to increase communication and transparency, d) just in time, e) production and pull streaming. The main contribution of this paper is the identification of the degree of kanban system implementation on the building site studied and its opportunities for improvement. Also, the necessary conditions and guidelines for implementation were established.', 'label': 10}, {'text': \"Genotype x environment interaction for grazing vs. confinement. II. Health and reproduction traitsContinual selection for increased milk yield for more than 40 yr, combined with the antagonistic relationship between increasing yield, somatic cell count, and fertility, have resulted in sires that may not be optimal for producing daughters for grazing systems where seasonal calving is very important. The objective of this study was to investigate the possible existence of a genotype x environment interaction (G x E) in grazing vs. confinement herds within the United States for lactation average somatic cell score (LSCS), days open (DO), days to first service (DFS), and number of services per conception (SPC). Grazing herds were defined as those that utilized grazing for at least 6 mo each year and were enrolled in Dairy Herd Improvement (DHI). Control herds were confinement DHI herds of similar size in the same states. For LSCS, the performance of daughters in grazing and control herds was examined using linear regression of LSCS on the November 2000 USDA DHIA sire predicted transmitting abilities (PTA) for SCS. Genetic parameters for all traits were estimated using REML in a bivariate animal model that treated the same trait in different environments as different traits. Rank correlations were calculated between sires' estimated breeding values for LSCS, calculated separately for sires in both environments. The coefficient of regression of daughter LSCS on sire PTA was less in grazing herds than in control herds. The coefficient of regression for control herds was closer to expectation. Estimates of heritability were approximately 0.12 for LSCS, and less than 0.05 for the reproduction traits. Heritabilities for DO, DFS, and SPC were slightly higher for control herds. Estimates of genetic correlation for each reproductive trait between the 2 environments were high and not significantly different from unity. Generally, these traits appear to be under similar genetic control, but a lower coefficient of regression of LSCS on sire PTA for SCS in grazing herds suggests differences in daughter performance in grazing herds may be overstated based on current PTA for SCS. © American Dairy Science Association, 2004.\", 'label': 150}, {'text': 'Basmati Rices: Genetics, Breeding and TradeBasmati rices, indigenous to the Indian sub continent and endowed with unique quality traits are palatal delights of the rice connoisseurs world over. These virtues of Basmati rices command them premium price in domestic and international markets. Over the last several decades many studies have been carried out with the aim of understanding the extent of diversity of this speciality rice as well as genetics and breeding behavior of the key traits that distinguish Basmati from all other rices. In an attempt to obtain higher yield and to introduce resistance to pests and diseases without compromising on their quality, various breeding strategies which include recombination, mutation, hybrid and molecular breeding approaches have been pursued. In Basmati rice trade, patent and trademark claims by countries and organizations outside the natural habitat of Basmati rice, and issues relating to adulteration of Basmati rice with look alike long grain non Basmati grains by greedy traders have emerged as serious issues, which were required to be countered for protecting the burgeoning trade and the livelihood of poor farmers in the Himalayan foothills, the home of Basmati. Development and extensive commercial cultivation of high yielding Basmati varieties and hybrids, which fall short of the quality features of traditional Basmati varieties, since mid 90s have necessitated development of high throughput DNA marker assay for distinguishing the traditional Basmati varieties from the evolved or cross bred Basmati varieties as well as from the look alike non Basmati varieties in order to ensure fair price for the farmers and to quantify admixtures in export consignments. In this review, we have made an attempt to highlight the efforts that have gone into study, improve and protect the Basmati. © 2012 NAAS (National Academy of Agricultural Sciences).', 'label': 127}, {'text': \"Regression applying on forecast of time series and its solution on web pages Take the application on economy prediction in Fujian as an exampleRegression analysis is the statistic method which decides two or more variables' dependency. In general, the data to be analyzed with regression are not time series. This paper summarized the prediction efficacity in Fujian economy forecast after the shifting regression and trend regression were put forward in 2005 and were applied to predict time series. Meanwhile, the solution of forecast type regression on web pages is introduced, and the soft is put on the Internet to be used freely by people. As long as user provides data to be analyzed and follows the operating steps, any time series variable's future value would be predicted. Some economy indexes in the following two years in Fujian are forecasted, all of which are to be verified by the practical economy results. © 2010 IEEE.\", 'label': 167}, {'text': 'Metabolic engineering of microorganisms for the synthesis of plant natural productsOf more than 200,000 plant natural products known to date, many demonstrate important pharmacological activities or are of biotechnological significance. However, isolation from natural sources is usually limited by low abundance and environmental, seasonal as well as regional variation, whereas total chemical synthesis is typically commercially unfeasible considering the complex structures of most plant natural products. With advances in DNA sequencing and recombinant DNA technology many of the biosynthetic pathways responsible for the production of these valuable compounds have been elucidated, offering the opportunity of a functional integration of biosynthetic pathways in suitable microorganisms. This approach offers promise to provide sufficient quantities of the desired plant natural products from inexpensive renewable resources. This review covers recent advancements in the metabolic engineering of microorganisms for the production of plant natural products such as isoprenoids, phenylpropanoids and alkaloids, and highlights general approaches and strategies to gain access to the rich biochemical diversity of plants by employing the biosynthetic power of microorganisms. © 2012 Elsevier B.V.', 'label': 66}, {'text': 'Activities on next generation networks under global information infrastructure in ITU TNext generation networks (NGN) is a new concept commonly used by network designers to depict their vision of future telecommunications networks. However, various views on NGN have been expressed so far by operators, manufacturers, and service providers, and the general wish is now to come to a common understanding on NGN and to prepare standards on it. This is the reason why ITU T has recently decided to start the standardization process on NGN under the form of a new ITU T Project prepared by Study Group 13. This new Project is in line with results from the existing ITU T Project on Global Information Infrastructure (GII) because NGN is seen as a concrete realization of the GII. The NGN 2004 Project is a coordination structure led by Study Group 13, with the role of organizing studies on NGN in ITU T. The target for the NGN 2004 Project is to prepare Recommendations in 2004.', 'label': 181}, {'text': 'Inhalation bioaccessibility of PAHs in PM2.5: Implications for risk assessment and toxicity predictionIn this study, 46 PM2.5 samples collected from Nanjing, China were analyzed for total PAH concentration, with 14 samples assessed for PAH inhalation bioaccessibility and dioxin toxicity. The concentration of 19 PAH compounds in PM2.5 ranged from 4.03 to 102 ng m 3. When PAH inhalation bioaccessibility was assessed using simulated epithelial lung fluid, mean bioaccessibility values ranged from 3.21% (Benzo(c)fluorene) to 44.2% (Acenaphthylene). Benzo(a)pyrene concentration in 50% of the PM2.5 samples exceeded the Chinese air quality standard of 2.5 ng m 3, however, when bioaccessibility was considered, all samples were below the criterion. Similarly, the cancer risk probability for all PM2.5 samples was >10 4 incidences on the basis of total PAH concentration, while only 37% of samples posed a risk >10 4 after incorporation of bioaccessibility. Dioxin toxicity of PM2.5 bound PAHs was also investigated by characterizing mRNA expression of cytochrome P450 superfamily members in human lung cells (A549 cell). Compared to total PAH concentration, the use of bioaccessible concentration was better at predicting dioxin toxicity of PM2.5 associated PAHs (correlation coefficient R2 = 0.40 0.83 with p < 0.05). This study indicates that PAH inhalation bioaccessibility is an important consideration when assessing and predicting the risk posed by PM2.5 particles, which is particularly important for countries with deteriorating air quality.', 'label': 161}, {'text': 'Mixture loss coefficient of safety valves used in nuclear plantsTheoretical and experimental investigations on the loss coefficient of gas liquid mixture across safety relief valves have been carried out. Experiments were performed for three different types of safety valves and under different flow conditions. Using the Darcy equation and based on the presented experimental results, a new empirical correlation has been developed to calculate the loss coefficient and hence pressure loss. By consideration of flow contraction, high viscous fluids, Reynolds number and safety valve geometry, the model includes therefore the relevant primary influencing parameters. The reproductive accuracy of the proposed model and the statistical comparison, based on about 2000 measured data in the literature, demonstrated that the proposed model is the best overall agreement with the data. The standard deviation of the data is less than 27%. The model fits the data well and is sufficiently accurate for engineering purposes. The reported results of the tested safety relief valve are very important to improve the practical and safety design of the nuclear plants. © 2009.', 'label': 152}, {'text': \"The solar system's invariable planeContext. The dynamics of solar system objects, such as dwarf planets and asteroids, has become a well established field of celestial mechanics in the past thirty years, owing to the improvements that have been made in observational techniques and numerical studies. In general, the ecliptic is taken as the reference plane in these studies, although there is no dynamical reason for doing so. In contrast, the invariable plane as originally defined by Laplace, seems to be a far more natural choice. In this context, the latest study of this plane dates back to Burkhardt. Aims. We define and determine the orientation of the invariable plane of the solar system with respect to both the ICRF and the equinox ecliptic of J2000.0, and evaluate the accuracy of our determination. Methods. Using the long term numerical ephemerides DE405, DE406, and INPOP10a over their entire available time span, we computed the total angular momentum of the solar system, as well as the individual contribution to it made by each of the planets, the dwarf planets Pluto and Ceres, and the two asteroids Pallas and Vesta. We then deduced the orientation of the invariable plane from these ephemerides. Results. We update the previous results on the determination of the orientation of the invariable plane with more accurate data, and a more complete analysis of the problem, taking into account the effect of the dwarf planet (1) Ceres as well as two of the biggest asteroids, (4) Vesta and (2) Pallas. We show that the inclusion of these last three bodies significantly improves the accuracy of determination of the invariable plane, whose orientation over a 100 y interval does not vary more than 0.1 mas in inclination, and 0.3 mas in longitude of the ascending node. Moreover, we determine the individual contributions of each body to the total angular momentum of the solar system, as well as the inclination and longitude of the node with respect to this latter plane. Conclusions. Owing to the high accuracy of its determination and its fundamental dynamical meaning, the invariable plane provides a permanent natural reference plane that should be used when studying solar system dynamics, instead of the ecliptic. Since it is fixed in an isolated solar system, whereas the ecliptic alters with time, we recommend referring to it when working on long term dynamics. © 2012 ESO.\", 'label': 115}]\n",
      "input_ids: tensor([[    1, 88935,   912,  ...,     0,     0,     0],\n",
      "        [    1, 41533, 17019,  ...,   260,   279,     2],\n",
      "        [    1, 43671,  5967,  ...,   332,  6192,     2],\n",
      "        ...,\n",
      "        [    1,   344, 18580,  ...,   262,   380,     2],\n",
      "        [    1, 78479,  1265,  ...,     0,     0,     0],\n",
      "        [    1,   279,  3126,  ...,  1981,   262,     2]])\n",
      "attention_mask: tensor([[1, 1, 1,  ..., 0, 0, 0],\n",
      "        [1, 1, 1,  ..., 1, 1, 1],\n",
      "        [1, 1, 1,  ..., 1, 1, 1],\n",
      "        ...,\n",
      "        [1, 1, 1,  ..., 1, 1, 1],\n",
      "        [1, 1, 1,  ..., 0, 0, 0],\n",
      "        [1, 1, 1,  ..., 1, 1, 1]])\n",
      "token_type_ids: tensor([[0, 0, 0,  ..., 0, 0, 0],\n",
      "        [0, 0, 0,  ..., 0, 0, 0],\n",
      "        [0, 0, 0,  ..., 0, 0, 0],\n",
      "        ...,\n",
      "        [0, 0, 0,  ..., 0, 0, 0],\n",
      "        [0, 0, 0,  ..., 0, 0, 0],\n",
      "        [0, 0, 0,  ..., 0, 0, 0]])\n",
      "labels: tensor([ 40,  10, 150, 127, 167,  66, 181, 161, 152, 115])\n"
     ]
    }
   ],
   "source": [
    "collator = TextClassificationCollator(tokenizer, max_length, with_text=False)\n",
    "\n",
    "# 데이터셋에서 처음 10개 항목 가져오기\n",
    "samples_to_test = [train_dataset[i] for i in range(10)]\n",
    "\n",
    "# Collator에 항목 전달 및 결과 가져오기\n",
    "collated_samples = collator(samples_to_test)\n",
    "\n",
    "# 결과 출력\n",
    "for key, value in collated_samples.items():\n",
    "    print(f\"{key}: {value}\")"
   ]
  },
  {
   "cell_type": "code",
   "execution_count": 24,
   "id": "674c62ce-2c99-4185-abd9-a846ab0a6093",
   "metadata": {},
   "outputs": [
    {
     "name": "stdout",
     "output_type": "stream",
     "text": [
      "[{'text': \"How to measure energy efficiency of software: Metrics and measurement resultsIn the field of information and computer technology (ICT), saving energy has its focus set on energy efficient hardware and its operation. Recently, efforts have also been made in the area of computer software. However, the development of energy efficient software requires metrics, which measure the software's energy consumption as well as models to monitor and minimize it. In software and software development processes they hardly exist. In this work we present a generic metric to measure software and a method to apply it in a software engineering process. © 2012 IEEE.\", 'label': 100}, {'text': \"Eastern Pulp & Paper gains new credit line, $2 million in fundsEastern Pulp & Paper has received a $2 million infusion of new shareholder loans. The paper company is currently in full operation at its two mills in Lincoln and Brewer. The company boasts of improved financial results owing to the acquisition of additional funds from shareholders. Certain amendments and the introduction of a new product line have added to Eastern's success. The company produces speciality papers including silicone coated papers, tissues and saw dust.\", 'label': 19}, {'text': \"Alzheimer's disease biomarker guided diagnostic workflow using the added value of six combined cerebrospinal fluid candidates: Aβ1 42, total tau, phosphorylated tau, NFL, neurogranin, and YKL 40Introduction: The diagnostic and classificatory performances of all combinations of three core (amyloid β peptide [i.e., Aβ1 42], total tau [t tau], and phosphorylated tau) and three novel (neurofilament light chain protein, neurogranin, and YKL 40) cerebrospinal fluid biomarkers of neurodegeneration were compared among individuals with mild cognitive impairment (n = 41), Alzheimer's disease dementia (ADD; n = 35), frontotemporal dementia (FTD; n = 9), and cognitively healthy controls (HC; n = 21), using 10 fold cross validation. Methods: The combinations ranking in the top 10 according to diagnostic accuracy in differentiating between distinct diagnostic categories were identified. Results: The single biomarkers or biomarker combinations generating the best area under the receiver operating characteristics (AUROCs) were the following: the combination [amyloid β peptide + phosphorylated tau + neurofilament light chain] for distinguishing between ADD patients and HC (AUROC = 0.86), t tau for distinguishing between ADD and FTD patients (AUROC = 0.82), and t tau for distinguishing between FTD patients and HC (AUROC = 0.78). Conclusions: Novel and established cerebrospinal fluid markers perform with at least fair accuracy in the discrimination between ADD and FTD. The classification of mild cognitive impairment individuals was poor.\", 'label': 11}, {'text': \"The effect of high energy concentration source irradiation on structure and properties of Fe based bulk metallic glassMetallic glasses exhibit metastable structure and maintain this relatively stable amorphous state within certain temperature range. High intensity laser beam was used for the surface irradiation of Fe Co B Si Nb bulk metallic glasses. The variable parameter was laser beam pulse energy. For the analysis of structure and properties of bulk metallic glasses and their surface after laser remelting the X ray analysis, microscopic observation and test of mechanical properties were carried out. Examination of the nanostructure of amorphous materials obtained by high pressure copper mold casting method and the irradiated with the use of TITAN 80 300 HRTEM was carried out. Nanohardness and reduced Young's modulus of particular amorphous and amorphous crystalline material zone of the laser beam were examined with the use of Hysitron TI950 Triboindenter nanoindenter and with the use of Berkovich's indenter. The XRD and microscopic analysis showed that the test material is amorphous in its structure before irradiation. Microstructure observation with electron transmission microscopy gave information about alloy crystallization in the irradiated process. Identification of given crystal phases allows to determine the kind of crystal phases created in the first place and also further changes of phase composition of alloy. The main value of the nanohardness of the surface prepared by laser beam has the order of magnitude similar to bulk metallic glasses formed by casting process irrespective of the laser beam energy used. Research results analysis showed that the area between parent material and fusion zone is characterized by extraordinarily interesting structure which is and will be the subject of further analysis in the scope of bulk metallic glasses amorphous structure and high energy concentration source. The main goal of this work is the results' presentation of structure and chosen properties of the selected bulk metallic glasses after casting process and after irradiation process employing the high energy concentration sources.\", 'label': 60}, {'text': 'Identification of statistical patterns in complex systems via symbolic time series analysisIdentification of statistical patterns from observed time series of spatially distributed sensor data is critical for performance monitoring and decision making in human engineered complex systems, such as electric power generation, petrochemical, and networked transportation. This paper presents an information theoretic approach to identification of statistical patterns in such systems, where the main objective is to enhance structural integrity and operation reliability. The core concept of pattern identification is built upon the principles of Symbolic Dynamics, Automata Theory, and Information Theory. To this end, a symbolic time series analysis method has been formulated and experimentally validated on a special purpose test apparatus that is designed for data acquisition and real time analysis of fatigue damage in polycrystalline alloys. © 2006 ISA The Instrumentation, Systems, and Automation Society.', 'label': 167}, {'text': 'Exercise, oxidative stress and risk of cardiovascular disease in the elderly. Protective role of antioxidant functional foodsFree radicals and oxidative stress are involved in the pathogenic mechanisms of cardiovascular disease (CVD), diabetes and cancer. Exercise is a useful strategy for preventing CVD but in elderly persons it can enhance oxidative stress, which is why some studies recommend antioxidant supplementation for exercising elderly subjects. This intervention study was performed on 320 elderly subjects following a Geriatric Revitalization Program (GEREPRO) to maintain physical health and reduce CVD risk. GEREPRO was based on regular exercise concurrent with a nutritional antioxidant treatment based on daily intake of a functional antioxidant food, Biofrutas™. Sustained exercise (10 months, 3 sessions/week) significantly increased cardiorespiratory fitness and plasma HDL cholesterol; it reduced some predictors of cardiovascular risk (arterial pressure, LDL cholesterol, total cholesterol/LDL C, LDL C/HDL C), but significantly enhanced some biomarkers of oxidative stress. Concurrent antioxidant supplementation did not produce any ergogenic effects but, meaningfully, enhanced some positive effects of exercise on physical health and the CDV risk index, and it totally prevented the exercise induced oxidative stress. Our results show that regular and moderate exercise improves cardiorespiratory function and reduces CVD risk in elderly people, while concurrent antioxidant supplementation modulates oxidative insult during exercise in the elderly and enhances the beneficial effects of exercise. © 2006 IUBMB/IOS Press and the authors. All rights reserved.', 'label': 2}, {'text': 'Achieving e Manufacturing: Multihead control and web technology for the implementation of a manufacturing execution systemIntelligent Manufacturing Systems requires advanced and efficient manufacturing technologies, management and procedures in order to achieve value creation in global markets. E Manufacturing is the set of information technologies that allows companies to achieve on demand manufacturing through the integration of e business applications. Cornerstone of this concept are Demand Flow Technology, Manufacturing Execution Systems (MES) and Digital Operational Method Sheets (OMS) which are vital to control shop floor operations where there is a need to balance manual and automated operations. Specially, Mexican companies face large diversity of products and multiple production lines, with high turnaround rotation of the workers. A low cost solution that integrates Demand Flow Technology, MES with Digital OMS is described, the system has been developed using LINUX servers, Multi head control technology (multiple monitors to a single server) and a WEB based environment. This technological solution offers an affordable, stable, and high performance solution to transform the production into a more balanced system with shorter and faster cycles allowing a company to achieve e Manufacturing. © Springer Science+Business Media, LLC 2006.', 'label': 100}, {'text': 'IoT system privacy protection and information security enhancement modelIn this report, we studied the IoT system privacy protection and information security enhancement model. This paper adds a temporary data management module based on the trusted third party, which is mainly responsible for temporarily storing the latest updated data of the tenant and vertically dividing the horizontal grouping into the storage layer after generating the horizontal grouping. By the trusted third party authentication mechanism to prevent the malicious access to temporary data to make the temporary data can be safely stored in clear text, to ensure the tenant request data response time. System for the purpose of risk analysis and evaluation is to know the risk assessment system at present and the future of these risks may lead to a security threat and the influence degree to determine the security policy of the establishment of the information system and provide basis for safe operation at the same time through a third party authority or the international institution assessment and the certification also provides users with information technology products and strengthen competitiveness of the products unit system reliability confidence. The performance of the proposed methodology will be validated in the future research.', 'label': 8}, {'text': 'Time dependent optimization of a multi item uncertain supply chain network: A hybrid approximation algorithmWe consider the uncertain least cost shipping problem. The input is a multi item supply chain network with time evolving uncertain costs and capacities. Exploiting the operational law of uncertainty theory, a mathematical model of the problem is established and the indeterminacy factors are tackled. We use the scaling idea together with transformation approach and uncertainty programming to develop a hybrid algorithm to optimize and obtain the uncertainty distribution of the total shipping cost. We analyze the practical performance of the algorithm and present an illustrative example.', 'label': 91}, {'text': 'Functions of cholesterol and the cholesterol bilayer domain specific to the fiber cell plasma membrane of the eye lensThe most unique feature of the eye lens fiber cell plasma membrane is its extremely high cholesterol content. Cholesterol saturates the bulk phospholipid bilayer and induces formation of immiscible cholesterol bilayer domains (CBDs) within the membrane. Our results (based on EPR spin labeling experiments with lens lipid membranes), along with a literature search, have allowed us to identify the significant functions of cholesterol specific to the fiber cell plasma membrane, which are manifest through cholesterol membrane interactions. The crucial role is played by the CBD. The presence of the CBD ensures that the surrounding phospholipid bilayer is saturated with cholesterol. The saturating cholesterol content in fiber cell membranes keeps the bulk physical properties of lens lipid membranes consistent and independent of changes in phospholipid composition. Thus, the CBD helps to maintain lens membrane homeostasis when the membrane phospholipid composition changes significantly. The CBD raises the barrier for oxygen transport across the fiber cell membrane, which should help to maintain a low oxygen concentration in the lens interior. It is hypothesized that the appearance of the CBD in the fiber cell membrane is controlled by the phospholipid composition of the membrane. Saturation with cholesterol smoothes the phospholipid bilayer surface, which should decrease light scattering and help to maintain lens transparency. Other functions of cholesterol include formation of hydrophobic and rigidity barriers across the bulk phospholipid cholesterol domain and formation of hydrophobic channels in the central region of the membrane for transport of small, nonpolar molecules parallel to the membrane surface. In this review, we provide data supporting these hypotheses. © 2011 Springer Science+Business Media, LLC.', 'label': 166}, {'text': 'Airport quality and productivity changes: A Malmquist index decomposition assessmentThey should invest more resources in an effort to reduce passenger waiting time. This paper analyses the productivity of 20 Italian airports management companies during the period 2006 2008 using a DEA Malmquist index that includes a quality component. The proposed methodology is applied for the first time to the airport industry. In doing so, we directly assess the impact of the quality of services delivered by an airport on its productive performance. The study shows that, while Italian airports possess an acceptable level of quality in terms of their infrastructure, their managerial/administrative procedures must be strengthened in order to better deal with both technological modernization and passenger waiting time at the airports. © 2013 Elsevier Ltd.', 'label': 108}, {'text': \"Space propulsion optimization code benchmark case: SNRE modelThe Small Nuclear Rocket Engine (SNRE) was modeled in the Center for Space Nuclear Research's (CSNR) Space Propulsion Optimization Code (SPOC). SPOC aims to create nuclear thermal propulsion (NTP) geometries quickly to perform parametric studies on design spaces of historic and new NTP designs. The SNRE geometry was modeled in SPOC and a critical core with a reasonable amount of criticality margin was found. The fuel, tie tubes, reflector, and control drum masses were predicted rather well. These are all very important for neutronics calculations, meaning the active reactor geometries created with SPOC can continue to be trusted. Thermal calculations of the average and hot fuel channels agreed very well. The specific impulse calculations used historically and in SPOC differed so mass flow rates and impulses differed. Modeling peripheral and power balance components that do not affect nuclear characteristics of the core is not a feature of SPOC and as such, these components should continue to be designed using other tools.\", 'label': 31}, {'text': 'Age and fine scale marine growth of Atlantic salmon post smolts in the Northeast AtlanticSurface trawls were conducted over a large area of the Northeast Atlantic in 2002, 2003, 2008, and 2009 to collect samples of Atlantic salmon (Salmo salar) post smolts during their marine feeding migration (n 2242). The dominant smolt age of wild post smolts was 2 years, followed by 1 and 3 year old fish, and a few 4 year old fish. The average rate of circulus formation in the marine zone of scales was estimated to be 6.3 d circulus 1. Both the age structure and the number of marine circuli in the scales suggest that the majority of the post smolts originated in rivers in southern Europe. Applying intercirculi distances in scales as a proxy variable of growth rate suggests that putative marine growth rates varied among years, with the fastest growth rates in 2002 and the slowest growth rates in 2008. Further, the first marine intercirculi distances were narrowest in 1 year old smolts, successively increasing with smolt age, indicating that growth rates during the first period at sea were lowest for salmon of southernmost origin. Growth indices are linked to prevailing environmental and biological conditions. © 2012 International Council for the Exploration of the Sea. Published by Oxford University Press. All rights reserved.', 'label': 76}, {'text': 'Stepper motor gearbox operates \"cable winches\" in outer space: Small drive series suitable for outer space after minor adjustmentsSchrittmotor getriebeeinheit bedient \"seilwinden\" im all: Serien Kleinantrieb nach geringen Anpassungen weltraumtauglichEvery kilogram weight which goes into orbit costs a hundredfold in fuel weight. These small drives score most notably. Moreover, they allow short term overload, tolerate cold and head and are always ready for use when one slightly adjusts the motor off the rack.', 'label': 4}, {'text': \"Optical wiring technology for home networks for a service ready and low cost FTTH serviceThe rapid increase in demand for NTT's B FLET'S service (high speed Internet access via FTTH (fiber to the home)) has led to the need for rapid and inexpensive service construction. Therefore, we developed a cable sheath connector and a connector based optical cabinet and connector based optical rosette. We used a new optical fiber that can be bent with a small radius and cable sheath connector technology for these products to create a zero storage optical fiber system.\", 'label': 52}, {'text': 'Protection of MV Converters in the Grid: The Case of MV/LV Solid State TransformersSolid state transformers (SSTs) are a promising technology as they provide new functionalities and services enabling future smart grids. An SST establishes the interface between an MV ac grid and an LV (ac or dc) grid or load. The SST must provide high reliability even in the event of certain grid faults, where the SST is subject to exceptional electrical stresses. In addition, the MV and LV grids are exposed to failures of the SSTs. Spurred by such challenging requirements, this paper defines the different relevant stresses, identifies the corresponding protection needs, and proposes adequate protection circuitries and devices. The protection mechanisms that are currently used for low frequency transformers are analyzed and an adapted version is proposed for SSTs. MV short circuits and overvoltages are identified as the most critical situations and are analyzed in detail. From the presented in depth investigation, guidelines are extracted for designing robust SSTs and are applied to a 1 MVA, 10 kV SST.', 'label': 7}, {'text': 'Manufacturing quality control method based on Bayesian Network modelIn order to address the problem of quality control faced in multi type and small batch manufacturing mode, the method based on Bayesian Network (BN) is proposed. The building, learning and evolving method as well as the quality prediction and diagnosis method of BN model are described in this paper. The combination of BN model and Shewhart control chart is also mentioned. The model building and evolving method was conducted in PCB micro drilling process as example, verifying that the prediction accuracy increases with the evolved model. The drilling quality prediction was compared with that obtained through regression analysis and artificial neural network. The advantage of BN model in advanced manufacturing is proved.', 'label': 71}, {'text': 'Quantitative evolution of vacancy type defects in high energy ion implanted Si: Au labeling and the vacancy implanterIn ion implantation related research in Si, the role of interstitial clusters in dopant diffusion is fairly well understood. But there is relatively poor understanding of vacancy clusters, mainly due to the inadequacy of present techniques to profile and especially to count vacancy defects. Recently, two important steps have been taken in the direction of understanding the vacancy type defects. The first is the demonstration that high energy ion implantation (HEI) can be used as a vacancy implanter to introduce vacancies (V) in Si that are separated from the interstitials (I) by relying on spatial separation of the Frenkel pairs due to the average forward momentum of the recoils. The second is the development of two techniques, Au labeling and cross section X ray microbeam diffuse scattering, which permit quantitative measurements of the vacancy type defect clusters and their depth distribution. In this work we highlight the Au labeling technique and use the vacancy implanter in conjunction with Au labeling to study the evolution of excess vacancy defects (Vex) created by HEI of Si+ in Si(100) as a function of fluence and temperature. We show that a precise injection of Vex is possible by controlling implanted fluence . We also show that the Vex clusters formed by the HEI are extremely stable and their annihilation is governed by interstitial injection rather than vacancy emission in the temperature range of 800 900°C. © 2001 Elsevier Science B.V.', 'label': 103}, {'text': 'Defining the GIG coreThe Global Information Grid (GIG) is a large and complex undertaking that is intended to integrate virtually all of the information systems, services, and applications in the US Department of Defense (DoD) into one seamless, reliable, and secure network. In order to achieve the GIG vision of ubiquitous and reliable communications, the GIG will need to support mobility, security and survivability over a core infrastructure built from components of different services and organizations within the US. This paper defines a number of concepts associated with the GIG and discusses two architectural options for constructing the core of the GIG: the striped core and the black core. In all cases, we assume traffic flows are protected in the core using IPsec or similar protocols. While a striped network simplifies the interconnection of core component by making traffic visible at the interconnection point, decrypting and re encrypting to allow interconnection of core components complicates the end to end problem of IPsec gateway discovery, of network routing and of quality of service. As well, decrypting at intermediate nodes compromises the protection of traffic afforded by end to end IPsec encryption. We show by example that a black core provides greater flexibility in exploiting network connectivity than a striped core. © 2007 IEEE.', 'label': 172}, {'text': 'Current density and state of charge inhomogeneities in Li ion battery cells with LiFePO4 as cathode material due to temperature gradientsCurrent density distributions and local state of charge (SoC) differences that are caused by temperature gradients inside actively cooled Li ion battery cells are discussed and quantified. As an example, a cylindrical Li ion cell with LiFePO4 as cathode material (LiFePO4 cell) is analyzed in detail both experimentally and by means of spatial electro thermal co simulations. The reason for current density inhomogeneities is found to be the local electrochemical impedance varying with temperature in different regions of the jelly roll. For the investigated cell, high power cycling and the resulting temperature gradient additionally cause SoC gradients inside the jelly roll. The local SoCs inside one cell diverge firstly because of asymmetric current density distributions during charge and discharge inside the cell and secondly because of the temperature dependence of the local open circuit potential. Even after long relaxation periods, the SoC distribution in cycled LiFePO4 cells remains inhomogeneous across the jelly roll as a result of hysteresis in the open circuit voltage. The occurring thermal electrical inhomogeneities are expected to influence local aging differences and thus, global cell aging. Additionally the occurrence of inhomogeneous current flow and SoC development inside non uniformly cooled battery packs of parallel connected LiFePO4 cells is measured and discussed. © 2011 Elsevier B.V. All rights reserved.', 'label': 111}, {'text': 'Analyzing the civil engineering infrastructures to prioritize urban flood resilient actionsThe behavior of the civil engineering infrastructures, and their interactions during a flood event, will have consequences on the flood risk level in the built environment. By civil engineering we include on one hand the flood defenses, able to increase the flood risk in case of failures, on the other hand the urban technical networks able to spread the flood risk in cities. From history, most of cities in the world have been built close to coast lines or to river to beneficiate this means of communication and trade. Step by step, to avoid being flooded, defenses like levees have been built. The capacity of the levees to retain the floods depends on their conditions, their performance level and the capacity of the authorities to well maintain these infrastructures. Then, in case of levee break, cities will be flooded. The urban technical networks, due to the way they have been designed, their conditions and their locations in the city, will play a major role in the diffusion of the flood extent. Also, the flood risk will have consequences in some not flooded neighborhoods due to networks collapses. The methods we are using to determine the performance level of flood defenses and the level or resilience of the urban networks with three specific capacities are described. Then, an integrated spatial decision support system is presented.', 'label': 124}, {'text': 'Preliminary model of nitrogen loads from southern bluefin tuna aquacultureFarming of wild tuna in coastal areas is a relatively new aquaculture industry and little is known about the magnitude of nutrient discharges to the environment. In this work we present a preliminary model of nitrogen loads from southern bluefin tuna (Thunnus maccoyii) aquaculture in lower Spencer Gulf, South Australia. The model was developed based on feed inputs, estimates of fish metabolism and environmental data. Two pens were monitored over a full grow out season to determine nitrogen sedimentation fluxes, remineralization at the sediment water interface and accumulation in the sediments. The model suggests that the high metabolic rates of tuna lead to low retention of nitrogen in fish tissues (7 12% of feed inputs) and high environmental losses (260 502 kg N tonne 1 growth). Considering Australian annual production of 4380 tonnes over initial stocked biomass, total loads can reach 1137 tonnes N per year, 86 92% lost as dissolved wastes. The nature of wastes suggests low localized impacts at current stocking densities and holding periods. © 2007 Elsevier Ltd. All rights reserved.', 'label': 89}, {'text': 'Research on the structure of next generation home networkThis paper has given the analysis to the technology of the existing home network and the typical product. It has summarized its localizations. And then, it has introduced the features of next generation network, especially IPv6 and broadband wireless technology, and brought forward the improved framework of home network facing NGN, which is the integration of copper wire supporting IPv6, broadband wireless and narrowband wireless. Then, it has established a test environment, analyzed the test environment briefly, introduced the typical function and structure of the integrated home network system based on the test environment, discussed some considerations on the hardware and software platform. In the end, this paper presented that we should use the broadband wireless technology integrated with the broadband copper technology and IPv6 protocol to establish the next generation home network. © 2007 IEEE.', 'label': 52}, {'text': 'On weighted efficient total dominationAn efficiently total dominating set of a graph G is a subset of its vertices such that each vertex of G is adjacent to exactly one vertex of the subset. If there is such a subset, then G is an efficiently total dominable graph (G is etd). In this paper, we prove NP completeness of the etd decision problem on the class of planar bipartite graphs of maximum degree 3. Furthermore, we give an efficient decision algorithm for T3 free chordal graphs. A T3 free graph is a graph that does not contain as induced subgraph a claw, every edge of which is subdivided exactly twice. In the main part, we present three graph classes on which the weighted etd problem is polynomially solvable: claw free graphs, odd sun free chordal graphs (including strongly chordal graphs) and graphs which only induce cycles of length divisible by four (including chordal bipartite graphs). In addition, claw free etd graphs are shown to be perfect. © 2011 Elsevier B.V. All rights reserved.', 'label': 107}, {'text': 'Electric shock induced associative olfactory learning in drosophila larvaeAssociative plasticity is a basic essential attribute of nervous systems. As shown by numerous reports, Drosophila is able to establish simple forms of appetitive and aversive olfactory associations at both larval and adult stages. Whereas most adult studies on aversive learning employed electric shock as a negative reinforcer, larval paradigms essentially utilized gustatory stimuli to create negative associations, a discrepancy that limits the comparison of data. To overcome this drawback, we critically revisited larval odor electric shock conditioning. First, we show that lithium chloride (LiCl), which was used in all previous larval electric shock paradigms, is not required per se in larval odor electric shock learning. This is of considerable practical advantage because beside its peculiar effects LiCl is attractive to larvae at low concentration that renders comparative learning studies on genetically manipulated larvae complicated. Second, we confirm that in both a 2 odor reciprocal and a 1 odor nonreciprocal conditioning regimen, larvae are able to associate an odor with electric shock. In the latter experiments, initial learning scores reach an asymptote after 5 training trials, and aversive memory is still detectable after 60 min. Our experiments provide a comprehensive basis for future comparisons of larval olfactory conditioning reinforced by different modalities, for studies aimed at analyzing odor electric shock learning in the larva and the adult, and for investigations of the cellular and molecular substrate of aversive olfactory learning in the simple Drosophila model. © The Author 2010. Published by Oxford University Press. All rights reserved. For permissions, please e mail: journals.permissions@oxfordjournals.org.', 'label': 166}, {'text': 'Nonlinear vocal fold dynamics resulting from asymmetric fluid loading on a two mass model of speechNonlinear vocal fold dynamics arising from asymmetric flow formations within the glottis are investigated using a two mass model of speech with asymmetric vocal fold tensioning, representative of unilateral vocal fold paralysis. A refined theoretical boundary layer flow solver is implemented to compute the intraglottal pressures, providing a more realistic description of the flow than the standard one dimensional, inviscid Bernoulli flow solution. Vocal fold dynamics are investigated for subglottal pressures of 0.6 < ps < 1.5 kPa and tension asymmetries of 0.5 < Q < 0.8. As tension asymmetries become pronounced the asymmetric flow incites nonlinear behavior in the vocal fold dynamics at subglottal pressures that are associated with normal speech, behavior that is not captured with standard Bernoulli flow solvers. Regions of bifurcation, coexistence of solutions, and chaos are identified. © 2011 American Institute of Physics.', 'label': 51}, {'text': 'BuShenYiQi granule inhibits atopic dermatitis via improving central and skin hypothalamic pituitary adrenal axis functionBackground: Dysfunction of central and skin Hypothalamic Pituitary Adrenal (HPA) axis play important roles in pathogenesis of atopic dermatitis (AD). Our previous studies showed that several Chinese herbs could improve HPA axis function. In this study, we evaluated the antiinflammatory effects of BuShenYiQi granule (BSYQ), a Chinese herbs formula, in AD mice and explored the effective mechanism from regulation of HPA axis. Methods: The ovalbumin (OVA) induced AD mice model were established and treated with BSYQ. We evaluated dermatitis score and histology analysis of dorsal skin lesions, meanwhile, serum corticosterone (CORT), adrenocorticotropic hormone (ACTH), corticotropin releasing hormone (CRH) and inflammatory cytokines were determined by ELISA. The changes of CRH/proopiomelanocortin(POMC) axis elements, corresponding functional receptors and crucial genes of glucocorticosteroidogenesis in the skin were measured by quantitative real time PCR and western blot, respectively. Results: The symptoms and pathological changes in skin of AD mice were significantly improved and several markers of inflammation and allergy descended obviously after BSYQ treatment. We found that AD mice had insufficient central HPA tone, but these conditions were markedly improved after BSYQ treatment. The AD mice also showed a disturbed expression of skin HPA. In lesion skin of AD mice, the mRNA and protein expressions of CRH decreased significantly, on the contrary, POMC and cytochrome P450 side chain cleavage enzyme (CYP11A1) increased markedly, meanwhile, NR3C1 (mouse GR), CRHR2 and 11 hydroxylase type 1(CYP11B1) were reduced locally. Most of these tested indexes were improved after BSYQ treatment. Conclusions: AD mice displayed the differential expression pattern of central and skin HPA axis and BSYQ treatment significantly alleviated the symptoms of AD mice and presented antiinflammatory and anti allergic effects via regulating the expression of central and skin HPA axis.', 'label': 117}, {'text': 'Mechanistic simulation of batch acetone butanol ethanol (ABE) fermentation with in situ gas stripping using Aspen Plus™Process simulations of batch fermentations with in situ product separation traditionally decouple these interdependent steps by simulating a separate “steady state” continuous fermentation and separation units. In this study, an integrated batch fermentation and separation process was simulated for a model system of acetone butanol ethanol (ABE) fermentation with in situ gas stripping, such that the fermentation kinetics are linked in real time to the gas stripping process. A time dependent cell growth, substrate utilization, and product production is translated to an Aspen Plus batch reactor. This approach capitalizes on the phase equilibria calculations of Aspen Plus to predict the effect of stripping on the ABE fermentation kinetics. The product profiles of the integrated fermentation and separation are shown to be sensitive to gas flow rate, unlike separate steady state fermentation and separation simulations. This study demonstrates the importance of coupled fermentation and separation simulation approaches for the systematic analyses of unsteady state processes.', 'label': 162}, {'text': 'The professional role of a dental hygienist in Finland educators’ viewsObjectives: To assess the role and envisioned professional identity of the dental hygienist in the eyes of their educators at the Finnish training institutes and to determine the need for any changes and improvements. Methods: A cross sectional explorative study used as its main method interviews conducted in 2012 2013 among educators of dental hygienists in Finland. Leading representatives of dental hygienist training at all vocational health institutes, dental schools and centres of health education were asked to participate in the study. The interviews consisted of two parts: a self administered questionnaire and a semi structured interview. The qualitative data were analysed with thematic analysis. The inductive theoretical approach served to categorize the data based on emergent themes and patterns. Results: The educators held a general respect and appreciation for the dental hygienist profession. They felt that dental hygienists’ skills ought to see more use in orthodontics and in preventive care than is customary today, including in tobacco prevention and smoking cessation as well as in dietary instruction among adults. The traditional role of the dental hygienist and the evolving scope of dental practice seemed mismatched. Concern about the lack of clarity regarding the division of labour in clinical practice was expressed. The respondents were convinced of that the division of labour in the public sector differs from that in the private sector. Conclusion: The educators thought that the role of the dental hygienist and the evolving scope of dental practice were partly mismatched. A reassessment of stakeholder involvement in the development of training curricula is urgently needed.', 'label': 20}, {'text': 'Regulatory Effects of Programmed Cell Death 4 (PDCD4) Protein in Interferon (IFN) Stimulated Gene Expression and Generation of Type I IFN ResponsesThe precise mechanisms by which the activation of interferon (IFN) receptors (IFNRs) ultimately controls mRNA translation of specific target genes to induce IFN dependent biological responses remain ill defined. We provide evidence that IFN α induces phosphorylation of programmed cell death 4 (PDCD4) protein on Ser67. This IFN α dependent phosphorylation is mediated by either the p70 S6 kinase (S6K) or the p90 ribosomal protein S6K (RSK) in a cell type specific manner. IFN dependent phosphorylation of PDCD4 results in downregulation of PDCD4 protein levels as the phosphorylated form of PDCD4 interacts with the ubiquitin ligase ß TRCP (ß transducin repeat containing protein) and undergoes degradation. This process facilitates IFN induced eukaryotic translation initiation factor 4A (eIF4A) activity and binding to translation initiation factor eIF4G to promote mRNA translation. Our data establish that PDCD4 degradation ultimately facilitates expression of several ISG protein products that play important roles in the generation of IFN responses, including IFN stimulated gene 15 (ISG15), p21WAF1/CIP1, and Schlafen 5 (SLFN5). Moreover, engagement of the RSK/PDCD4 pathway by the type I IFNR is required for the suppressive effects of IFN α on normal CD34+ hematopoietic precursors and for antileukemic effects in vitro. Altogether, these findings provide evidence for a unique function of PDCD4 in the type I IFN system and indicate a key regulatory role for this protein in mRNA translation of ISGs and control of IFN responses. © 2012, American Society for Microbiology.', 'label': 188}, {'text': \"Can the theoretical fitting of the proton nuclear magnetic relaxation dispersion (proton NMRD) curves of paramagnetic complexes be improved by independent measurement of their self diffusion coefficients?The self diffusion (Dc) coefficients of various lanthanum(III) diamagnetic analogues of open chain and macrocyclic complexes of gadolinium used as MRI contrast agents were determined in dilute aqueous solutions (3 31 mM) by pulsed field gradient (PFG) high resolution 1H NMR spectroscopy. The self diffusion coefficient of H2O (Dw) was obtained for the same samples to derive the relative diffusion constant, a parameter involved in the outersphere paramagnetic relaxation mechanism. The results agree with an averaged relative diffusion constant of 2.5 (±0.1) × 10 9 and of 3.3 (±0.1) × 10 9 m2 s 1 at 25 and 37°, respectively, for 'small' contrast agents (Mr 500 750 g/mol), and with the value of bulk H2O (2.2 × 10 9 and 2.9 × 10 9 m2 s 1 at 25° and at 37°, respectively) for larger complexes. The use of the measured values of Dc for the theoretical fitting of proton NMRD curves of gadolinium complexes shows that the rotational correlation times (τR) are very close to those already reported. However, differences in the electronic relaxation time (τSO) at very low field and in the correlation time (τV) related to electronic relaxation were found. © 2005 Verlag Helvetica Chimica Acta AG.\", 'label': 41}, {'text': \"Wealth and welfare? Can fisheries management succeed in achieving multiple objectives? A case study of Lake Victoria, East AfricaFisheries policies often pursue multiple objectives, which may, in some instances, be in conflict or competition with each other. It may not be possible, for example, to create or maintain employment and generate increasing volumes of revenue for government whilst also sustaining stocks and biodiversity. Two approaches to fisheries management, one focused on capturing wealth and limiting access and the other on maintaining access for employment and providing community development and welfare, present contrasting policy advice, with different points of emphases and objectives. This article examines the case of Lake Victoria, where the three main commercial fisheries are seen to contribute to different objectives for the lake's fisheries. Insights from the debate between wealth based and welfare based approaches to fisheries management provide a framework for the analysis of fisheries policy and practice on the lake. From the analysis, it is concluded that whilst there is much rhetoric in support of a wealth based approach, this has not been followed through in implementation, reflecting the lack of political support for new taxation and limiting access. The welfare functions of the fisheries are significant, but could be substantially strengthened through greater investment in the provision of services to fisheries communities. The approaches are not mutually exclusive, but pursuing wealth based management must support livelihoods, employment and development, as well as fisheries management objectives. Without the incorporation of welfare objectives, fisheries policies will not be politically accepted or fully implemented, suggesting the need for a balance between wealth and welfare objectives and measures. © 2013 John Wiley & Sons Ltd.\", 'label': 105}, {'text': 'Developing and using evidence to improve rehabilitation practiceThe Clinical Practice Committee of the American Congress of Rehabilitation sponsored this supplement to address 2 critical, related issues for the rehabilitation field: how to develop clinical rehabilitation research to generate useful, high quality evidence and how to use evidence to improve rehabilitation practice. The 2 are linked by the methods of evidence based practice (EBP) used to evaluate research evidence and make recommendations for practice. Supplement authors tackle challenges, such as identifying treatment effects and how study design decisions can impact the internal and external validity of research findings, in 4 articles that describe: a 3 phase process for the development of rehabilitation treatments; small N study designs; the design, implementation, and statistical analysis of rehabilitation clinical trials; and observational research designs used to compare the effectiveness of rehabilitation treatments. Two articles present contemporary best methods for developing and evaluating rehabilitation prediction models and outcome measures. The supplement also addresses issues of evaluating research evidence and translating evidence into clinical decisions or recommendations. An overview of tools that EBP adherents have developed to help the clinician find, synthesize, and apply evidence is presented, followed by an article that identifies 8 primary steps in the production of a systematic review. The last article outlines 13 recommendations for improving systematic evidence reviews and applying their resulting knowledge to clinical practice. In addition to recommending best methods, the supplement addresses challenges specific to the behavioral complexity of developing rehabilitation research and applying it in a way that improves the health, function, and quality of life of persons served. © 2012 American Congress of Rehabilitation Medicine.', 'label': 192}, {'text': 'Automatic Extraction of Actionable KnowledgeIn this paper, we describe K Extractor, a powerful NLP framework that provides integrated and seamless access to structured and unstructured information with minimal effort. The K Extractor converts natural language documents into a rich set of semantic triples that, not only, can be stored within an RDF semantic index, but also, can be queried using natural language questions, thus eliminating the need to manually formulate SPARQL queries. The K Extractor greatly outperforms a free text search index based question answering system.', 'label': 194}, {'text': 'Test on limit turning speed of eccentric round hole wheel seedmeter for rapeIn order to adjust seeding rate via the rotate speed and provide with the theories for designing high speed and high performance seeder, the limit turning speed test was done. The test aimed at the eccentric round hole wheel seedmeter seeding three rows each time on the performance test bed. The test studied the limit rotate speed in working order and the relation between the rotate speed and seeding amount, seeding uniformity and the consistency of total seeding amount in each row, respectively, and set up the mathematical model about the relationship between unit seeding amount and speed. The results showed that the limit turning speed did not exceed 70 r/min and the lowest turning speed was not less than 30 r/min. Its seeding uniformity was 13.09% 30.09% and the consistency of total seeding amount in each row was 3.28% 4.70%. There was a linear relation between unit seeding amount and speed. The results provide data and theory for designing a rape high speed seeder and further study on the rotate speed and seeding quantity.', 'label': 23}, {'text': 'Phase transition of random non uniform hypergraphsNon uniform hypergraphs appear in various domains of computer science as in the satisfiability problems and in data analysis. We analyse a general model where the probability for an edge of size t to belong to the hypergraph depends of a parameter ωt of the model. It is a natural generalization of the models of graphs used by Flajolet, Knuth and Pittel [11] and Janson, Knuth, Łuczak and Pittel [16]. The present paper follows the same general approach based on analytic combinatorics. We show that many analytic tools developed for the analysis of graphs can be extended surprisingly well to non uniform hypergraphs. More specifically, we analyze their typical structure before and near the birth of the complex components, that are the connected components with more than one cycle. We derive the asymptotic number of sparse connected hypergraphs as their complexity, defined as the excess, increases. Although less natural than the number of edges, this parameter allows a precise description of the structure of hypergraphs. Finally, we compute some statistics of the model to link number of edges and excess.', 'label': 107}, {'text': 'On the convenience of using simulation models to optimize the control strategy of molten salt heat storage systems in solar thermal power plantsThermal oil has been used as heat transfer fluid in many solar thermal power plants, which also use molten salts as thermal energy storage system. Since the engineering of these plants is relatively new, control of the thermal energy storage system is currently achieved in manual or semiautomatic ways, controlling its variables with proportional integral derivative (PID) regulators. Once the plant is running, it is very difficult to obtain permission to try new control strategies. Hence, most plants keep running on these simple, sometimes inefficient control algorithms. This paper explores the results obtained with different control strategies implemented on a complete model of energy storage systems based on molten salt. The results provided by the model allow the optimum control strategy to be selected. Comparison of the results obtained by simulation of these control strategies and actual results obtained from a real plant, confirm the accuracy of the selection made.', 'label': 81}, {'text': \"San Francisco public utilities commission's water system improvement program bay division pipeline 5 east bay reaches construction contract challenges in a difficult economyThe San Francisco Bay Area's primary water supply system, highly vulnerable to seismic damage from the nearby San Andreas and Hayward fault zones, consists in part of aging and deteriorated pipelines. The San Francisco Public Utilities Commission's (SFPUC) $4.6B Water System Improvement Program (WSIP) consists of 81 projects to improve the seismic and delivery reliability to its customers. The Bay Division Pipeline Reliability Upgrade Project consists of 21 miles of Bay Division Pipeline 5 (BDPL5) from Irvington Portal in Fremont, CA to Pulgas Tunnel Portal in San Mateo County, CA including a five mile tunnel (Bay Tunnel) under the San Francisco Bay. The BDPL5 East Bay Reaches project consists of seven miles of new 72 inch diameter welded steel pipeline constructed within an 80 foot right of way, adjacent to existing operating SFPUC Bay Division Pipelines (BDPLs) 1 and 2. The pipeline lies within a growing urban area that continues to develop, with a 2,000 foot section of the pipeline crossing the seismically active Hayward Fault. This paper addresses the early planning, construction challenges, and lessons learned from this project in a very competitive bidding environment. © 2012 American Society of Civil Engineering.\", 'label': 148}, {'text': \"Estimation of geofusion probabilityFusion reaction probability in the Earth is analyzed on the base of the suggested earlier theoretical model, computer modeling and experimentally revealed conditions favorable for the fusion reactions. It is shown that several fractions of percent of hydrogen in the Earth's core can afford the heat flow 13*1013 W from it found by geophysicists. In the oceanic rifts contact of alumosilicate melts with sea water causes its boiling and hydrothermal processes, accompanied by cavitation phenomena and red ox reactions factors favorable for the fusion reactions. The correlation of heat and helium flow points to a possibility of nuclear fusion. Zones of lithosphere plates subduction are another probable regions for natural fusion reactions.\", 'label': 156}, {'text': 'Asset management of transformers based on condition monitoring and standard diagnosisA more economically rewarding way of monitoring the condition of electric power transformers is through a life cycle management strategy than to check every aging transformer to rigorous inspection and extensive testing. Life cycle management is about setting monitoring priorities and the implementation of strategic maintenance for the transformer. As such, technical diagnostics have been used to evaluate the transformers, and there are many ways to do this. They cover the measurement of parameters, the analysis of data and diagnosis of failure, and to electrical, thermal, mechanical and optical methods. There is also condition monitoring for rehabilitation of transformers.', 'label': 110}, {'text': 'Polarized proton collider at RHICIn addition to heavy ion collisions (RHIC Design Manual, Brookhaven National Laboratory), RHIC will also collide intense beams of polarized protons (I. Alekseev, et al., Design Manual Polarized Proton Collider at RHIC, Brookhaven National Laboratory, 1998 [2]), reaching transverse energies where the protons scatter as beams of polarized quarks and gluons. The study of high energy polarized protons beams has been a long term part of the program at BNL with the development of polarized beams in the Booster and AGS rings for fixed target experiments. We have extended this capability to the RHIC machine. In this paper we describe the design and methods for achieving collisions of both longitudinal and transverse polarized protons in RHIC at energies up to √s = 500 GeV. © 2002 Published by Elsevier Science B.V.', 'label': 129}, {'text': 'Microstructure and wear behaviour of WC steel composite claddingWC steel composite coatings were deposited on the ASTM 1045 steel substrates by modified arc spraying and then remelted on gas tungsten arc welding. The wear behaviours of the cladding were examined by an MM 200 tester at room temperature with the same condition. The microstructures, phase compositions and worn surface morphologies of the coatings were observed by optical microscope, X ray diffractometer and SEM respectively. The wear mechanism of the cladding was discussed as well. The results show that the coating deposited by modified arc spraying consisted of Fe Cr, Fe Ni and WC particles and mechanically bonded with the substrate. The remelted cladding is compact with fewer defects and metallurgical bonded with the substrate. The cladding with 35 wt %WC whose wear mass loss is minimum has the best wear resistance. Its dominant wear mechanism is mainly slight cutting and spalling. It is slight spalling and heavy cutting for the cladding with 25 wt %WC content and spalling for that with 40 wt %WC content. © 2011 W. S. Maney & Son Ltd.', 'label': 118}, {'text': 'The any particle molecular orbital approach: A short review of the theory and applicationsThe any particle molecular orbital (APMO) approach extends regular electronic structure methods to study atomic and molecular systems in which electrons and other particles are treated simultaneously as quantum waves. A number of electronic structure methodologies have been extended under the APMO framework and applied to investigate nuclear quantum effects including isotope effects and nuclear delocalization and to calculate proton binding energies and affinities. In addition, APMO methodologies have been employed to analyze physical and chemical properties of atomic and molecular systems containing exotic subatomic particles.', 'label': 50}, {'text': 'Change in diet, physical activity, and body weight among young adults during the transition from high school to collegeBackground: The freshmen year of college is likely a critical period for risk of weight gain among young adults. Methods: A longitudinal observational study was conducted to examine changes in weight, dietary intake, and other health related behaviors among first year college students (n = 186) attending a public University in the western United States. Weight was measured at the beginning and end of fall semester (August December 2005). Participants completed surveys about dietary intake, physical activity and other health related behaviors during the last six months of high school (January June 2005) in August 2005 and during their first semester of college (August December 2005) in December 2005. Results: 159 students (n = 102 women, 57 men) completed both assessments. The average BMI at the baseline assessment was 23.0 (standard deviation (SD) 3.8). Although the average amount of weight gained during the 15 week study was modest (1.5 kg), 23% of participants gained 5% of their baseline body weight. Average weight gain among those who gained 5% of baseline body weight was 4.5 kg. Those who gained 5% of body weight reported less physical activity during college than high school, were more likely to eat breakfast, and slept more than were those who did not gain 5% of body weight. Conclusion: Almost one quarter of students gained a significant amount of weight during their first semester of college. This research provides further support for the implementation of education or other strategies aimed at helping young adults entering college to achieve or maintain a healthy body weight. © 2009 Wengreen and Moncur.', 'label': 101}, {'text': 'Liquid solid nano interactions of ceramic and metalsWetting behaviour of a low surface tension fluid as hydrophobic paraffin oil on metal and ceramic surfaces was studied at nano scale by SPFM non contact probe analysis and at micro scale by optical microscopy. Solid surfaces were obtained by sputtering molybdenum and aluminum over silicon wafer substrates. Bottom up method based on vapor condensation technique was used to deposit the fluid upon the evaluated solid surfaces. Force Distance curves showed that liquid initially disposed over all the substrates as an extremely thin, full coating, film with an apparent variable depth depending upon the evaluated solid substrates. This layer appeared to be extremely adherent and showed the features of a gel instead behaving as a proper liquid. By going on with the fluid condensation process and increasing the total amount of deposited fluid we observed the formation of nanodrops lying on and coexisting with the previously deposited film. Drop contact angles values were found characteristic of the specific solid substrate and appeared indeed to be inversely proportional to the first deposited film thickness. The fluid deposition processes were prolonged up to reach micrometric sized dimensions where the gel like features disappeared and typical liquid features appeared. In order to reveal the status of the original nanometric liquid layer several micrometric sized drops were therefore partially or totally removed from the substrate with AFM tips. It was found that no apparent mixing occurred between these two different conditions of the same deposited fluid. To deeply explore the features of this ice like early deposited film and to detect if the observed behavior should be more dependent upon the surface roughness or surface energetic the same samples underwent fluid vapor exposures after being treated with low surface energy silanes that created a monolayer coating. These surfaces showed a completely different behaviour. A huge formation of very similar nano drops was immediately observed. The performed analysis shows that at the nano scale the Young Equation does not apply satisfactorily, even in the case of extremely flat inert surfaces in contact with an inert and non polar liquid featured as a quite common basis for biological applications. © 2009 IEEE NANO Organizers.', 'label': 62}, {'text': 'Multiple management strategies to control selectivity on parrotfishes harvestingSmall scale fisheries are exploiting large numbers of parrotfishes from Brazilian reefs, leading to significant changes in the community structure. Specifically, three now vulnerable species, Scarus trispinosus (Valenciennes, 1840), Sparisoma frondosum (Agassiz, 1831) and Sparisoma axillare (Steindachner, 1878), have been intensively targeted on the Brazilian northeast, although little is known about such fisheries. The vulnerable status of these species has brought about the need to officially regulate their fisheries. Here, the effects of different gear types on the fishing of these three species are analyzed regarding catch composition, size and species selectivity. Landings of gillnet, speargun, and handline fishing were sampled during one year, when information of each fishery operation and size frequencies of fishes caught were recorded. Gillnets are the least selective gear, catching a greater proportion of immature individuals of S.\\xa0trispinosus. Handline showed the lowest values of capture per unit effort (CPUE) and only caught S.\\xa0axillare and S.\\xa0frondosum above the size at first maturity; it did not catch S.\\xa0trispnosus. Speargun is the only gear that caught a higher proportion of mature individuals of S.\\xa0trispinosus, which by no means should exempt it from further regulations, as it is important to assure that neither immature nor exceptionally large individuals are removed from the population. Comprehensive parrotfish fishing regulation is urgently needed if the species harvest is to be allowed. Slot size delimitation and gear control are some of the suggested measures to avoid overfishing and changes in life history traits of targeted species.', 'label': 105}, {'text': 'Measure Valued Variational Models with Applications to Diffusion Weighted ImagingWe develop a general mathematical framework for variational problems where the unknown function takes values in the space of probability measures on some metric space. We study weak and strong topologies and define a total variation seminorm for functions taking values in a Banach space. The seminorm penalizes jumps and is rotationally invariant under certain conditions. We prove existence of a minimizer for a class of variational problems based on this formulation of total variation and provide an example where uniqueness fails to hold. Employing the Kantorovich Rubinstein transport norm from the theory of optimal transport, we propose a variational approach for the restoration of orientation distribution function valued images, as commonly used in diffusion MRI. We demonstrate that the approach is numerically feasible on several data sets.', 'label': 38}, {'text': 'Microbulbifer variabilis sp. nov. and Microbulbifer epialgicus sp. nov., isolated from Pacific marine algae, possess a rod coccus cell cycle in association with the growth phasePhylogenetic and taxonomic characterization was performed for 14 strains of bacteria that produce anticancer antibiotics (pelagiomicins) (represented by strain Ni 2088T) and one strain that produces UV absorbing substances (strain F 104T), isolated from marine algae and seagrass collected from coastal areas of tropical Pacific islands and a subtropical island of Japan. All 15 isolates were Gram negative, strictly aerobic, non motile and non spore forming. Sequence analysis of the 16S rRNA gene showed that the isolates occupied positions in the phylogenetic radiation of the genus Microbulbifer, with similarities of 93.6 97.6%. The cells possessed a clearly discernible rod coccus cell cycle in association with the growth phase; cells were rods during the growth phase and all converted to coccoid ovoid cells when proliferation ceased. The coccoid ovoid cells were optically denser than the rod cells and were viable for extended periods. They were considered to constitute a resting form. The type strains of described species of Microbulbifer were also found to possess identical rod coccus cell cycles. The G+C content of the DNA was 48.1 49.7 mol%. The major respiratory quinone system was ubiquinone 8. The major fatty acids were C18 : 1ω7c and C16 : 0, and the hydroxy acids comprised C10 : 0 3 OH, C12 : 0 3 OH and iso C11 : 0 3 OH. The polar lipids comprised phosphatidylethanolamine, phosphatidylglycerol and phosphatidylserine. The group of 14 pelagiomicin producing strains and strain F 104T each constituted a single genomic species. Based on phylogenetic affiliation, phenotypic characteristics and genomic distinctness, the isolates represent two novel species in the genus Microbulbifer, for which the names Microbulbifer variabilis sp. nov. (type strain Ni 2088T =MBIC01082T =ATCC 700307T) and Microbulbifer epialgicus sp. nov. (type strain F 104T =MBIC03330T =DSM 18651T) are proposed. © 2009 IUMS.', 'label': 74}, {'text': 'A GIS statistical approach for assessing built environment energy use at urban scaleEnergy consumption modelling at the urban scale is crucial for supporting a transition towards the low carbon city. Unfortunately, there are not many robust examples or standardised approaches available in the literature for delivering effective low carbon urban energy planning. In particular, there is a lack of appropriate frameworks or systems which allow an effective and reliable assessment of energy use in the built environment at district urban scale. This paper illustrates the development of a geospatial bottom up statistical model to estimate the energy consumption of a large number of residential building stocks for heating space, considering a wide range of variables. The proposed methodology is based on a 2D/3D Geographic Information System (GIS) and Multiple Linear Regression (MLR), which provides location based information for each single dwelling to identify correlations and assess the demand side consumption at the urban scale. This framework was tested on a medium sized Italian city, including around 3600 residential buildings. The results provided by the model are validated using residual analysis and cross validation. Moreover, the spatial results provided by this study represent a useful tool to aid decision makers in the urban planning process. These results can help to create future energy transition strategies, implementing energy efficiency and renewable energy technologies in the context of sustainable cities. This work is part of a national Smart City & Communities project, named “EEB Zero Energy Buildings in Smart Urban Districts” nonetheless, the methodology illustrated in this paper can be generalised and applied to other European urban contexts.', 'label': 124}, {'text': 'Health, safety and environmental unit performance assessment model under uncertainty (case study: steel industry)Performance assessment is a critical objective of management systems. As a result of the non deterministic and qualitative nature of performance indicators, assessments are likely to be influenced by evaluators’ personal judgments. Furthermore, in developing countries, performance assessments by the Health, Safety and Environment (HSE) department are based solely on the number of accidents. A questionnaire is used to conduct the study in one of the largest steel production companies in Iran. With respect to health, safety, and environment, the results revealed that control of disease, fire hazards, and air pollution are of paramount importance, with coefficients of 0.057, 0.062, and 0.054, respectively. Furthermore, health and environment indicators were found to be the most common causes of poor performance. Finally, it was shown that HSE management systems can affect the majority of performance safety indicators in the short run, whereas health and environment indicators require longer periods of time. The objective of this study is to present an HSE MS unit performance assessment model in steel industries. Moreover, we seek to answer the following question: what are the factors that affect HSE unit system in the steel industry? Also, for each factor, the extent of impact on the performance of the HSE management system in the organization is determined.', 'label': 69}, {'text': \"Conditional reprogramming of pediatric human esophageal epithelial cells for use in tissue engineering and disease investigationIdentifying and expanding patient specific cells in culture for use in tissue engineering and disease investigation can be very challenging. Utilizing various types of stem cells to derive cell types of interest is often costly, time consuming and highly inefficient. Furthermore, undesired cell types must be removed prior to using this cell source, which requires another step in the process. In order to obtain enough esophageal epithelial cells to engineer the lumen of an esophageal construct or to screen therapeutic approaches for treating esophageal disease, native esophageal epithelial cells must be expanded without altering their gene expression or phenotype. Conditional reprogramming of esophageal epithelial tissue offers a promising approach to expanding patient specific esophageal epithelial cells. Furthermore, these cells do not need to be sorted or purified and will return to a mature epithelial state after removing them from conditional reprogramming culture. This technique has been described in many cancer screening studies and allows for indefinite expansion of these cells over multiple passages. The ability to perform esophageal screening assays would help revolutionize the treatment of pediatric esophageal diseases like eosinophilic esophagitis by identifying the trigger mechanism causing the patient's symptoms. For those patients who suffer from congenital defect, disease or injury of the esophagus, this cell source could be used as a means to seed a synthetic construct for implantation to repair or replace the affected region.\", 'label': 64}, {'text': 'A regulatory approach for e waste management: A cross national review of current practice and policy with an assessment and policy recommendation for the Indian perspectiveThis paper attempts to make an assessment and policy recommendation for the Indian perspective through a cross national review of current practice and policy. It also addresses in a transition economy with some reference to policies and practices in other transition economies. It has been shown that existing Hazardous Waste Rules could overturn the necessity of a separate national legislation dealing with e waste alone after it is being configured to accommodate e waste for its management in India. The regulatory approach proposed could serve as a model or at least a starting point for other transition countries that may not be so far along as India with respect to management of e waste. Copyright © 2008, Inderscience Publishers.', 'label': 122}, {'text': 'A p type NiO based dye sensitized solar cell with an open circuit voltage of 0.35 vIn tandem: Employing a molecular dyad and a cobalt based electrolyte gives a threefoldincrease in open circuit voltage (VOC) for a p type NiO device (VOC=0.35 V), and a fourfold better energy conversion efficiency. Incorporating these improvements in a TiO2/NiO tandem dyesensitized solar cell (TDSC), results in a TDSC with a VOC=0.91 V (see figure; CB=conductance band, VB= valence band). © 2009 Wiley VCH Verlag GmbH & Co. KGaA.', 'label': 67}, {'text': 'Database driven quality prediction for mobile wireless networks in smart home environmentsIn this paper we propose a database driven quality prediction system for mobile wireless networks in smart home environments. Smart handheld devices obtain location information from smart home tags such as Bluetooth Low Energy and Near Field Communication tags, and collect various quality measurement of mobile wireless networks. The measurement reports are uploaded to the database server periodically or on demand. By applying machine learning techniques which use the measurement reports as the training data, the quality in the smart home environments could be predicted.', 'label': 52}, {'text': 'State of flat panel display technology and future trendsThe rivalry between the cathode ray tube and flat panel displays (FPDs) has intensified as performance of some FPDs now exceeds that of that entrenched leader in many cases. Besides the well known active matrix addressed liquid crystal display, plasma, organic light emitting diodes, and liquid crystal on silicon displays are now finding new applications as the manufacturing, process engineering, materials, and cost structures become standardized and suitable for large markets. © 2002 IEEE.', 'label': 176}, {'text': 'Assessing reactor physics codes capabilities to simulate fast reactors on the example of the BN 600 BenchmarkThis work aims to assess the capabilities of reactor physics codes (initially validated for thermal reactors) to simulate fast sodium cooled reactors. The BFS 62 3A critical experiment from the BN 600 Hybrid Core Benchmark Analyses was chosen for the investigation. Monte Carlo codes (KENO from SCALE and SERPENT 2.1.23) and the deterministic diffusion code DYN3D MG are applied to calculate the neutronic parameters. It was found that the multiplication factor and reactivity effects calculated by KENO and SERPENT using the ENDF/B VII.0 continuous energy library are in a good agreement with each other and with the measured benchmark values. Few groups macroscopic cross sections, required for DYN3DMG, were prepared in applying different methods implemented in SCALE and SERPENT. The DYN3D MG results of a simplified benchmark show reasonable agreement with results from Monte Carlo calculations and measured values. The former results are used to justify DYN3D MG implementation for sodium cooled fast reactors coupled deterministic analysis.', 'label': 153}, {'text': \"Role of A 1 receptors in renal sympathetic neurotransmission in the mouse kidneyA 1 receptors may participate in renal sympathetic neurotransmission by enhancing the postjunctional effects of norepinephrine. The purpose of this study was to test this concept using A 1 receptor knockout (A 1AR / ) mice. In isolated kidneys from nontransgenic mice perfused with Tyrode's solution at a constant rate, renal sympathetic nerve stimulation (RSNS) increased (P<0.0001) renal venous perfusate levels of inosine (adenosine metabolite) from 23.9±3.7 to 32.7±5.1, 68.2±12.4, and 94.0±14.3 ng/ml at 3, 5, and 7 Hz, respectively (n = 28), suggesting frequency dependent production of adenosine. Conversely, RSNS decreased (P< 0.0001) renal venous perfusate levels of 5' AMP (adenosine precursor) from 1.4±0.3 to 1.1±0.3, 0.80±0.2, and 0.6±0.2 ng/ml at 3, 5, and 7 Hz, respectively (n = 28), suggesting frequency dependent increased metabolism of 5' AMP. In kidneys from nontransgenic mice, blockade of adenosine receptors with 1,3 dipropyl 8 p sulfophenylxanthine attenuated (P = 0.0130) vasoconstrictor responses to RSNS at 3, 5, and 7 Hz [control (n = 29): 22±4, 34±6, 42±6 mmHg, respectively; 1,3 dipropyl 8 p sulfophenylxanthine treated (n = 11): 6±1, 12±3, 15±3 mmHg, respectively]. In A 1AR/kidneys (n = 10), vasoconstrictor responses to RSNS at 3, 5, and 7 Hz were 7±3, 20±5, and 36±9 mmHg, respectively. In kidneys from wild type littermates (n = 9), responses were 27±9, 58±14, and 59±11 mmHg, respectively (effect of genotype: P = 0.0363). In kidneys from nontransgenic mice, 2 chloro N 6 cyclopentyladenosine (CCPA; highly selective A 1 receptor agonist) increased renal vasoconstriction induced by norepinephrine (P = 0.0008; n = 28). In kidneys from A 1AR/the response to norepinephrine was attenuated and the ability of CCPA to enhance responses to norepinephrine was abolished. In conclusion, adenosine formed during RSNS enhances the postjunctional effects of released norepinephrine by activating A 1 receptors. © 2012 the American Physiological Society.\", 'label': 95}, {'text': 'The role of surface energy of technical polymers in serum protein adsorption and MG 63 cells adhesionPolymeric materials are widely used as supports for cell culturing in medical implants and as scaffolds for tissue regeneration. However, novel applications in the biosensor field require materials to be compatible with cell growth and at the same time be suitable for technological processing. Technological polymers are key materials in the fabrication of disposable parts and other sensing elements. As such, it is essential to characterize the surface properties of technological polymers, especially after processing and sterilization. It is also important to understand how technological polymers affect cell behavior when in contact with polymer materials. Therefore, the aim of this research was to study how surface energy and surface roughness affect the biocompatibility of three polymeric materials widely used in research and industry: poly(methyl methacrylate), polystyrene, and poly(dimethylsiloxane). Glass was used as the control material. From the Clinical Editor: Polymeric materials are widely used as supports for cell culturing in medical implants and as scaffolds for tissue regeneration. The aim of this research is to study how surface energy and surface roughness affect the biocompatibility of three polymeric materials widely used in research and industry: poly(methylmethacrylate) (PMMA), polystyrene (PS), and poly(dimethylsiloxane) (PDMS). © 2010 Elsevier Inc. All rights reserved.', 'label': 182}, {'text': 'Efficiency and patterns of service mix in airport companies: An input distance function approachIn this paper an input distance function approach is used to evaluate efficiency and technological characteristics of Italian airport companies for the period 2000 2005. This approach is robust to deviations from neoclassical paradigm in terms of cost minimizing behavior. Duality relationship between the input distance function and the shadow cost function is exploited to derive cost complementarities among outputs. Empirical findings are used to discuss the economic implications connected to changes in airport organization, involving in particular outsourcing of handling operations and development of commercial activities. © 2009 Elsevier Ltd.', 'label': 108}, {'text': 'Accessing inpatient rehabilitation after acute severe stroke: Age, mobility, prestroke function and hospital unit are associated with discharge to inpatient rehabilitationThe objective of this study was to identify the variables associated with discharge to inpatient rehabilitation following acute severe stroke and to determine whether hospital unit contributed to access. Five acute hospitals in Victoria, Australia participated in this study. Patients were eligible for inclusion if they had suffered an acute severe stroke (Mobility Scale for Acute Stroke≤15). Physiotherapists assessed patients on day 3 poststroke, collecting demographic information and information relating to their prestroke status, social status and current status. Stepwise logistic regression modelling was used to examine the association between age, type of stroke, prestroke living situation, comorbidities, availability of carer on discharge, current mobility, bladder continence, bowel continence, cognition and communication and the dependent variable, discharge destination (rehabilitation/other). The resulting model was analysed using hierarchical logistic regression with hospital unit as the clustering variable. Of the 108 patients fulfilling the inclusion criteria, 70 (64.8%) were discharged to rehabilitation. The variables independently associated with discharge to rehabilitation were younger age [odds ratio (OR)=0.89, 95% confidence interval (CI)=0.83 0.95, P=0.001], independent premorbid functional status (OR=14.92, 95% CI=2.43 91.60, P=0.004) and higher level of current mobility (OR=1.31, 95% CI=1.02 1.66, P<0.03). The multilevel model estimated that 12% of the total variability in discharge destination was explained by differences between the hospital units (ρ=0.12, 95% CI=0.02 0.55, P=0.048). The results indicate that the variables associated with discharge to rehabilitation following severe stroke are younger age, independent prestroke functional status and higher level of current mobility. In addition, organizational factors play a role in selection for rehabilitation, suggesting inequity in access for this patient group. © 2012 Wolters Kluwer Health | Lippincott Williams & Wilkins.', 'label': 192}, {'text': 'Using ICT to Support Individual Guidance in Health Promotion Programs for Increased Physical ActivityIntroduction: We report on experiences in implementing a system to support the individual guidance of training in health promotion programs aiming to increase participants regular level of physical activity. Methods: We used an iterative development approach considering data privacy and security aspects, followed by a phase of field testing and continuous further development. Results: Our preliminary results comprise identified clinically relevant parameters, suitable data collection methods, experienced privacy and security challenges and a glance on our developed prototype system. Discussion: We consider our results to be of interest for others doing related research. The most important requirements for a simple supporting system can be fulfilled with established solutions in the short run. A more adaptable and flexible system with an increased level of support in analysing the data, which we aim to achieve, leads to currently open research challenges.', 'label': 70}, {'text': \"Considerations for cost of ownership in EUV lithographyThe cost of ownership of semiconductor manufacturing equipment is typically addressed in terms of raw utility consumption. Focusing on energy, the average consumption of a typical semiconductor fabrication plant has doubled over a recent 10 year period, with approximately 30% of this energy currently attributed to vacuum equipment. Compared to conventional optical lithography, extreme ultraviolet lithography (EUVL) requires the adoption of a vacuum subsystem to enable the technology, bringing an additional vacuum requirement to semiconductor fabs. With this trend it is increasingly important to focus on more efficient ways of operating semiconductor manufacturing tools and their supporting equipment. Clever operation through employment of 'GREEN' modes can provide significant utility savings. However, in semiconductor lithography, tool uptime is a critical parameter to be considered in any cost of ownership model, and the facility vacuum equipment plays an intimate role here, so including redundancy in pumping equipment can be a key enabler to maintaining tool uptime. Consequently optimizing the design of the vacuum subsystem will help to reduce the overall footprint, utility consumption and energy costs associated with this process. © 2011 Copyright Society of Photo Optical Instrumentation Engineers (SPIE).\", 'label': 164}, {'text': 'World Small Animal Veterinary Association Renal Pathology Initiative: Classification of Glomerular Diseases in DogsEvaluation of canine renal biopsy tissue has generally relied on light microscopic (LM) evaluation of hematoxylin and eosin stained sections ranging in thickness from 3 to 5 µm. Advanced modalities, such as transmission electron microscopy (TEM) and immunofluorescence (IF), have been used sporadically or retrospectively. Diagnostic algorithms of glomerular diseases have been extrapolated from the World Health Organization classification scheme for human glomerular disease. With the recent establishment of 2 veterinary nephropathology services that evaluate 3 µm sections with a panel of histochemical stains and routinely perform TEM and IF, a standardized objective species specific approach for the diagnosis of canine glomerular disease was needed. Eight veterinary pathologists evaluated 114 parameters (lesions) in renal biopsy specimens from 89 dogs. Hierarchical cluster analysis of the data revealed 2 large categories of glomerular disease based on the presence or absence of immune complex deposition: The immune complex mediated glomerulonephritis (ICGN) category included cases with histologic lesions of membranoproliferative or membranous patterns. The second category included control dogs and dogs with non ICGN (glomerular amyloidosis or focal segmental glomerulosclerosis). Cluster analysis performed on only the LM parameters led to misdiagnosis of 22 of the 89 cases—that is, ICGN cases moved to the non ICGN branch of the dendrogram or vice versa, thereby emphasizing the importance of advanced diagnostic modalities in the evaluation of canine glomerular disease. Salient LM, TEM, and IF features for each pattern of disease were identified, and a preliminary investigation of related clinicopathologic data was performed.', 'label': 136}, {'text': 'Defect detection and evaluation of ultrasonic infrared thermography for aerospace CFRP compositesThe ultrasonic infrared thermography Non destructive Testing is introduced for detecting the impact damage of a CFRP specimen for Unmanned Aerial Vehicles. The characteristics of thermal images with damage are particularly analyzed. A Local Binary Fitting (LBF) model based on a non Gaussian kernel function is used to segment the defect edge. In view of the discontinuity of defect in thermal images due to multilayered structure of composite materials, defect merging algorithms are proposed including time domain and space domain methods by using a few thermal images, and the defect geometric distortion during camera imaging is also compensated. The defect in the composite material can be quantitatively analyzed after the defect reconstruction. The experimental result has shown that the proposed algorithm can effectively detect and evaluate the impact damage of thermal images and the accuracy of quantitative assessment is correspondingly increased. © 2013 Elsevier Ltd. All rights reserved.', 'label': 190}]\n",
      "{'input_ids': tensor([[    1,   577,   264,  ...,     0,     0,     0],\n",
      "        [    1,  4356, 41108,  ...,     0,     0,     0],\n",
      "        [    1, 10124,   280,  ...,   287, 21865,     2],\n",
      "        ...,\n",
      "        [    1, 66362,   270,  ...,     0,     0,     0],\n",
      "        [    1,   964,  3624,  ...,  1460,   265,     2],\n",
      "        [    1, 89614,  6005,  ...,     0,     0,     0]]), 'attention_mask': tensor([[1, 1, 1,  ..., 0, 0, 0],\n",
      "        [1, 1, 1,  ..., 0, 0, 0],\n",
      "        [1, 1, 1,  ..., 1, 1, 1],\n",
      "        ...,\n",
      "        [1, 1, 1,  ..., 0, 0, 0],\n",
      "        [1, 1, 1,  ..., 1, 1, 1],\n",
      "        [1, 1, 1,  ..., 0, 0, 0]]), 'token_type_ids': tensor([[0, 0, 0,  ..., 0, 0, 0],\n",
      "        [0, 0, 0,  ..., 0, 0, 0],\n",
      "        [0, 0, 0,  ..., 0, 0, 0],\n",
      "        ...,\n",
      "        [0, 0, 0,  ..., 0, 0, 0],\n",
      "        [0, 0, 0,  ..., 0, 0, 0],\n",
      "        [0, 0, 0,  ..., 0, 0, 0]]), 'labels': tensor([100,  19,  11,  60, 167,   2, 100,   8,  91, 166, 108,  31,  76,   4,\n",
      "         52,   7,  71, 103, 172, 111, 124,  89,  52, 107, 166,  51, 117, 162,\n",
      "         20, 188,  41, 105, 192, 194,  23, 107,  81, 148, 156, 110, 129, 118,\n",
      "         50, 101,  62, 105,  38,  74, 124,  69,  64, 122,  67,  52, 176, 153,\n",
      "         95, 182, 108, 192,  70, 164, 136, 190])}\n"
     ]
    }
   ],
   "source": [
    "from torch.utils.data import DataLoader\n",
    "\n",
    "# 데이터셋과 collator 함수를 이용해 DataLoader 생성\n",
    "dataloader = DataLoader(\n",
    "    train_dataset,\n",
    "    batch_size=batch_size_per_device,\n",
    "    collate_fn=TextClassificationCollator(tokenizer, max_length, with_text=False),\n",
    "    shuffle=True\n",
    ")\n",
    "\n",
    "# 첫 번째 배치 출력\n",
    "for batch in dataloader:\n",
    "    print(batch)\n",
    "    break"
   ]
  },
  {
   "cell_type": "code",
   "execution_count": 6,
   "id": "cd3c62f6",
   "metadata": {},
   "outputs": [],
   "source": [
    "nmr_data = pd.read_csv('/home/ubuntu/JIHO/KBSI/3domain_ab_key/NMR_Keybart_Result_check_sample.csv')\n",
    "shrimp_data = pd.read_csv('/home/ubuntu/JIHO/KBSI/3domain_ab_key/SHRIMP_Keybart_Result_check_sample.csv')\n",
    "hvem_data = pd.read_csv('/home/ubuntu/JIHO/KBSI/3domain_ab_key/HVEM_Keybart_Result_check_sample.csv')"
   ]
  },
  {
   "cell_type": "code",
   "execution_count": 7,
   "id": "77211d03",
   "metadata": {},
   "outputs": [],
   "source": [
    "def MadeInputData(nmr, shrimp, hvem):\n",
    "    nmr_list = []\n",
    "    shrimp_list =[]\n",
    "    hvem_list =[]\n",
    "    for k in nmr.iloc:\n",
    "        nmr_list.append(k['abstract'])\n",
    "    for k in shrimp.iloc:\n",
    "        shrimp_list.append(k['abstract'])\n",
    "    for k in hvem.iloc:\n",
    "        hvem_list.append(k['abstract'])\n",
    "        \n",
    "    return nmr_list, shrimp_list, hvem_list"
   ]
  },
  {
   "cell_type": "code",
   "execution_count": 8,
   "id": "f3ca1439",
   "metadata": {},
   "outputs": [],
   "source": [
    "test_nmr, test_shrimp, test_hvem = MadeInputData(nmr_data, shrimp_data, hvem_data)"
   ]
  },
  {
   "cell_type": "code",
   "execution_count": 16,
   "id": "d522372a",
   "metadata": {},
   "outputs": [],
   "source": [
    "nmr_data = tokenizer(test_nmr, padding=True)\n",
    "hvem_data = tokenizer(test_hvem, padding=True)\n",
    "shrimp_data = tokenizer(test_shrimp, padding=True)"
   ]
  },
  {
   "cell_type": "markdown",
   "id": "459526d1",
   "metadata": {},
   "source": [
    "test_dataset1 = pd.DataFrame({\"text\":nmr_data})\n",
    "test_dataset2 = pd.DataFrame({\"text\":hvem_data})\n",
    "test_dataset3 = pd.DataFrame({\"text\":shrimp_data})"
   ]
  },
  {
   "cell_type": "code",
   "execution_count": 11,
   "id": "6a893649",
   "metadata": {},
   "outputs": [],
   "source": [
    "class SimpleDataset:\n",
    "    def __init__(self, tokenized_texts):\n",
    "        self.tokenized_texts = tokenized_texts\n",
    "    \n",
    "    def __len__(self):\n",
    "        return len(self.tokenized_texts[\"input_ids\"])\n",
    "    \n",
    "    def __getitem__(self, idx):\n",
    "        return {k: v[idx] for k, v in self.tokenized_texts.items()}"
   ]
  },
  {
   "cell_type": "code",
   "execution_count": 17,
   "id": "48060598",
   "metadata": {
    "scrolled": true
   },
   "outputs": [],
   "source": [
    "test_dataset1 = SimpleDataset(nmr_data)\n",
    "test_dataset2 = SimpleDataset(hvem_data)\n",
    "test_dataset3 = SimpleDataset(shrimp_data)"
   ]
  },
  {
   "cell_type": "code",
   "execution_count": 13,
   "id": "7dc1c5a6",
   "metadata": {},
   "outputs": [
    {
     "name": "stderr",
     "output_type": "stream",
     "text": [
      "No `TrainingArguments` passed, using `output_dir=tmp_trainer`.\n",
      "PyTorch: setting up devices\n",
      "The default value for the training argument `--report_to` will change in v5 (from all installed integrations to none). In v5, you will need to use `--report_to all` to get the same behavior as now. You should start updating your code and make this info disappear :-).\n"
     ]
    }
   ],
   "source": [
    "trainer = Trainer(trainer.model)"
   ]
  },
  {
   "cell_type": "code",
   "execution_count": 18,
   "id": "a187618e",
   "metadata": {},
   "outputs": [
    {
     "name": "stderr",
     "output_type": "stream",
     "text": [
      "***** Running Prediction *****\n",
      "  Num examples = 161\n",
      "  Batch size = 24\n",
      "***** Running Prediction *****\n",
      "  Num examples = 156\n",
      "  Batch size = 24\n",
      "***** Running Prediction *****\n",
      "  Num examples = 170\n",
      "  Batch size = 24\n"
     ]
    }
   ],
   "source": [
    "predictions1 = trainer.predict(test_dataset1)\n",
    "predictions2 = trainer.predict(test_dataset2)\n",
    "predictions3 = trainer.predict(test_dataset3)\n"
   ]
  },
  {
   "cell_type": "code",
   "execution_count": 22,
   "id": "b6a763c2",
   "metadata": {},
   "outputs": [
    {
     "data": {
      "text/plain": [
       "161"
      ]
     },
     "execution_count": 22,
     "metadata": {},
     "output_type": "execute_result"
    }
   ],
   "source": [
    "len(predictions1.predictions)"
   ]
  },
  {
   "cell_type": "code",
   "execution_count": 20,
   "id": "d7b3560d",
   "metadata": {},
   "outputs": [],
   "source": [
    "from tqdm import tqdm"
   ]
  },
  {
   "cell_type": "code",
   "execution_count": 30,
   "id": "b12e44d7",
   "metadata": {},
   "outputs": [
    {
     "data": {
      "text/plain": [
       "list"
      ]
     },
     "execution_count": 30,
     "metadata": {},
     "output_type": "execute_result"
    }
   ],
   "source": [
    "a = np.array([1,2,3])\n",
    "\n",
    "a = a.tolist()\n",
    "type(a)"
   ]
  },
  {
   "cell_type": "code",
   "execution_count": 65,
   "id": "ae29c655",
   "metadata": {},
   "outputs": [
    {
     "name": "stderr",
     "output_type": "stream",
     "text": [
      "100%|██████████| 10/10 [00:00<00:00, 7461.85it/s]\n"
     ]
    }
   ],
   "source": [
    "nmr_pred, hvem_pred, shrimp_pred = [], [], []\n",
    "\n",
    "for k in tqdm(range(10)):\n",
    "    arr = predictions1.predictions[k].tolist()\n",
    "    tmp_arr = arr[:]\n",
    "    tmp_list = []\n",
    "    tmp_arr.sort()\n",
    "\n",
    "    for k in range(5):\n",
    "        tmp = tmp_arr.pop()\n",
    "        tmp_list.append(arr.index(tmp))\n",
    "    nmr_pred.append(tmp_list)\n",
    "    #hv\n",
    "    arr = predictions2.predictions[k].tolist()\n",
    "    tmp_arr = arr[:]\n",
    "    tmp_list = []\n",
    "    tmp_arr.sort()\n",
    "\n",
    "    for k in range(5):\n",
    "        tmp = tmp_arr.pop()\n",
    "        tmp_list.append(arr.index(tmp))\n",
    "    hvem_pred.append(tmp_list) \n",
    "    \n",
    "    #sh 아 같이 한번에 했어야 됐는데;;\n",
    "    arr = predictions3.predictions[k].tolist()\n",
    "    tmp_arr = arr[:]\n",
    "    tmp_list = []\n",
    "    tmp_arr.sort()\n",
    "\n",
    "    for k in range(5):\n",
    "        tmp = tmp_arr.pop()\n",
    "        tmp_list.append(arr.index(tmp))\n",
    "    shrimp_pred.append(tmp_list) "
   ]
  },
  {
   "cell_type": "code",
   "execution_count": 5,
   "id": "60f1eb09",
   "metadata": {},
   "outputs": [],
   "source": [
    "torch.save(model.state_dict(), \"./weight\")"
   ]
  },
  {
   "cell_type": "code",
   "execution_count": 58,
   "id": "94280d36",
   "metadata": {},
   "outputs": [
    {
     "data": {
      "text/plain": [
       "int"
      ]
     },
     "execution_count": 58,
     "metadata": {},
     "output_type": "execute_result"
    }
   ],
   "source": [
    "type(list(index_to_label.keys())[1])"
   ]
  },
  {
   "cell_type": "code",
   "execution_count": 51,
   "id": "71f5adab",
   "metadata": {
    "scrolled": true
   },
   "outputs": [
    {
     "data": {
      "text/plain": [
       "int"
      ]
     },
     "execution_count": 51,
     "metadata": {},
     "output_type": "execute_result"
    }
   ],
   "source": [
    "type(nmr_pred[0][0])"
   ]
  },
  {
   "cell_type": "code",
   "execution_count": 66,
   "id": "fafadfeb",
   "metadata": {},
   "outputs": [],
   "source": [
    "def ch(arr):\n",
    "    tmp_list = []\n",
    "    for i in arr:\n",
    "        tmp_list.append(index_to_label[i])\n",
    "        print(index_to_label[i])\n",
    "    return tmp_list"
   ]
  },
  {
   "cell_type": "code",
   "execution_count": 67,
   "id": "6cce296b",
   "metadata": {
    "collapsed": true,
    "jupyter": {
     "outputs_hidden": true
    }
   },
   "outputs": [
    {
     "name": "stdout",
     "output_type": "stream",
     "text": [
      "전기전자부품\n",
      "에너지·환경기계시스템\n",
      "천문학\n",
      "친환경_공정\n",
      "염색가공\n",
      "광화학\n",
      "금속재료\n",
      "나노화학\n",
      "반도체장비\n",
      "나노화학공정기술\n",
      "지구화학\n",
      "지질과학\n",
      "온실가스처리\n",
      "뇌의약\n",
      "물리화학\n",
      "생화학·구조생물학\n",
      "생화학\n",
      "융합화학\n",
      "분류·생태·환경생물학\n",
      "의생명과학\n",
      "광화학\n",
      "금속재료\n",
      "나노화학\n",
      "반도체장비\n",
      "나노화학공정기술\n",
      "지구화학\n",
      "지질과학\n",
      "온실가스처리\n",
      "뇌의약\n",
      "물리화학\n",
      "농화학\n",
      "원예작물과학\n",
      "산업바이오\n",
      "융합화학\n",
      "유기화학\n",
      "광화학\n",
      "금속재료\n",
      "나노화학\n",
      "반도체장비\n",
      "나노화학공정기술\n",
      "지구화학\n",
      "지질과학\n",
      "온실가스처리\n",
      "뇌의약\n",
      "물리화학\n",
      "면역학·생리학\n",
      "분자세포생물학\n",
      "의생명과학\n",
      "생화학\n",
      "생화학·구조생물학\n",
      "광화학\n",
      "금속재료\n",
      "나노화학\n",
      "반도체장비\n",
      "나노화학공정기술\n",
      "지구화학\n",
      "지질과학\n",
      "온실가스처리\n",
      "뇌의약\n",
      "물리화학\n",
      "생화학·구조생물학\n",
      "융합화학\n",
      "생화학\n",
      "정밀화학\n",
      "원자·분자물리\n",
      "광화학\n",
      "금속재료\n",
      "나노화학\n",
      "반도체장비\n",
      "나노화학공정기술\n",
      "지구화학\n",
      "지질과학\n",
      "온실가스처리\n",
      "뇌의약\n",
      "물리화학\n",
      "생화학·구조생물학\n",
      "융합화학\n",
      "원자·분자물리\n",
      "융합바이오\n",
      "생화학\n",
      "광화학\n",
      "금속재료\n",
      "나노화학\n",
      "반도체장비\n",
      "나노화학공정기술\n",
      "지구화학\n",
      "지질과학\n",
      "온실가스처리\n",
      "뇌의약\n",
      "물리화학\n",
      "면역학·생리학\n",
      "분석·물성평가기술\n",
      "물리화학\n",
      "통계물리\n",
      "고분자공정기술\n",
      "광화학\n",
      "금속재료\n",
      "나노화학\n",
      "반도체장비\n",
      "나노화학공정기술\n",
      "지구화학\n",
      "지질과학\n",
      "온실가스처리\n",
      "뇌의약\n",
      "물리화학\n",
      "물리화학\n",
      "융합바이오\n",
      "융합화학\n",
      "분석화학\n",
      "면역학·생리학\n",
      "광화학\n",
      "금속재료\n",
      "나노화학\n",
      "반도체장비\n",
      "나노화학공정기술\n",
      "지구화학\n",
      "지질과학\n",
      "온실가스처리\n",
      "뇌의약\n",
      "물리화학\n",
      "해양생명\n",
      "물리화학\n",
      "면역학·생리학\n",
      "어업생산·이용가공\n",
      "농화학\n",
      "광화학\n",
      "금속재료\n",
      "나노화학\n",
      "반도체장비\n",
      "나노화학공정기술\n",
      "지구화학\n",
      "지질과학\n",
      "온실가스처리\n",
      "뇌의약\n",
      "물리화학\n",
      "물리화학\n",
      "생화학·구조생물학\n",
      "융합화학\n",
      "원자·분자물리\n",
      "산업바이오\n",
      "광화학\n",
      "금속재료\n",
      "나노화학\n",
      "반도체장비\n",
      "나노화학공정기술\n",
      "지구화학\n",
      "지질과학\n",
      "온실가스처리\n",
      "뇌의약\n",
      "물리화학\n"
     ]
    }
   ],
   "source": [
    "nmr_lab , hvem_lab, shrimp_lab =[], [], []\n",
    "for k in range(10):\n",
    "    #머리 정지\n",
    "    nmr_lab.append(ch(nmr_pred[k]))\n",
    "    hvem_lab.append(ch(hvem_pred[k]))\n",
    "    shrimp_lab.append(ch(shrimp_pred[k]))\n",
    "    "
   ]
  },
  {
   "cell_type": "code",
   "execution_count": 71,
   "id": "90bce472",
   "metadata": {},
   "outputs": [],
   "source": [
    "Result1 = pd.DataFrame({\"abstarct\": test_nmr[:10], \"classification\": nmr_lab})\n",
    "Result2 = pd.DataFrame({\"abstarct\": test_hvem[:10], \"classification\": hvem_lab})\n",
    "Result3 = pd.DataFrame({\"abstarct\": test_shrimp[:10], \"classification\": shrimp_lab})"
   ]
  },
  {
   "cell_type": "code",
   "execution_count": 72,
   "id": "5f0c5ad9",
   "metadata": {},
   "outputs": [],
   "source": [
    "writer = pd.ExcelWriter(\"Classification_debertaV3.xlsx\", engine=\"xlsxwriter\")\n",
    "Result1.to_excel(writer, sheet_name=\"NMR\")\n",
    "Result2.to_excel(writer, sheet_name=\"HVEM\")\n",
    "Result3.to_excel(writer, sheet_name=\"SHRIMP\")"
   ]
  },
  {
   "cell_type": "code",
   "execution_count": 75,
   "id": "fabc690b",
   "metadata": {},
   "outputs": [],
   "source": [
    "writer.save()"
   ]
  }
 ],
 "metadata": {
  "kernelspec": {
   "display_name": "Python 3 (ipykernel)",
   "language": "python",
   "name": "python3"
  },
  "language_info": {
   "codemirror_mode": {
    "name": "ipython",
    "version": 3
   },
   "file_extension": ".py",
   "mimetype": "text/x-python",
   "name": "python",
   "nbconvert_exporter": "python",
   "pygments_lexer": "ipython3",
   "version": "3.8.0"
  }
 },
 "nbformat": 4,
 "nbformat_minor": 5
}
