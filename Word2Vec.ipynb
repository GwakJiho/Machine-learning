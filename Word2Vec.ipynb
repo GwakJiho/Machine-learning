{
 "cells": [
  {
   "cell_type": "code",
   "execution_count": 3,
   "id": "92991991",
   "metadata": {},
   "outputs": [],
   "source": [
    "import pandas as pd\n",
    "#import matplotlib.pyplot as plt\n",
    "import urllib.request\n",
    "from gensim.models.word2vec import Word2Vec\n",
    "from konlpy.tag import Okt"
   ]
  },
  {
   "cell_type": "code",
   "execution_count": 4,
   "id": "242fcd9a",
   "metadata": {},
   "outputs": [
    {
     "data": {
      "text/plain": [
       "('ratings.txt', <http.client.HTTPMessage at 0x7fdf6c6bca90>)"
      ]
     },
     "execution_count": 4,
     "metadata": {},
     "output_type": "execute_result"
    }
   ],
   "source": [
    "urllib.request.urlretrieve(\"https://raw.githubusercontent.com/e9t/nsmc/master/ratings.txt\", filename=\"ratings.txt\")"
   ]
  },
  {
   "cell_type": "code",
   "execution_count": 7,
   "id": "5af8d9a3",
   "metadata": {},
   "outputs": [],
   "source": [
    "train_data = pd.read_table('ratings.txt')"
   ]
  },
  {
   "cell_type": "code",
   "execution_count": 8,
   "id": "d33053d1",
   "metadata": {},
   "outputs": [],
   "source": [
    "train_data = train_data.dropna(how='any')"
   ]
  },
  {
   "cell_type": "code",
   "execution_count": 9,
   "id": "81e0a88e",
   "metadata": {},
   "outputs": [
    {
     "name": "stderr",
     "output_type": "stream",
     "text": [
      "/tmp/ipykernel_51374/2953604232.py:1: FutureWarning: The default value of regex will change from True to False in a future version.\n",
      "  train_data['document'] = trian_data['document'].str.replace(\"[^ㄱ-ㅎㅏ-ㅣ가-힣]\", \"\")\n"
     ]
    }
   ],
   "source": [
    "train_data['document'] = trian_data['document'].str.replace(\"[^ㄱ-ㅎㅏ-ㅣ가-힣]\", \"\")"
   ]
  },
  {
   "cell_type": "code",
   "execution_count": 12,
   "id": "214a067f",
   "metadata": {},
   "outputs": [
    {
     "name": "stderr",
     "output_type": "stream",
     "text": [
      "100%|███████████████████████| 199992/199992 [57:28<00:00, 57.99it/s]\n"
     ]
    }
   ],
   "source": [
    "from tqdm import tqdm\n",
    "\n",
    "stopwords = ['의','가','이','은','들','는','좀','잘','걍','과','도','를','으로','자','에','와','한','하다']\n",
    "\n",
    "okt = Okt()\n",
    "tokenized_data = []\n",
    "for sentence in tqdm(train_data['document']):\n",
    "    tokenized_sentence = okt.morphs(sentence , stem=True)\n",
    "    stopwords_removed_sentence = [word for word in tokenized_sentence if not word in stopwords]\n",
    "    tokenized_data.append(stopwords_removed_sentence)"
   ]
  },
  {
   "cell_type": "code",
   "execution_count": 15,
   "id": "93adb5bd",
   "metadata": {},
   "outputs": [],
   "source": [
    "model = Word2Vec(sentences = tokenized_data, window=5, min_count=5, workers=4, sg=0)"
   ]
  },
  {
   "cell_type": "code",
   "execution_count": 16,
   "id": "e4c152b7",
   "metadata": {},
   "outputs": [
    {
     "data": {
      "text/plain": [
       "(17947, 100)"
      ]
     },
     "execution_count": 16,
     "metadata": {},
     "output_type": "execute_result"
    }
   ],
   "source": [
    "model.wv.vectors.shape"
   ]
  },
  {
   "cell_type": "code",
   "execution_count": 22,
   "id": "8efd7fbe",
   "metadata": {
    "scrolled": true
   },
   "outputs": [
    {
     "name": "stdout",
     "output_type": "stream",
     "text": [
      "[ 0.28233576  0.68766844 -0.24499752  0.22784299  0.03717521 -0.04249527\n",
      "  0.36715132  0.6025371   0.49717498  0.16920035  0.24430217 -0.34643063\n",
      "  0.19645569 -0.1472512   0.52934355 -0.77374774 -0.11399464 -0.02598716\n",
      " -0.30485675 -0.16468742 -0.01331934 -0.2259125  -0.3871828  -0.21665214\n",
      "  0.47759044  0.11725888  0.00176315 -0.4918166   0.24646075  0.495012\n",
      "  0.6924244   0.01831604  0.8382731   0.18407866 -0.05870334  0.11688079\n",
      "  0.08839679  0.14131333  0.20245714 -0.57717735 -0.10811125  0.55159086\n",
      "  0.20472537  0.05279178  0.42487374 -0.23398934  0.06254733  0.36279914\n",
      "  0.00162072  0.45468876 -0.13425861 -0.07713678 -0.13494231 -0.01450157\n",
      "  0.20930901 -0.12328423 -0.49742803 -0.05642492 -0.19358571  0.21258628\n",
      "  0.37329468  0.6351732  -0.24820721  0.12041941 -0.0780623   0.15922941\n",
      "  0.62755203  0.01798819 -0.25606328  0.42946267  0.24757357 -0.06778327\n",
      "  0.37398404  0.15816274  0.105004    0.56309575 -0.3268977  -0.42330283\n",
      " -0.52225804  0.43486384  0.39703175 -0.2169987  -0.7310219  -0.23662195\n",
      "  0.7423927  -0.38551834  0.39650464  0.24469033  0.33822116  0.13177124\n",
      "  0.20285831  0.04001052  0.57338226  0.03160486  0.32108426  0.5951063\n",
      "  0.1556132   0.25907707 -0.5152442  -0.28925472]\n"
     ]
    }
   ],
   "source": [
    "print(model.wv['정신병'])"
   ]
  },
  {
   "cell_type": "code",
   "execution_count": 23,
   "id": "9587e7dd",
   "metadata": {},
   "outputs": [
    {
     "name": "stdout",
     "output_type": "stream",
     "text": [
      "[('바보', 0.7523084282875061), ('피해자', 0.7453651428222656), ('우울증', 0.7238369584083557), ('환자', 0.7203620076179504), ('살인자', 0.7111305594444275), ('싸이코', 0.6984919905662537), ('변태', 0.6958025693893433), ('착란', 0.6950868964195251), ('걸레', 0.692652702331543), ('태도', 0.6893002390861511)]\n"
     ]
    }
   ],
   "source": [
    "print(model.wv.most_similar(\"정신병\"))"
   ]
  }
 ],
 "metadata": {
  "kernelspec": {
   "display_name": "Python 3 (ipykernel)",
   "language": "python",
   "name": "python3"
  },
  "language_info": {
   "codemirror_mode": {
    "name": "ipython",
    "version": 3
   },
   "file_extension": ".py",
   "mimetype": "text/x-python",
   "name": "python",
   "nbconvert_exporter": "python",
   "pygments_lexer": "ipython3",
   "version": "3.9.7"
  }
 },
 "nbformat": 4,
 "nbformat_minor": 5
}
