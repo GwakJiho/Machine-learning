{
 "cells": [
  {
   "cell_type": "markdown",
   "id": "8dd64c43",
   "metadata": {},
   "source": [
    "# Word2vec \n",
    "- 각 형태소 분석기 활용하여 word2vec 생성\n",
    "\n",
    "- [데이터 정제 및 생성](#데이터-정제-및-생성)\n",
    "- [형태소 분석기 mecab](#mecab)\n",
    "- [형태소 분석기 Twitter](#Twitter)\n",
    "- [형태소 분석기 kiwi](#kiwi)"
   ]
  },
  {
   "cell_type": "markdown",
   "id": "6f1c23fc",
   "metadata": {},
   "source": [
    "## word2vec 관련 함수\n",
    "- model.wv.most_similar(\"정신병\") : 유사한 단어 추출\n",
    "- model.wv['정신병'] : 배열 보기\n",
    "- model.wv.vectors.shape : 배열 shape"
   ]
  },
  {
   "cell_type": "markdown",
   "id": "e56209b8",
   "metadata": {},
   "source": [
    "적용할 형태소 분석기\n",
    "- konlpy : mecab, Twitter  \n",
    "- kiwi"
   ]
  },
  {
   "cell_type": "code",
   "execution_count": 5,
   "id": "92991991",
   "metadata": {},
   "outputs": [],
   "source": [
    "import pandas as pd\n",
    "#import matplotlib.pyplot as plt\n",
    "#import urllib.request\n",
    "from gensim.models.word2vec import Word2Vec\n",
    "from konlpy.tag import Mecab\n",
    "from tqdm import tqdm\n",
    "import re"
   ]
  },
  {
   "cell_type": "markdown",
   "id": "efe0082d",
   "metadata": {},
   "source": [
    "## 데이터 정제 및 생성"
   ]
  },
  {
   "cell_type": "code",
   "execution_count": 3,
   "id": "fd148236",
   "metadata": {},
   "outputs": [
    {
     "data": {
      "text/html": [
       "<div>\n",
       "<style scoped>\n",
       "    .dataframe tbody tr th:only-of-type {\n",
       "        vertical-align: middle;\n",
       "    }\n",
       "\n",
       "    .dataframe tbody tr th {\n",
       "        vertical-align: top;\n",
       "    }\n",
       "\n",
       "    .dataframe thead th {\n",
       "        text-align: right;\n",
       "    }\n",
       "</style>\n",
       "<table border=\"1\" class=\"dataframe\">\n",
       "  <thead>\n",
       "    <tr style=\"text-align: right;\">\n",
       "      <th></th>\n",
       "      <th>Unnamed: 0</th>\n",
       "      <th>title</th>\n",
       "      <th>Info</th>\n",
       "      <th>detail_info</th>\n",
       "    </tr>\n",
       "  </thead>\n",
       "  <tbody>\n",
       "    <tr>\n",
       "      <th>0</th>\n",
       "      <td>0</td>\n",
       "      <td>SK쉴더스 / Platform개발본부 Machine Learning 개발 직무 신입...</td>\n",
       "      <td>중앙대 / 소프트웨어학과 / 학점 3.49/4.5 / 토익: , 토익스피킹: , 오...</td>\n",
       "      <td>1. 지원하신 채용 부문과 채용 분야를 적어 주세요\\n\\nPlatform개발본부 2...</td>\n",
       "    </tr>\n",
       "    <tr>\n",
       "      <th>1</th>\n",
       "      <td>1</td>\n",
       "      <td>티맥스 / AE연구본부 R&amp;D / 2022 상반기</td>\n",
       "      <td>중앙대 / 소프트웨어학과 / 학점 3.49/4.5 / 토익: , 토익스피킹: , 오...</td>\n",
       "      <td>▪ 당사 지원한 사유와 입사 후 포부를 기술해 주세요. \\n\\n[고객들에게 최적화된...</td>\n",
       "    </tr>\n",
       "    <tr>\n",
       "      <th>2</th>\n",
       "      <td>2</td>\n",
       "      <td>(주)카페베네 / 물류관리직 / 2022 상반기</td>\n",
       "      <td>배재대 / 정치학 / 학점 4.04/4.5 / 토익: 790, 토익스피킹: , 오픽...</td>\n",
       "      <td>1. 성장과정 및 생활신조\\n“뚝심 있다.” “끈기 있다.” 저와 같이 근무했던 사...</td>\n",
       "    </tr>\n",
       "    <tr>\n",
       "      <th>3</th>\n",
       "      <td>3</td>\n",
       "      <td>아이디스 / 판교연구소 SW R&amp;D / 2022 상반기</td>\n",
       "      <td>중앙대 / 소프트웨어학과 / 학점 3.49/4.5 / 토익: , 토익스피킹: , 오...</td>\n",
       "      <td>성장과정 및 학창생활\\n\\n[ 첫 프로젝트 ]\\n 대학교 2학년때, 첫 프로젝트로 ...</td>\n",
       "    </tr>\n",
       "    <tr>\n",
       "      <th>4</th>\n",
       "      <td>4</td>\n",
       "      <td>한국관광공사 / 데이터 / 2022 상반기</td>\n",
       "      <td>안양대 / 정보통계학과 / 학점 3.52 / 토익: , 토익스피킹: 120/레벨5,...</td>\n",
       "      <td>제가 중요한 일 등 업무를 할때는 저만의 프로세스인 계획 후 실행, 결과순으로 진행...</td>\n",
       "    </tr>\n",
       "  </tbody>\n",
       "</table>\n",
       "</div>"
      ],
      "text/plain": [
       "   Unnamed: 0                                              title  \\\n",
       "0           0  SK쉴더스 / Platform개발본부 Machine Learning 개발 직무 신입...   \n",
       "1           1                        티맥스 / AE연구본부 R&D / 2022 상반기   \n",
       "2           2                         (주)카페베네 / 물류관리직 / 2022 상반기   \n",
       "3           3                     아이디스 / 판교연구소 SW R&D / 2022 상반기   \n",
       "4           4                            한국관광공사 / 데이터 / 2022 상반기   \n",
       "\n",
       "                                                Info  \\\n",
       "0  중앙대 / 소프트웨어학과 / 학점 3.49/4.5 / 토익: , 토익스피킹: , 오...   \n",
       "1  중앙대 / 소프트웨어학과 / 학점 3.49/4.5 / 토익: , 토익스피킹: , 오...   \n",
       "2  배재대 / 정치학 / 학점 4.04/4.5 / 토익: 790, 토익스피킹: , 오픽...   \n",
       "3  중앙대 / 소프트웨어학과 / 학점 3.49/4.5 / 토익: , 토익스피킹: , 오...   \n",
       "4  안양대 / 정보통계학과 / 학점 3.52 / 토익: , 토익스피킹: 120/레벨5,...   \n",
       "\n",
       "                                         detail_info  \n",
       "0  1. 지원하신 채용 부문과 채용 분야를 적어 주세요\\n\\nPlatform개발본부 2...  \n",
       "1  ▪ 당사 지원한 사유와 입사 후 포부를 기술해 주세요. \\n\\n[고객들에게 최적화된...  \n",
       "2  1. 성장과정 및 생활신조\\n“뚝심 있다.” “끈기 있다.” 저와 같이 근무했던 사...  \n",
       "3  성장과정 및 학창생활\\n\\n[ 첫 프로젝트 ]\\n 대학교 2학년때, 첫 프로젝트로 ...  \n",
       "4  제가 중요한 일 등 업무를 할때는 저만의 프로세스인 계획 후 실행, 결과순으로 진행...  "
      ]
     },
     "execution_count": 3,
     "metadata": {},
     "output_type": "execute_result"
    }
   ],
   "source": [
    "df = pd.read_csv(\"./Data/crawling2.csv\")\n",
    "df.head()"
   ]
  },
  {
   "cell_type": "code",
   "execution_count": 38,
   "id": "375b5c58",
   "metadata": {},
   "outputs": [],
   "source": [
    "def clean_text(sentence):\n",
    "    result = re.sub(\"[^ㄱ-ㅎㅏ-ㅣ가-힣]\",\" \",sentence)\n",
    "    return result\n",
    "\n",
    "data = df[['detail_info']].values.tolist()\n",
    "data_flatten = sum(data, [])\n",
    "\n",
    "train_data = []\n",
    "for k in data_flatten:\n",
    "    tmp_data = clean_text(k)\n",
    "    tmp_data = ' '.join(tmp_data.split())\n",
    "    train_data.append(tmp_data)"
   ]
  },
  {
   "cell_type": "code",
   "execution_count": 12,
   "id": "aecd6734",
   "metadata": {},
   "outputs": [],
   "source": []
  },
  {
   "cell_type": "code",
   "execution_count": 18,
   "id": "ac676f7b",
   "metadata": {},
   "outputs": [],
   "source": [
    "#data flatten\n"
   ]
  },
  {
   "cell_type": "code",
   "execution_count": 39,
   "id": "8a567461",
   "metadata": {},
   "outputs": [],
   "source": []
  },
  {
   "cell_type": "markdown",
   "id": "59646858",
   "metadata": {},
   "source": [
    "# mecab"
   ]
  },
  {
   "cell_type": "code",
   "execution_count": 44,
   "id": "214a067f",
   "metadata": {},
   "outputs": [
    {
     "name": "stderr",
     "output_type": "stream",
     "text": [
      "100%|██████████████████████████████████████████████████████| 11000/11000 [01:08<00:00, 161.71it/s]\n"
     ]
    }
   ],
   "source": [
    "stopwords = ['의','가','이','은','들','는','좀','잘','걍','과','도','를','으로','자','에','와','한','하다']\n",
    "\n",
    "mecab = Mecab()\n",
    "tokenized_data = []\n",
    "for sentence in tqdm(train_data):\n",
    "    tokenized_sentence = mecab.morphs(sentence)\n",
    "    stopwords_removed_sentence = [word for word in tokenized_sentence if not word in stopwords]\n",
    "    tokenized_data.append(stopwords_removed_sentence)"
   ]
  },
  {
   "cell_type": "code",
   "execution_count": 46,
   "id": "93adb5bd",
   "metadata": {},
   "outputs": [],
   "source": [
    "model = Word2Vec(sentences = tokenized_data, window=5, min_count=5, workers=4, sg=0)"
   ]
  },
  {
   "cell_type": "code",
   "execution_count": 50,
   "id": "d7fcfe35",
   "metadata": {},
   "outputs": [
    {
     "data": {
      "text/plain": [
       "(26184, 100)"
      ]
     },
     "execution_count": 50,
     "metadata": {},
     "output_type": "execute_result"
    }
   ],
   "source": [
    "model.wv.vectors.shape"
   ]
  },
  {
   "cell_type": "code",
   "execution_count": 115,
   "id": "cba69114",
   "metadata": {},
   "outputs": [],
   "source": [
    "개방상태 = [\"상상력\", \"통찰력\",\"호기심\",\"창의력\",\"솔직\",\"똑바로\",\"수용력\",\"마음\",\"모험\"]\n",
    "성실성 = [\"인정\", \"목표\", \"뜻\", \"조직화\",\"마음\",\"제어\",\"규율\",\"믿음\",\"책임\"]\n",
    "외향성 = [\"쾌활\", \"수다\", \"독단\",\"힘\", \"외향\",\"친숙\",\"열렬\",\"솔직\"]\n",
    "친화성 = [\"신뢰\", \"이타\",\"종류\",\"애정\",\"협동\",\"공감\",\"의지\",\"공감\",\"겸손\",\"순응\",\"부드러움\"]\n",
    "신경적 = [\"평온\", \"마음\", \"균형\",\"평화\",\"고요\",\"강한\",\"감정\",\"고요\",\"회복\"]"
   ]
  },
  {
   "cell_type": "code",
   "execution_count": 116,
   "id": "4e43bdfc",
   "metadata": {},
   "outputs": [],
   "source": [
    "test_list = [\"평온\", \"마음\", \"균형\",\"평화\",\"고요\",\"강한\",\"감정\",\"고요\",\"회복\"]\n",
    "for k in test_list:\n",
    "    try:\n",
    "        tmp = model.wv.most_similar(k)\n",
    "    except:\n",
    "        print(k , \"none\")"
   ]
  },
  {
   "cell_type": "code",
   "execution_count": 97,
   "id": "dc819636",
   "metadata": {},
   "outputs": [],
   "source": [
    "def extract(input_list):\n",
    "    dic = {}\n",
    "    for k in input_list:\n",
    "        try:\n",
    "            tmp = model.wv.most_similar(k)\n",
    "        except:\n",
    "            print(k, \"is none\")\n",
    "            continue\n",
    "        print(k, '\\n============================')\n",
    "        for i in tmp:\n",
    "                print(i[0])\n",
    "        print(\"============================\")\n",
    "\n",
    "\n",
    "        "
   ]
  },
  {
   "cell_type": "code",
   "execution_count": 117,
   "id": "a239f993",
   "metadata": {
    "collapsed": true
   },
   "outputs": [
    {
     "name": "stdout",
     "output_type": "stream",
     "text": [
      "평온 \n",
      "============================\n",
      "강직\n",
      "안전운전\n",
      "묘한\n",
      "허탈\n",
      "안락\n",
      "웅장\n",
      "절박\n",
      "오만\n",
      "속아\n",
      "적적\n",
      "============================\n",
      "마음 \n",
      "============================\n",
      "진심\n",
      "마음가짐\n",
      "뜻\n",
      "의지\n",
      "별명\n",
      "말\n",
      "배려\n",
      "웃음\n",
      "가슴\n",
      "표정\n",
      "============================\n",
      "균형 \n",
      "============================\n",
      "평등\n",
      "소득\n",
      "안정\n",
      "중립\n",
      "건전\n",
      "환경오염\n",
      "금산분리\n",
      "질서\n",
      "지피\n",
      "방송통신심의위원회\n",
      "============================\n",
      "평화 \n",
      "============================\n",
      "대구\n",
      "아프리카\n",
      "광주\n",
      "동남아\n",
      "부산\n",
      "식문화\n",
      "서울\n",
      "지구촌\n",
      "캠핑\n",
      "몽골\n",
      "============================\n",
      "고요 \n",
      "============================\n",
      "속아\n",
      "메뉴선택\n",
      "멜번\n",
      "거북이\n",
      "한국전기안전공사\n",
      "베라\n",
      "연평\n",
      "훈련비\n",
      "인민\n",
      "회로제작\n",
      "============================\n",
      "강한 \n",
      "============================\n",
      "강인\n",
      "특유\n",
      "정신력\n",
      "넘치\n",
      "추진력\n",
      "인내심\n",
      "뜨거운\n",
      "투철\n",
      "완벽주의\n",
      "실행력\n",
      "============================\n",
      "감정 \n",
      "============================\n",
      "장애물\n",
      "처지\n",
      "오해\n",
      "입장\n",
      "행동\n",
      "기분\n",
      "이성\n",
      "희열\n",
      "시선\n",
      "차이\n",
      "============================\n",
      "고요 \n",
      "============================\n",
      "속아\n",
      "메뉴선택\n",
      "멜번\n",
      "거북이\n",
      "한국전기안전공사\n",
      "베라\n",
      "연평\n",
      "훈련비\n",
      "인민\n",
      "회로제작\n",
      "============================\n",
      "회복 \n",
      "============================\n",
      "형성\n",
      "악화\n",
      "돈독히\n",
      "유지\n",
      "무너지\n",
      "저버리\n",
      "끈끈\n",
      "저하\n",
      "잃\n",
      "교우\n",
      "============================\n"
     ]
    }
   ],
   "source": [
    "extract(신경적)"
   ]
  },
  {
   "cell_type": "code",
   "execution_count": 52,
   "id": "abf39520",
   "metadata": {},
   "outputs": [],
   "source": [
    "model.save(\"word2vec_mecab\")"
   ]
  },
  {
   "cell_type": "markdown",
   "id": "8e339030",
   "metadata": {},
   "source": [
    "# Twitter "
   ]
  },
  {
   "cell_type": "code",
   "execution_count": 145,
   "id": "db2b15f1",
   "metadata": {},
   "outputs": [
    {
     "name": "stderr",
     "output_type": "stream",
     "text": [
      "/home/ubuntu/anaconda3/lib/python3.9/site-packages/konlpy/tag/_okt.py:17: UserWarning: \"Twitter\" has changed to \"Okt\" since KoNLPy v0.4.5.\n",
      "  warn('\"Twitter\" has changed to \"Okt\" since KoNLPy v0.4.5.')\n",
      "100%|███████████████████████████████████████████████████████| 11000/11000 [22:50<00:00,  8.03it/s]\n"
     ]
    }
   ],
   "source": [
    "from konlpy.tag import Twitter\n",
    "\n",
    "twitter = Twitter()\n",
    "tokenized_data = []\n",
    "for sentence in tqdm(train_data):\n",
    "    tokenized_sentence = twitter.morphs(sentence)\n",
    "    stopwords_removed_sentence = [word for word in tokenized_sentence if not word in stopwords]\n",
    "    tokenized_data.append(stopwords_removed_sentence)"
   ]
  },
  {
   "cell_type": "code",
   "execution_count": 146,
   "id": "97150a1a",
   "metadata": {},
   "outputs": [],
   "source": [
    "model = Word2Vec(sentences = tokenized_data, window=5, min_count=5, workers=4, sg=0)"
   ]
  },
  {
   "cell_type": "code",
   "execution_count": 147,
   "id": "b242b98e",
   "metadata": {
    "scrolled": true
   },
   "outputs": [
    {
     "data": {
      "text/plain": [
       "(28115, 100)"
      ]
     },
     "execution_count": 147,
     "metadata": {},
     "output_type": "execute_result"
    }
   ],
   "source": [
    "model.wv.vectors.shape"
   ]
  },
  {
   "cell_type": "markdown",
   "id": "e5910993",
   "metadata": {},
   "source": [
    "# kiwi\n",
    "- 잘 안되는 듯?"
   ]
  },
  {
   "cell_type": "code",
   "execution_count": 148,
   "id": "fbb774ed",
   "metadata": {},
   "outputs": [
    {
     "name": "stderr",
     "output_type": "stream",
     "text": [
      "100%|███████████████████████████████████████████████████████████████████| 11000/11000 [23:04<00:00,  7.94it/s]\n"
     ]
    }
   ],
   "source": [
    "from kiwipiepy import Kiwi\n",
    "\n",
    "kiwi = Kiwi()\n",
    "tokenized_data = []\n",
    "for sentence in tqdm(train_data):\n",
    "    tmp_list = []\n",
    "    for token, pos, _, _ in kiwi.analyze(sentence)[0][0]:\n",
    "        tmp_list.append(token)\n",
    "    stopwords_removed_sentence = [word for word in tmp_list if not word in stopwords]\n",
    "    tokenized_data.append(stopwords_removed_sentence)"
   ]
  },
  {
   "cell_type": "code",
   "execution_count": 149,
   "id": "22a473c3",
   "metadata": {},
   "outputs": [],
   "source": [
    "model = Word2Vec(sentences = tokenized_data, window=5, min_count=5, workers=4, sg=0)"
   ]
  },
  {
   "cell_type": "code",
   "execution_count": 150,
   "id": "b23eb93e",
   "metadata": {},
   "outputs": [
    {
     "data": {
      "text/plain": [
       "(17753, 100)"
      ]
     },
     "execution_count": 150,
     "metadata": {},
     "output_type": "execute_result"
    }
   ],
   "source": [
    "model.wv.vectors.shape"
   ]
  },
  {
   "cell_type": "code",
   "execution_count": null,
   "id": "6122069e",
   "metadata": {},
   "outputs": [],
   "source": []
  },
  {
   "cell_type": "code",
   "execution_count": 144,
   "id": "6473dce3",
   "metadata": {},
   "outputs": [
    {
     "data": {
      "text/plain": [
       "[]"
      ]
     },
     "execution_count": 144,
     "metadata": {},
     "output_type": "execute_result"
    }
   ],
   "source": [
    "kiwi.extract_words(\"신경\")"
   ]
  }
 ],
 "metadata": {
  "kernelspec": {
   "display_name": "Python 3 (ipykernel)",
   "language": "python",
   "name": "python3"
  },
  "language_info": {
   "codemirror_mode": {
    "name": "ipython",
    "version": 3
   },
   "file_extension": ".py",
   "mimetype": "text/x-python",
   "name": "python",
   "nbconvert_exporter": "python",
   "pygments_lexer": "ipython3",
   "version": "3.9.7"
  }
 },
 "nbformat": 4,
 "nbformat_minor": 5
}
